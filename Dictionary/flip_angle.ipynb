{
 "cells": [
  {
   "cell_type": "code",
   "execution_count": 5,
   "id": "46a80336",
   "metadata": {},
   "outputs": [
    {
     "name": "stderr",
     "output_type": "stream",
     "text": [
      "┌ Info: Loading sequence mpf_001_short.seq ...\n",
      "└ @ KomaMRIFiles C:\\Users\\lucya\\.julia\\packages\\KomaMRIFiles\\Xc9Fh\\src\\Sequence\\Pulseq.jl:339\n"
     ]
    },
    {
     "data": {
      "text/plain": [
       "simulate_slice_profile_x (generic function with 1 method)"
      ]
     },
     "metadata": {},
     "output_type": "display_data"
    }
   ],
   "source": [
    "using KomaMRI, Plots, Unitful\n",
    "\n",
    "seq = read_seq(\"mpf_001_short.seq\")\n",
    "\n",
    "function simulate_slice_profile_x(\n",
    "    seq::Sequence; x=range(-2.e-2, 2.e-2, 200), sim_params=Dict{String,Any}(\"Δt_rf\" => 1e-6)\n",
    ")\n",
    "    sim_params[\"return_type\"] = \"state\"\n",
    "    sys = Scanner()\n",
    "    obj = Phantom{Float64}(; x=Array(x), z=zeros(size(x)))\n",
    "    mag = simulate(obj, seq, sys; sim_params)\n",
    "    return mag\n",
    "end"
   ]
  },
  {
   "cell_type": "code",
   "execution_count": null,
   "id": "c6559c2c",
   "metadata": {},
   "outputs": [],
   "source": [
    "length(seq)\n",
    "size(seq.RF)  # returns (n_rf_blocks_per_pulse, n_rf_pulses)\n",
    "\n",
    "for i in 1:size(seq.RF, 2)\n",
    "    if any(rf -> !iszero(rf.A), seq.RF[:, i])\n",
    "        println(\"Nonzero RF at index $i\")\n",
    "    end\n",
    "end\n",
    "\n",
    "count(i -> any(rf -> !iszero(rf.A), seq.RF[:, i]), 1:size(seq.RF, 2))\n",
    "\n",
    "\n",
    "\n"
   ]
  },
  {
   "cell_type": "code",
   "execution_count": 6,
   "id": "288828e1",
   "metadata": {},
   "outputs": [
    {
     "name": "stdout",
     "output_type": "stream",
     "text": [
      "  0.065576 seconds (150.99 k allocations: 7.563 MiB)\n",
      "Bloch result (|∫ Mxy dx|): 0.0044634\n",
      "Actual FA from Bloch: 26.51°\n"
     ]
    },
    {
     "name": "stderr",
     "output_type": "stream",
     "text": [
      "┌ Info: Running simulation in the CPU with 1 thread(s)\n",
      "│   koma_version = 0.9.1\n",
      "│   sim_method = Bloch()\n",
      "│   spins = 201\n",
      "│   time_points = 1022\n",
      "│   adc_points = 0\n",
      "└ @ KomaMRICore C:\\Users\\lucya\\.julia\\packages\\KomaMRICore\\DEJdd\\src\\simulation\\SimulatorCore.jl:385\n"
     ]
    }
   ],
   "source": [
    "begin\n",
    "\n",
    "    # Define spatial domain (slice direction: x)\n",
    "    x = -0.01:0.0001:0.01  # ±10 mm\n",
    "    Δx = x[2] - x[1]\n",
    "    slice_thickness = 10e-3  # in meters\n",
    "\n",
    "    # Pick RF pulse event to test (e.g., 1035)\n",
    "    rf_event = seq[1035]\n",
    "\n",
    "    # Simulate slice profile along x\n",
    "    M = simulate_slice_profile_x(rf_event; x=x)\n",
    "\n",
    "    # Use M.xy directly (complex: Mx + iMy)\n",
    "    Mxy = M.xy\n",
    "\n",
    "    # Integrate across x and compute magnitude\n",
    "    integral_Mxy = sum(Mxy) * Δx\n",
    "    magnitude_integral = abs(integral_Mxy)\n",
    "\n",
    "    # Theoretical expectation: sin(FA) × slice thickness\n",
    "    #nominal_fa_deg = 30  # set this to the actual FA for rf_event\n",
    "    #nominal_fa_rad = deg2rad(nominal_fa_deg)\n",
    "    #expected = sin(nominal_fa_rad) * slice_thickness\n",
    "\n",
    "    # Print comparison\n",
    "    println(\"Bloch result (|∫ Mxy dx|): \", round(magnitude_integral, sigdigits=5))\n",
    "    #println(\"Expected = sin(fa) × thickness: \", round(expected, sigdigits=5))\n",
    "    #println(\"Relative error: \", round(100 * abs(magnitude_integral - expected) / expected, digits=2), \"%\")\n",
    "\n",
    "    # Plot slice profile\n",
    "    #display(Plots.plot(x .* 1e3, abs.(Mxy), xlabel=\"x (mm)\", ylabel=\"|Mxy|\", title=\"Transverse Slice Profile\"))\n",
    "    \n",
    "\n",
    "    actual_fa_rad = asin(clamp(magnitude_integral / slice_thickness, -1.0, 1.0))\n",
    "    actual_fa_deg = actual_fa_rad * 180 / π\n",
    "    println(\"Actual FA from Bloch: \", round(actual_fa_deg, digits=2), \"°\")\n",
    "\n",
    "end\n",
    "\n"
   ]
  },
  {
   "cell_type": "code",
   "execution_count": 7,
   "id": "ecdfc2b5",
   "metadata": {},
   "outputs": [
    {
     "name": "stderr",
     "output_type": "stream",
     "text": [
      "┌ Info: Running simulation in the CPU with 1 thread(s)\n",
      "│   koma_version = 0.9.1\n",
      "│   sim_method = Bloch()\n",
      "│   spins = 201\n",
      "│   time_points = 6406\n",
      "│   adc_points = 0\n",
      "└ @ KomaMRICore C:\\Users\\lucya\\.julia\\packages\\KomaMRICore\\DEJdd\\src\\simulation\\SimulatorCore.jl:385\n",
      "\u001b[32mRunning simulation...  36%|███████████                   |  ETA: 0:00:00\u001b[39m\u001b[K\n",
      "\n",
      "\n",
      "\u001b[32mRunning simulation...  68%|█████████████████████         |  ETA: 0:00:00\u001b[39m\u001b[K\n",
      "\n",
      "\n",
      "\u001b[32mRunning simulation... 100%|██████████████████████████████| Time: 0:00:00\u001b[39m\u001b[K\n",
      "\u001b[34m   simulated_blocks: 22\u001b[39m\u001b[K\n",
      "\u001b[34m          rf_blocks: 20\u001b[39m\u001b[K\n",
      "\u001b[34m        acq_samples: 0\u001b[39m\u001b[K\n"
     ]
    },
    {
     "name": "stdout",
     "output_type": "stream",
     "text": [
      "  0.316632 seconds (921.75 k allocations: 45.396 MiB)\n"
     ]
    },
    {
     "name": "stderr",
     "output_type": "stream",
     "text": [
      "┌ Info: Running simulation in the CPU with 1 thread(s)\n",
      "│   koma_version = 0.9.1\n",
      "│   sim_method = Bloch()\n",
      "│   spins = 201\n",
      "│   time_points = 1022\n",
      "│   adc_points = 0\n",
      "└ @ KomaMRICore C:\\Users\\lucya\\.julia\\packages\\KomaMRICore\\DEJdd\\src\\simulation\\SimulatorCore.jl:385\n"
     ]
    },
    {
     "name": "stdout",
     "output_type": "stream",
     "text": [
      "  0.061373 seconds (151.51 k allocations: 7.620 MiB)\n",
      "  0.056230 seconds (151.51 k allocations: 7.620 MiB)\n"
     ]
    },
    {
     "name": "stderr",
     "output_type": "stream",
     "text": [
      "┌ Info: Running simulation in the CPU with 1 thread(s)\n",
      "│   koma_version = 0.9.1\n",
      "│   sim_method = Bloch()\n",
      "│   spins = 201\n",
      "│   time_points = 1022\n",
      "│   adc_points = 0\n",
      "└ @ KomaMRICore C:\\Users\\lucya\\.julia\\packages\\KomaMRICore\\DEJdd\\src\\simulation\\SimulatorCore.jl:385\n",
      "┌ Info: Running simulation in the CPU with 1 thread(s)\n",
      "│   koma_version = 0.9.1\n",
      "│   sim_method = Bloch()\n",
      "│   spins = 201\n",
      "│   time_points = 1022\n",
      "│   adc_points = 0\n",
      "└ @ KomaMRICore C:\\Users\\lucya\\.julia\\packages\\KomaMRICore\\DEJdd\\src\\simulation\\SimulatorCore.jl:385\n"
     ]
    },
    {
     "name": "stdout",
     "output_type": "stream",
     "text": [
      "  0.066623 seconds (151.63 k allocations: 7.626 MiB, 32.79% gc time)\n",
      "  0.094339 seconds (151.64 k allocations: 7.626 MiB)\n"
     ]
    },
    {
     "name": "stderr",
     "output_type": "stream",
     "text": [
      "┌ Info: Running simulation in the CPU with 1 thread(s)\n",
      "│   koma_version = 0.9.1\n",
      "│   sim_method = Bloch()\n",
      "│   spins = 201\n",
      "│   time_points = 1022\n",
      "│   adc_points = 0\n",
      "└ @ KomaMRICore C:\\Users\\lucya\\.julia\\packages\\KomaMRICore\\DEJdd\\src\\simulation\\SimulatorCore.jl:385\n"
     ]
    },
    {
     "name": "stdout",
     "output_type": "stream",
     "text": [
      "  0.062816 seconds (151.76 k allocations: 7.631 MiB)\n"
     ]
    },
    {
     "name": "stderr",
     "output_type": "stream",
     "text": [
      "┌ Info: Running simulation in the CPU with 1 thread(s)\n",
      "│   koma_version = 0.9.1\n",
      "│   sim_method = Bloch()\n",
      "│   spins = 201\n",
      "│   time_points = 1022\n",
      "│   adc_points = 0\n",
      "└ @ KomaMRICore C:\\Users\\lucya\\.julia\\packages\\KomaMRICore\\DEJdd\\src\\simulation\\SimulatorCore.jl:385\n",
      "┌ Info: Running simulation in the CPU with 1 thread(s)\n",
      "│   koma_version = 0.9.1\n",
      "│   sim_method = Bloch()\n",
      "│   spins = 201\n",
      "│   time_points = 1022\n",
      "│   adc_points = 0\n",
      "└ @ KomaMRICore C:\\Users\\lucya\\.julia\\packages\\KomaMRICore\\DEJdd\\src\\simulation\\SimulatorCore.jl:385\n"
     ]
    },
    {
     "name": "stdout",
     "output_type": "stream",
     "text": [
      "  0.036690 seconds (151.76 k allocations: 7.631 MiB)\n",
      "  0.046761 seconds (151.76 k allocations: 7.631 MiB)\n",
      "  0.037050 seconds (151.76 k allocations: 7.631 MiB)\n"
     ]
    },
    {
     "name": "stderr",
     "output_type": "stream",
     "text": [
      "┌ Info: Running simulation in the CPU with 1 thread(s)\n",
      "│   koma_version = 0.9.1\n",
      "│   sim_method = Bloch()\n",
      "│   spins = 201\n",
      "│   time_points = 1022\n",
      "│   adc_points = 0\n",
      "└ @ KomaMRICore C:\\Users\\lucya\\.julia\\packages\\KomaMRICore\\DEJdd\\src\\simulation\\SimulatorCore.jl:385\n",
      "┌ Info: Running simulation in the CPU with 1 thread(s)\n",
      "│   koma_version = 0.9.1\n",
      "│   sim_method = Bloch()\n",
      "│   spins = 201\n",
      "│   time_points = 1022\n",
      "│   adc_points = 0\n",
      "└ @ KomaMRICore C:\\Users\\lucya\\.julia\\packages\\KomaMRICore\\DEJdd\\src\\simulation\\SimulatorCore.jl:385\n",
      "┌ Info: Running simulation in the CPU with 1 thread(s)\n",
      "│   koma_version = 0.9.1\n",
      "│   sim_method = Bloch()\n",
      "│   spins = 201\n",
      "│   time_points = 1022\n",
      "│   adc_points = 0\n",
      "└ @ KomaMRICore C:\\Users\\lucya\\.julia\\packages\\KomaMRICore\\DEJdd\\src\\simulation\\SimulatorCore.jl:385\n"
     ]
    },
    {
     "name": "stdout",
     "output_type": "stream",
     "text": [
      "  0.038537 seconds (151.76 k allocations: 7.631 MiB)\n",
      "  0.059310 seconds (151.76 k allocations: 7.631 MiB)\n"
     ]
    },
    {
     "name": "stderr",
     "output_type": "stream",
     "text": [
      "┌ Info: Running simulation in the CPU with 1 thread(s)\n",
      "│   koma_version = 0.9.1\n",
      "│   sim_method = Bloch()\n",
      "│   spins = 201\n",
      "│   time_points = 1022\n",
      "│   adc_points = 0\n",
      "└ @ KomaMRICore C:\\Users\\lucya\\.julia\\packages\\KomaMRICore\\DEJdd\\src\\simulation\\SimulatorCore.jl:385\n",
      "┌ Info: Running simulation in the CPU with 1 thread(s)\n",
      "│   koma_version = 0.9.1\n",
      "│   sim_method = Bloch()\n",
      "│   spins = 201\n",
      "│   time_points = 1022\n",
      "│   adc_points = 0\n",
      "└ @ KomaMRICore C:\\Users\\lucya\\.julia\\packages\\KomaMRICore\\DEJdd\\src\\simulation\\SimulatorCore.jl:385\n"
     ]
    },
    {
     "name": "stdout",
     "output_type": "stream",
     "text": [
      "  0.076842 seconds (151.76 k allocations: 7.631 MiB, 24.67% gc time)\n",
      "  0.079462 seconds (151.76 k allocations: 7.631 MiB)\n"
     ]
    },
    {
     "name": "stderr",
     "output_type": "stream",
     "text": [
      "┌ Info: Running simulation in the CPU with 1 thread(s)\n",
      "│   koma_version = 0.9.1\n",
      "│   sim_method = Bloch()\n",
      "│   spins = 201\n",
      "│   time_points = 1022\n",
      "│   adc_points = 0\n",
      "└ @ KomaMRICore C:\\Users\\lucya\\.julia\\packages\\KomaMRICore\\DEJdd\\src\\simulation\\SimulatorCore.jl:385\n",
      "┌ Info: Running simulation in the CPU with 1 thread(s)\n",
      "│   koma_version = 0.9.1\n",
      "│   sim_method = Bloch()\n",
      "│   spins = 201\n",
      "│   time_points = 1022\n",
      "│   adc_points = 0\n",
      "└ @ KomaMRICore C:\\Users\\lucya\\.julia\\packages\\KomaMRICore\\DEJdd\\src\\simulation\\SimulatorCore.jl:385\n"
     ]
    },
    {
     "name": "stdout",
     "output_type": "stream",
     "text": [
      "  0.068480 seconds (151.76 k allocations: 7.631 MiB)\n",
      "  0.078450 seconds (151.76 k allocations: 7.631 MiB)\n"
     ]
    },
    {
     "name": "stderr",
     "output_type": "stream",
     "text": [
      "┌ Info: Running simulation in the CPU with 1 thread(s)\n",
      "│   koma_version = 0.9.1\n",
      "│   sim_method = Bloch()\n",
      "│   spins = 201\n",
      "│   time_points = 1022\n",
      "│   adc_points = 0\n",
      "└ @ KomaMRICore C:\\Users\\lucya\\.julia\\packages\\KomaMRICore\\DEJdd\\src\\simulation\\SimulatorCore.jl:385\n",
      "┌ Info: Running simulation in the CPU with 1 thread(s)\n",
      "│   koma_version = 0.9.1\n",
      "│   sim_method = Bloch()\n",
      "│   spins = 201\n",
      "│   time_points = 1022\n",
      "│   adc_points = 0\n",
      "└ @ KomaMRICore C:\\Users\\lucya\\.julia\\packages\\KomaMRICore\\DEJdd\\src\\simulation\\SimulatorCore.jl:385\n"
     ]
    },
    {
     "name": "stdout",
     "output_type": "stream",
     "text": [
      "  0.062074 seconds (151.76 k allocations: 7.631 MiB)\n",
      "  0.036965 seconds (151.88 k allocations: 7.637 MiB)\n",
      "  0.041293 seconds (151.88 k allocations: 7.637 MiB)\n"
     ]
    },
    {
     "name": "stderr",
     "output_type": "stream",
     "text": [
      "┌ Info: Running simulation in the CPU with 1 thread(s)\n",
      "│   koma_version = 0.9.1\n",
      "│   sim_method = Bloch()\n",
      "│   spins = 201\n",
      "│   time_points = 1022\n",
      "│   adc_points = 0\n",
      "└ @ KomaMRICore C:\\Users\\lucya\\.julia\\packages\\KomaMRICore\\DEJdd\\src\\simulation\\SimulatorCore.jl:385\n",
      "┌ Info: Running simulation in the CPU with 1 thread(s)\n",
      "│   koma_version = 0.9.1\n",
      "│   sim_method = Bloch()\n",
      "│   spins = 201\n",
      "│   time_points = 1022\n",
      "│   adc_points = 0\n",
      "└ @ KomaMRICore C:\\Users\\lucya\\.julia\\packages\\KomaMRICore\\DEJdd\\src\\simulation\\SimulatorCore.jl:385\n",
      "┌ Info: Running simulation in the CPU with 1 thread(s)\n",
      "│   koma_version = 0.9.1\n",
      "│   sim_method = Bloch()\n",
      "│   spins = 201\n",
      "│   time_points = 1022\n",
      "│   adc_points = 0\n",
      "└ @ KomaMRICore C:\\Users\\lucya\\.julia\\packages\\KomaMRICore\\DEJdd\\src\\simulation\\SimulatorCore.jl:385\n"
     ]
    },
    {
     "name": "stdout",
     "output_type": "stream",
     "text": [
      "  0.044053 seconds (151.88 k allocations: 7.637 MiB)\n",
      "  0.060414 seconds (151.88 k allocations: 7.637 MiB, 26.43% gc time)\n"
     ]
    },
    {
     "name": "stderr",
     "output_type": "stream",
     "text": [
      "┌ Info: Running simulation in the CPU with 1 thread(s)\n",
      "│   koma_version = 0.9.1\n",
      "│   sim_method = Bloch()\n",
      "│   spins = 201\n",
      "│   time_points = 1022\n",
      "│   adc_points = 0\n",
      "└ @ KomaMRICore C:\\Users\\lucya\\.julia\\packages\\KomaMRICore\\DEJdd\\src\\simulation\\SimulatorCore.jl:385\n",
      "┌ Info: Running simulation in the CPU with 1 thread(s)\n",
      "│   koma_version = 0.9.1\n",
      "│   sim_method = Bloch()\n",
      "│   spins = 201\n",
      "│   time_points = 1022\n",
      "│   adc_points = 0\n",
      "└ @ KomaMRICore C:\\Users\\lucya\\.julia\\packages\\KomaMRICore\\DEJdd\\src\\simulation\\SimulatorCore.jl:385\n"
     ]
    },
    {
     "name": "stdout",
     "output_type": "stream",
     "text": [
      "  0.046879 seconds (151.88 k allocations: 7.637 MiB)\n",
      "  0.057129 seconds (151.88 k allocations: 7.637 MiB)\n"
     ]
    },
    {
     "name": "stderr",
     "output_type": "stream",
     "text": [
      "┌ Info: Running simulation in the CPU with 1 thread(s)\n",
      "│   koma_version = 0.9.1\n",
      "│   sim_method = Bloch()\n",
      "│   spins = 201\n",
      "│   time_points = 1022\n",
      "│   adc_points = 0\n",
      "└ @ KomaMRICore C:\\Users\\lucya\\.julia\\packages\\KomaMRICore\\DEJdd\\src\\simulation\\SimulatorCore.jl:385\n",
      "┌ Info: Running simulation in the CPU with 1 thread(s)\n",
      "│   koma_version = 0.9.1\n",
      "│   sim_method = Bloch()\n",
      "│   spins = 201\n",
      "│   time_points = 1022\n",
      "│   adc_points = 0\n",
      "└ @ KomaMRICore C:\\Users\\lucya\\.julia\\packages\\KomaMRICore\\DEJdd\\src\\simulation\\SimulatorCore.jl:385\n"
     ]
    },
    {
     "name": "stdout",
     "output_type": "stream",
     "text": [
      "  0.055714 seconds (151.88 k allocations: 7.637 MiB)\n",
      "  0.053457 seconds (151.88 k allocations: 7.637 MiB)\n"
     ]
    },
    {
     "name": "stderr",
     "output_type": "stream",
     "text": [
      "┌ Info: Running simulation in the CPU with 1 thread(s)\n",
      "│   koma_version = 0.9.1\n",
      "│   sim_method = Bloch()\n",
      "│   spins = 201\n",
      "│   time_points = 1022\n",
      "│   adc_points = 0\n",
      "└ @ KomaMRICore C:\\Users\\lucya\\.julia\\packages\\KomaMRICore\\DEJdd\\src\\simulation\\SimulatorCore.jl:385\n",
      "┌ Info: Running simulation in the CPU with 1 thread(s)\n",
      "│   koma_version = 0.9.1\n",
      "│   sim_method = Bloch()\n",
      "│   spins = 201\n",
      "│   time_points = 1022\n",
      "│   adc_points = 0\n",
      "└ @ KomaMRICore C:\\Users\\lucya\\.julia\\packages\\KomaMRICore\\DEJdd\\src\\simulation\\SimulatorCore.jl:385\n"
     ]
    },
    {
     "name": "stdout",
     "output_type": "stream",
     "text": [
      "  0.049647 seconds (151.88 k allocations: 7.637 MiB)\n",
      "  0.034575 seconds (151.88 k allocations: 7.637 MiB)\n"
     ]
    },
    {
     "name": "stderr",
     "output_type": "stream",
     "text": [
      "┌ Info: Running simulation in the CPU with 1 thread(s)\n",
      "│   koma_version = 0.9.1\n",
      "│   sim_method = Bloch()\n",
      "│   spins = 201\n",
      "│   time_points = 1022\n",
      "│   adc_points = 0\n",
      "└ @ KomaMRICore C:\\Users\\lucya\\.julia\\packages\\KomaMRICore\\DEJdd\\src\\simulation\\SimulatorCore.jl:385\n",
      "┌ Info: Running simulation in the CPU with 1 thread(s)\n",
      "│   koma_version = 0.9.1\n",
      "│   sim_method = Bloch()\n",
      "│   spins = 201\n",
      "│   time_points = 1022\n",
      "│   adc_points = 0\n",
      "└ @ KomaMRICore C:\\Users\\lucya\\.julia\\packages\\KomaMRICore\\DEJdd\\src\\simulation\\SimulatorCore.jl:385\n"
     ]
    },
    {
     "name": "stdout",
     "output_type": "stream",
     "text": [
      "  0.061422 seconds (151.88 k allocations: 7.637 MiB)\n"
     ]
    },
    {
     "name": "stderr",
     "output_type": "stream",
     "text": [
      "┌ Info: Running simulation in the CPU with 1 thread(s)\n",
      "│   koma_version = 0.9.1\n",
      "│   sim_method = Bloch()\n",
      "│   spins = 201\n",
      "│   time_points = 1022\n",
      "│   adc_points = 0\n",
      "└ @ KomaMRICore C:\\Users\\lucya\\.julia\\packages\\KomaMRICore\\DEJdd\\src\\simulation\\SimulatorCore.jl:385\n"
     ]
    },
    {
     "name": "stdout",
     "output_type": "stream",
     "text": [
      "  0.098890 seconds (151.88 k allocations: 7.637 MiB)\n"
     ]
    },
    {
     "name": "stderr",
     "output_type": "stream",
     "text": [
      "┌ Info: Running simulation in the CPU with 1 thread(s)\n",
      "│   koma_version = 0.9.1\n",
      "│   sim_method = Bloch()\n",
      "│   spins = 201\n",
      "│   time_points = 1022\n",
      "│   adc_points = 0\n",
      "└ @ KomaMRICore C:\\Users\\lucya\\.julia\\packages\\KomaMRICore\\DEJdd\\src\\simulation\\SimulatorCore.jl:385\n",
      "\u001b[32mRunning simulation...  88%|███████████████████████████   |  ETA: 0:00:00\u001b[39m\u001b[K\n",
      "\n",
      "\n",
      "\u001b[32mRunning simulation... 100%|██████████████████████████████| Time: 0:00:00\u001b[39m\u001b[K\n",
      "\u001b[34m   simulated_blocks: 26\u001b[39m\u001b[K\n",
      "\u001b[34m          rf_blocks: 22\u001b[39m\u001b[K\n",
      "\u001b[34m        acq_samples: 0\u001b[39m\u001b[K\n"
     ]
    },
    {
     "name": "stdout",
     "output_type": "stream",
     "text": [
      "  0.122537 seconds (152.60 k allocations: 7.674 MiB, 22.28% gc time)\n"
     ]
    },
    {
     "name": "stderr",
     "output_type": "stream",
     "text": [
      "┌ Info: Running simulation in the CPU with 1 thread(s)\n",
      "│   koma_version = 0.9.1\n",
      "│   sim_method = Bloch()\n",
      "│   spins = 201\n",
      "│   time_points = 1022\n",
      "│   adc_points = 0\n",
      "└ @ KomaMRICore C:\\Users\\lucya\\.julia\\packages\\KomaMRICore\\DEJdd\\src\\simulation\\SimulatorCore.jl:385\n"
     ]
    },
    {
     "name": "stdout",
     "output_type": "stream",
     "text": [
      "  0.097717 seconds (151.88 k allocations: 7.637 MiB)\n",
      "  0.072121 seconds (151.88 k allocations: 7.637 MiB)\n"
     ]
    },
    {
     "name": "stderr",
     "output_type": "stream",
     "text": [
      "┌ Info: Running simulation in the CPU with 1 thread(s)\n",
      "│   koma_version = 0.9.1\n",
      "│   sim_method = Bloch()\n",
      "│   spins = 201\n",
      "│   time_points = 1022\n",
      "│   adc_points = 0\n",
      "└ @ KomaMRICore C:\\Users\\lucya\\.julia\\packages\\KomaMRICore\\DEJdd\\src\\simulation\\SimulatorCore.jl:385\n",
      "┌ Info: Running simulation in the CPU with 1 thread(s)\n",
      "│   koma_version = 0.9.1\n",
      "│   sim_method = Bloch()\n",
      "│   spins = 201\n",
      "│   time_points = 1022\n",
      "│   adc_points = 0\n",
      "└ @ KomaMRICore C:\\Users\\lucya\\.julia\\packages\\KomaMRICore\\DEJdd\\src\\simulation\\SimulatorCore.jl:385\n"
     ]
    },
    {
     "name": "stdout",
     "output_type": "stream",
     "text": [
      "  0.084252 seconds (151.88 k allocations: 7.637 MiB)\n",
      "  0.065983 seconds (151.88 k allocations: 7.637 MiB)\n"
     ]
    },
    {
     "name": "stderr",
     "output_type": "stream",
     "text": [
      "┌ Info: Running simulation in the CPU with 1 thread(s)\n",
      "│   koma_version = 0.9.1\n",
      "│   sim_method = Bloch()\n",
      "│   spins = 201\n",
      "│   time_points = 1022\n",
      "│   adc_points = 0\n",
      "└ @ KomaMRICore C:\\Users\\lucya\\.julia\\packages\\KomaMRICore\\DEJdd\\src\\simulation\\SimulatorCore.jl:385\n",
      "┌ Info: Running simulation in the CPU with 1 thread(s)\n",
      "│   koma_version = 0.9.1\n",
      "│   sim_method = Bloch()\n",
      "│   spins = 201\n",
      "│   time_points = 1022\n",
      "│   adc_points = 0\n",
      "└ @ KomaMRICore C:\\Users\\lucya\\.julia\\packages\\KomaMRICore\\DEJdd\\src\\simulation\\SimulatorCore.jl:385\n"
     ]
    },
    {
     "name": "stdout",
     "output_type": "stream",
     "text": [
      "  0.073242 seconds (151.88 k allocations: 7.637 MiB)\n",
      "  0.046086 seconds (151.88 k allocations: 7.637 MiB)\n",
      "  0.040889 seconds (151.88 k allocations: 7.637 MiB)\n"
     ]
    },
    {
     "name": "stderr",
     "output_type": "stream",
     "text": [
      "┌ Info: Running simulation in the CPU with 1 thread(s)\n",
      "│   koma_version = 0.9.1\n",
      "│   sim_method = Bloch()\n",
      "│   spins = 201\n",
      "│   time_points = 1022\n",
      "│   adc_points = 0\n",
      "└ @ KomaMRICore C:\\Users\\lucya\\.julia\\packages\\KomaMRICore\\DEJdd\\src\\simulation\\SimulatorCore.jl:385\n",
      "┌ Info: Running simulation in the CPU with 1 thread(s)\n",
      "│   koma_version = 0.9.1\n",
      "│   sim_method = Bloch()\n",
      "│   spins = 201\n",
      "│   time_points = 1022\n",
      "│   adc_points = 0\n",
      "└ @ KomaMRICore C:\\Users\\lucya\\.julia\\packages\\KomaMRICore\\DEJdd\\src\\simulation\\SimulatorCore.jl:385\n",
      "┌ Info: Running simulation in the CPU with 1 thread(s)\n",
      "│   koma_version = 0.9.1\n",
      "│   sim_method = Bloch()\n",
      "│   spins = 201\n",
      "│   time_points = 1022\n",
      "│   adc_points = 0\n",
      "└ @ KomaMRICore C:\\Users\\lucya\\.julia\\packages\\KomaMRICore\\DEJdd\\src\\simulation\\SimulatorCore.jl:385\n"
     ]
    },
    {
     "name": "stdout",
     "output_type": "stream",
     "text": [
      "  0.053081 seconds (151.88 k allocations: 7.637 MiB, 23.23% gc time)\n",
      "  0.037455 seconds (151.88 k allocations: 7.637 MiB)\n",
      "  0.046466 seconds (151.88 k allocations: 7.637 MiB)\n"
     ]
    },
    {
     "name": "stderr",
     "output_type": "stream",
     "text": [
      "┌ Info: Running simulation in the CPU with 1 thread(s)\n",
      "│   koma_version = 0.9.1\n",
      "│   sim_method = Bloch()\n",
      "│   spins = 201\n",
      "│   time_points = 1022\n",
      "│   adc_points = 0\n",
      "└ @ KomaMRICore C:\\Users\\lucya\\.julia\\packages\\KomaMRICore\\DEJdd\\src\\simulation\\SimulatorCore.jl:385\n",
      "┌ Info: Running simulation in the CPU with 1 thread(s)\n",
      "│   koma_version = 0.9.1\n",
      "│   sim_method = Bloch()\n",
      "│   spins = 201\n",
      "│   time_points = 1022\n",
      "│   adc_points = 0\n",
      "└ @ KomaMRICore C:\\Users\\lucya\\.julia\\packages\\KomaMRICore\\DEJdd\\src\\simulation\\SimulatorCore.jl:385\n",
      "┌ Info: Running simulation in the CPU with 1 thread(s)\n",
      "│   koma_version = 0.9.1\n",
      "│   sim_method = Bloch()\n",
      "│   spins = 201\n",
      "│   time_points = 1022\n",
      "│   adc_points = 0\n",
      "└ @ KomaMRICore C:\\Users\\lucya\\.julia\\packages\\KomaMRICore\\DEJdd\\src\\simulation\\SimulatorCore.jl:385\n"
     ]
    },
    {
     "name": "stdout",
     "output_type": "stream",
     "text": [
      "  0.053701 seconds (151.88 k allocations: 7.637 MiB)\n",
      "  0.042821 seconds (151.88 k allocations: 7.637 MiB)\n"
     ]
    },
    {
     "name": "stderr",
     "output_type": "stream",
     "text": [
      "┌ Info: Running simulation in the CPU with 1 thread(s)\n",
      "│   koma_version = 0.9.1\n",
      "│   sim_method = Bloch()\n",
      "│   spins = 201\n",
      "│   time_points = 1022\n",
      "│   adc_points = 0\n",
      "└ @ KomaMRICore C:\\Users\\lucya\\.julia\\packages\\KomaMRICore\\DEJdd\\src\\simulation\\SimulatorCore.jl:385\n",
      "┌ Info: Running simulation in the CPU with 1 thread(s)\n",
      "│   koma_version = 0.9.1\n",
      "│   sim_method = Bloch()\n",
      "│   spins = 201\n",
      "│   time_points = 1022\n",
      "│   adc_points = 0\n",
      "└ @ KomaMRICore C:\\Users\\lucya\\.julia\\packages\\KomaMRICore\\DEJdd\\src\\simulation\\SimulatorCore.jl:385\n"
     ]
    },
    {
     "name": "stdout",
     "output_type": "stream",
     "text": [
      "  0.067779 seconds (151.42 k allocations: 7.599 MiB)\n",
      "  0.074626 seconds (151.42 k allocations: 7.599 MiB)\n"
     ]
    },
    {
     "name": "stderr",
     "output_type": "stream",
     "text": [
      "┌ Info: Running simulation in the CPU with 1 thread(s)\n",
      "│   koma_version = 0.9.1\n",
      "│   sim_method = Bloch()\n",
      "│   spins = 201\n",
      "│   time_points = 1022\n",
      "│   adc_points = 0\n",
      "└ @ KomaMRICore C:\\Users\\lucya\\.julia\\packages\\KomaMRICore\\DEJdd\\src\\simulation\\SimulatorCore.jl:385\n",
      "┌ Info: Running simulation in the CPU with 1 thread(s)\n",
      "│   koma_version = 0.9.1\n",
      "│   sim_method = Bloch()\n",
      "│   spins = 201\n",
      "│   time_points = 1022\n",
      "│   adc_points = 0\n",
      "└ @ KomaMRICore C:\\Users\\lucya\\.julia\\packages\\KomaMRICore\\DEJdd\\src\\simulation\\SimulatorCore.jl:385\n"
     ]
    },
    {
     "name": "stdout",
     "output_type": "stream",
     "text": [
      "  0.040600 seconds (151.41 k allocations: 7.599 MiB)\n",
      "  0.070329 seconds (151.41 k allocations: 7.599 MiB, 19.12% gc time)\n"
     ]
    },
    {
     "name": "stderr",
     "output_type": "stream",
     "text": [
      "┌ Info: Running simulation in the CPU with 1 thread(s)\n",
      "│   koma_version = 0.9.1\n",
      "│   sim_method = Bloch()\n",
      "│   spins = 201\n",
      "│   time_points = 1022\n",
      "│   adc_points = 0\n",
      "└ @ KomaMRICore C:\\Users\\lucya\\.julia\\packages\\KomaMRICore\\DEJdd\\src\\simulation\\SimulatorCore.jl:385\n",
      "┌ Info: Running simulation in the CPU with 1 thread(s)\n",
      "│   koma_version = 0.9.1\n",
      "│   sim_method = Bloch()\n",
      "│   spins = 201\n",
      "│   time_points = 1022\n",
      "│   adc_points = 0\n",
      "└ @ KomaMRICore C:\\Users\\lucya\\.julia\\packages\\KomaMRICore\\DEJdd\\src\\simulation\\SimulatorCore.jl:385\n"
     ]
    },
    {
     "name": "stdout",
     "output_type": "stream",
     "text": [
      "  0.043955 seconds (151.41 k allocations: 7.599 MiB)\n",
      "  0.081399 seconds (151.41 k allocations: 7.599 MiB)\n"
     ]
    },
    {
     "name": "stderr",
     "output_type": "stream",
     "text": [
      "┌ Info: Running simulation in the CPU with 1 thread(s)\n",
      "│   koma_version = 0.9.1\n",
      "│   sim_method = Bloch()\n",
      "│   spins = 201\n",
      "│   time_points = 1022\n",
      "│   adc_points = 0\n",
      "└ @ KomaMRICore C:\\Users\\lucya\\.julia\\packages\\KomaMRICore\\DEJdd\\src\\simulation\\SimulatorCore.jl:385\n",
      "┌ Info: Running simulation in the CPU with 1 thread(s)\n",
      "│   koma_version = 0.9.1\n",
      "│   sim_method = Bloch()\n",
      "│   spins = 201\n",
      "│   time_points = 1022\n",
      "│   adc_points = 0\n",
      "└ @ KomaMRICore C:\\Users\\lucya\\.julia\\packages\\KomaMRICore\\DEJdd\\src\\simulation\\SimulatorCore.jl:385\n"
     ]
    },
    {
     "name": "stdout",
     "output_type": "stream",
     "text": [
      "  0.078741 seconds (151.42 k allocations: 7.599 MiB)\n",
      "  0.054694 seconds (151.42 k allocations: 7.599 MiB)\n"
     ]
    },
    {
     "name": "stderr",
     "output_type": "stream",
     "text": [
      "┌ Info: Running simulation in the CPU with 1 thread(s)\n",
      "│   koma_version = 0.9.1\n",
      "│   sim_method = Bloch()\n",
      "│   spins = 201\n",
      "│   time_points = 1022\n",
      "│   adc_points = 0\n",
      "└ @ KomaMRICore C:\\Users\\lucya\\.julia\\packages\\KomaMRICore\\DEJdd\\src\\simulation\\SimulatorCore.jl:385\n",
      "┌ Info: Running simulation in the CPU with 1 thread(s)\n",
      "│   koma_version = 0.9.1\n",
      "│   sim_method = Bloch()\n",
      "│   spins = 201\n",
      "│   time_points = 1022\n",
      "│   adc_points = 0\n",
      "└ @ KomaMRICore C:\\Users\\lucya\\.julia\\packages\\KomaMRICore\\DEJdd\\src\\simulation\\SimulatorCore.jl:385\n"
     ]
    },
    {
     "name": "stdout",
     "output_type": "stream",
     "text": [
      "  0.073634 seconds (151.41 k allocations: 7.599 MiB)\n",
      "  0.068183 seconds (151.41 k allocations: 7.599 MiB)\n"
     ]
    },
    {
     "name": "stderr",
     "output_type": "stream",
     "text": [
      "┌ Info: Running simulation in the CPU with 1 thread(s)\n",
      "│   koma_version = 0.9.1\n",
      "│   sim_method = Bloch()\n",
      "│   spins = 201\n",
      "│   time_points = 1022\n",
      "│   adc_points = 0\n",
      "└ @ KomaMRICore C:\\Users\\lucya\\.julia\\packages\\KomaMRICore\\DEJdd\\src\\simulation\\SimulatorCore.jl:385\n",
      "┌ Info: Running simulation in the CPU with 1 thread(s)\n",
      "│   koma_version = 0.9.1\n",
      "│   sim_method = Bloch()\n",
      "│   spins = 201\n",
      "│   time_points = 1022\n",
      "│   adc_points = 0\n",
      "└ @ KomaMRICore C:\\Users\\lucya\\.julia\\packages\\KomaMRICore\\DEJdd\\src\\simulation\\SimulatorCore.jl:385\n"
     ]
    },
    {
     "name": "stdout",
     "output_type": "stream",
     "text": [
      "  0.059520 seconds (151.42 k allocations: 7.599 MiB)\n",
      "  0.069907 seconds (151.42 k allocations: 7.599 MiB, 17.00% gc time)\n"
     ]
    },
    {
     "name": "stderr",
     "output_type": "stream",
     "text": [
      "┌ Info: Running simulation in the CPU with 1 thread(s)\n",
      "│   koma_version = 0.9.1\n",
      "│   sim_method = Bloch()\n",
      "│   spins = 201\n",
      "│   time_points = 1022\n",
      "│   adc_points = 0\n",
      "└ @ KomaMRICore C:\\Users\\lucya\\.julia\\packages\\KomaMRICore\\DEJdd\\src\\simulation\\SimulatorCore.jl:385\n",
      "┌ Info: Running simulation in the CPU with 1 thread(s)\n",
      "│   koma_version = 0.9.1\n",
      "│   sim_method = Bloch()\n",
      "│   spins = 201\n",
      "│   time_points = 1022\n",
      "│   adc_points = 0\n",
      "└ @ KomaMRICore C:\\Users\\lucya\\.julia\\packages\\KomaMRICore\\DEJdd\\src\\simulation\\SimulatorCore.jl:385\n"
     ]
    },
    {
     "name": "stdout",
     "output_type": "stream",
     "text": [
      "  0.045885 seconds (151.42 k allocations: 7.599 MiB)\n",
      "  0.033188 seconds (151.42 k allocations: 7.599 MiB)\n",
      "  0.038021 seconds (151.42 k allocations: 7.599 MiB)\n"
     ]
    },
    {
     "name": "stderr",
     "output_type": "stream",
     "text": [
      "┌ Info: Running simulation in the CPU with 1 thread(s)\n",
      "│   koma_version = 0.9.1\n",
      "│   sim_method = Bloch()\n",
      "│   spins = 201\n",
      "│   time_points = 1022\n",
      "│   adc_points = 0\n",
      "└ @ KomaMRICore C:\\Users\\lucya\\.julia\\packages\\KomaMRICore\\DEJdd\\src\\simulation\\SimulatorCore.jl:385\n",
      "┌ Info: Running simulation in the CPU with 1 thread(s)\n",
      "│   koma_version = 0.9.1\n",
      "│   sim_method = Bloch()\n",
      "│   spins = 201\n",
      "│   time_points = 1022\n",
      "│   adc_points = 0\n",
      "└ @ KomaMRICore C:\\Users\\lucya\\.julia\\packages\\KomaMRICore\\DEJdd\\src\\simulation\\SimulatorCore.jl:385\n",
      "┌ Info: Running simulation in the CPU with 1 thread(s)\n",
      "│   koma_version = 0.9.1\n",
      "│   sim_method = Bloch()\n",
      "│   spins = 201\n",
      "│   time_points = 1022\n",
      "│   adc_points = 0\n",
      "└ @ KomaMRICore C:\\Users\\lucya\\.julia\\packages\\KomaMRICore\\DEJdd\\src\\simulation\\SimulatorCore.jl:385\n"
     ]
    },
    {
     "name": "stdout",
     "output_type": "stream",
     "text": [
      "  0.036635 seconds (151.41 k allocations: 7.599 MiB)\n",
      "  0.033117 seconds (151.42 k allocations: 7.599 MiB)\n",
      "  0.042942 seconds (151.41 k allocations: 7.599 MiB)\n"
     ]
    },
    {
     "name": "stderr",
     "output_type": "stream",
     "text": [
      "┌ Info: Running simulation in the CPU with 1 thread(s)\n",
      "│   koma_version = 0.9.1\n",
      "│   sim_method = Bloch()\n",
      "│   spins = 201\n",
      "│   time_points = 1022\n",
      "│   adc_points = 0\n",
      "└ @ KomaMRICore C:\\Users\\lucya\\.julia\\packages\\KomaMRICore\\DEJdd\\src\\simulation\\SimulatorCore.jl:385\n",
      "┌ Info: Running simulation in the CPU with 1 thread(s)\n",
      "│   koma_version = 0.9.1\n",
      "│   sim_method = Bloch()\n",
      "│   spins = 201\n",
      "│   time_points = 1022\n",
      "│   adc_points = 0\n",
      "└ @ KomaMRICore C:\\Users\\lucya\\.julia\\packages\\KomaMRICore\\DEJdd\\src\\simulation\\SimulatorCore.jl:385\n",
      "┌ Info: Running simulation in the CPU with 1 thread(s)\n",
      "│   koma_version = 0.9.1\n",
      "│   sim_method = Bloch()\n",
      "│   spins = 201\n",
      "│   time_points = 1022\n",
      "│   adc_points = 0\n",
      "└ @ KomaMRICore C:\\Users\\lucya\\.julia\\packages\\KomaMRICore\\DEJdd\\src\\simulation\\SimulatorCore.jl:385\n"
     ]
    },
    {
     "name": "stdout",
     "output_type": "stream",
     "text": [
      "  0.062567 seconds (151.41 k allocations: 7.599 MiB)\n",
      "  0.047643 seconds (151.42 k allocations: 7.599 MiB)\n"
     ]
    },
    {
     "name": "stderr",
     "output_type": "stream",
     "text": [
      "┌ Info: Running simulation in the CPU with 1 thread(s)\n",
      "│   koma_version = 0.9.1\n",
      "│   sim_method = Bloch()\n",
      "│   spins = 201\n",
      "│   time_points = 1022\n",
      "│   adc_points = 0\n",
      "└ @ KomaMRICore C:\\Users\\lucya\\.julia\\packages\\KomaMRICore\\DEJdd\\src\\simulation\\SimulatorCore.jl:385\n",
      "┌ Info: Running simulation in the CPU with 1 thread(s)\n",
      "│   koma_version = 0.9.1\n",
      "│   sim_method = Bloch()\n",
      "│   spins = 201\n",
      "│   time_points = 1022\n",
      "│   adc_points = 0\n",
      "└ @ KomaMRICore C:\\Users\\lucya\\.julia\\packages\\KomaMRICore\\DEJdd\\src\\simulation\\SimulatorCore.jl:385\n"
     ]
    },
    {
     "name": "stdout",
     "output_type": "stream",
     "text": [
      "  0.081789 seconds (151.42 k allocations: 7.599 MiB, 25.25% gc time)\n",
      "  0.072368 seconds (151.41 k allocations: 7.599 MiB)\n"
     ]
    },
    {
     "name": "stderr",
     "output_type": "stream",
     "text": [
      "┌ Info: Running simulation in the CPU with 1 thread(s)\n",
      "│   koma_version = 0.9.1\n",
      "│   sim_method = Bloch()\n",
      "│   spins = 201\n",
      "│   time_points = 1022\n",
      "│   adc_points = 0\n",
      "└ @ KomaMRICore C:\\Users\\lucya\\.julia\\packages\\KomaMRICore\\DEJdd\\src\\simulation\\SimulatorCore.jl:385\n",
      "┌ Info: Running simulation in the CPU with 1 thread(s)\n",
      "│   koma_version = 0.9.1\n",
      "│   sim_method = Bloch()\n",
      "│   spins = 201\n",
      "│   time_points = 1022\n",
      "│   adc_points = 0\n",
      "└ @ KomaMRICore C:\\Users\\lucya\\.julia\\packages\\KomaMRICore\\DEJdd\\src\\simulation\\SimulatorCore.jl:385\n"
     ]
    },
    {
     "name": "stdout",
     "output_type": "stream",
     "text": [
      "  0.045578 seconds (151.41 k allocations: 7.599 MiB)\n",
      "  0.077895 seconds (151.41 k allocations: 7.599 MiB)\n"
     ]
    },
    {
     "name": "stderr",
     "output_type": "stream",
     "text": [
      "┌ Info: Running simulation in the CPU with 1 thread(s)\n",
      "│   koma_version = 0.9.1\n",
      "│   sim_method = Bloch()\n",
      "│   spins = 201\n",
      "│   time_points = 1022\n",
      "│   adc_points = 0\n",
      "└ @ KomaMRICore C:\\Users\\lucya\\.julia\\packages\\KomaMRICore\\DEJdd\\src\\simulation\\SimulatorCore.jl:385\n",
      "┌ Info: Running simulation in the CPU with 1 thread(s)\n",
      "│   koma_version = 0.9.1\n",
      "│   sim_method = Bloch()\n",
      "│   spins = 201\n",
      "│   time_points = 1022\n",
      "│   adc_points = 0\n",
      "└ @ KomaMRICore C:\\Users\\lucya\\.julia\\packages\\KomaMRICore\\DEJdd\\src\\simulation\\SimulatorCore.jl:385\n"
     ]
    },
    {
     "name": "stdout",
     "output_type": "stream",
     "text": [
      "  0.075295 seconds (151.41 k allocations: 7.599 MiB)\n",
      "  0.053279 seconds (151.41 k allocations: 7.599 MiB)\n"
     ]
    },
    {
     "name": "stderr",
     "output_type": "stream",
     "text": [
      "┌ Info: Running simulation in the CPU with 1 thread(s)\n",
      "│   koma_version = 0.9.1\n",
      "│   sim_method = Bloch()\n",
      "│   spins = 201\n",
      "│   time_points = 1022\n",
      "│   adc_points = 0\n",
      "└ @ KomaMRICore C:\\Users\\lucya\\.julia\\packages\\KomaMRICore\\DEJdd\\src\\simulation\\SimulatorCore.jl:385\n",
      "┌ Info: Running simulation in the CPU with 1 thread(s)\n",
      "│   koma_version = 0.9.1\n",
      "│   sim_method = Bloch()\n",
      "│   spins = 201\n",
      "│   time_points = 1022\n",
      "│   adc_points = 0\n",
      "└ @ KomaMRICore C:\\Users\\lucya\\.julia\\packages\\KomaMRICore\\DEJdd\\src\\simulation\\SimulatorCore.jl:385\n"
     ]
    },
    {
     "name": "stdout",
     "output_type": "stream",
     "text": [
      "  0.047089 seconds (151.42 k allocations: 7.599 MiB)\n",
      "  0.061137 seconds (151.41 k allocations: 7.599 MiB)\n"
     ]
    },
    {
     "name": "stderr",
     "output_type": "stream",
     "text": [
      "┌ Info: Running simulation in the CPU with 1 thread(s)\n",
      "│   koma_version = 0.9.1\n",
      "│   sim_method = Bloch()\n",
      "│   spins = 201\n",
      "│   time_points = 1022\n",
      "│   adc_points = 0\n",
      "└ @ KomaMRICore C:\\Users\\lucya\\.julia\\packages\\KomaMRICore\\DEJdd\\src\\simulation\\SimulatorCore.jl:385\n",
      "┌ Info: Running simulation in the CPU with 1 thread(s)\n",
      "│   koma_version = 0.9.1\n",
      "│   sim_method = Bloch()\n",
      "│   spins = 201\n",
      "│   time_points = 1022\n",
      "│   adc_points = 0\n",
      "└ @ KomaMRICore C:\\Users\\lucya\\.julia\\packages\\KomaMRICore\\DEJdd\\src\\simulation\\SimulatorCore.jl:385\n"
     ]
    },
    {
     "name": "stdout",
     "output_type": "stream",
     "text": [
      "  0.069868 seconds (151.42 k allocations: 7.599 MiB, 19.57% gc time)\n",
      "  0.054175 seconds (151.42 k allocations: 7.599 MiB)\n"
     ]
    },
    {
     "name": "stderr",
     "output_type": "stream",
     "text": [
      "┌ Info: Running simulation in the CPU with 1 thread(s)\n",
      "│   koma_version = 0.9.1\n",
      "│   sim_method = Bloch()\n",
      "│   spins = 201\n",
      "│   time_points = 1022\n",
      "│   adc_points = 0\n",
      "└ @ KomaMRICore C:\\Users\\lucya\\.julia\\packages\\KomaMRICore\\DEJdd\\src\\simulation\\SimulatorCore.jl:385\n",
      "┌ Info: Running simulation in the CPU with 1 thread(s)\n",
      "│   koma_version = 0.9.1\n",
      "│   sim_method = Bloch()\n",
      "│   spins = 201\n",
      "│   time_points = 1022\n",
      "│   adc_points = 0\n",
      "└ @ KomaMRICore C:\\Users\\lucya\\.julia\\packages\\KomaMRICore\\DEJdd\\src\\simulation\\SimulatorCore.jl:385\n"
     ]
    },
    {
     "name": "stdout",
     "output_type": "stream",
     "text": [
      "  0.046471 seconds (151.41 k allocations: 7.599 MiB)\n",
      "  0.048625 seconds (151.41 k allocations: 7.599 MiB)\n",
      "  0.041720 seconds (151.41 k allocations: 7.599 MiB)\n"
     ]
    },
    {
     "name": "stderr",
     "output_type": "stream",
     "text": [
      "┌ Info: Running simulation in the CPU with 1 thread(s)\n",
      "│   koma_version = 0.9.1\n",
      "│   sim_method = Bloch()\n",
      "│   spins = 201\n",
      "│   time_points = 1022\n",
      "│   adc_points = 0\n",
      "└ @ KomaMRICore C:\\Users\\lucya\\.julia\\packages\\KomaMRICore\\DEJdd\\src\\simulation\\SimulatorCore.jl:385\n",
      "┌ Info: Running simulation in the CPU with 1 thread(s)\n",
      "│   koma_version = 0.9.1\n",
      "│   sim_method = Bloch()\n",
      "│   spins = 201\n",
      "│   time_points = 1022\n",
      "│   adc_points = 0\n",
      "└ @ KomaMRICore C:\\Users\\lucya\\.julia\\packages\\KomaMRICore\\DEJdd\\src\\simulation\\SimulatorCore.jl:385\n",
      "┌ Info: Running simulation in the CPU with 1 thread(s)\n",
      "│   koma_version = 0.9.1\n",
      "│   sim_method = Bloch()\n",
      "│   spins = 201\n",
      "│   time_points = 1022\n",
      "│   adc_points = 0\n",
      "└ @ KomaMRICore C:\\Users\\lucya\\.julia\\packages\\KomaMRICore\\DEJdd\\src\\simulation\\SimulatorCore.jl:385\n"
     ]
    },
    {
     "name": "stdout",
     "output_type": "stream",
     "text": [
      "  0.057572 seconds (151.42 k allocations: 7.599 MiB)\n",
      "  0.049381 seconds (151.41 k allocations: 7.599 MiB)\n"
     ]
    },
    {
     "name": "stderr",
     "output_type": "stream",
     "text": [
      "┌ Info: Running simulation in the CPU with 1 thread(s)\n",
      "│   koma_version = 0.9.1\n",
      "│   sim_method = Bloch()\n",
      "│   spins = 201\n",
      "│   time_points = 1022\n",
      "│   adc_points = 0\n",
      "└ @ KomaMRICore C:\\Users\\lucya\\.julia\\packages\\KomaMRICore\\DEJdd\\src\\simulation\\SimulatorCore.jl:385\n",
      "┌ Info: Running simulation in the CPU with 1 thread(s)\n",
      "│   koma_version = 0.9.1\n",
      "│   sim_method = Bloch()\n",
      "│   spins = 201\n",
      "│   time_points = 1022\n",
      "│   adc_points = 0\n",
      "└ @ KomaMRICore C:\\Users\\lucya\\.julia\\packages\\KomaMRICore\\DEJdd\\src\\simulation\\SimulatorCore.jl:385\n"
     ]
    },
    {
     "name": "stdout",
     "output_type": "stream",
     "text": [
      "  0.065665 seconds (151.41 k allocations: 7.599 MiB)\n",
      "  0.076359 seconds (151.42 k allocations: 7.599 MiB, 20.43% gc time)\n"
     ]
    },
    {
     "name": "stderr",
     "output_type": "stream",
     "text": [
      "┌ Info: Running simulation in the CPU with 1 thread(s)\n",
      "│   koma_version = 0.9.1\n",
      "│   sim_method = Bloch()\n",
      "│   spins = 201\n",
      "│   time_points = 1022\n",
      "│   adc_points = 0\n",
      "└ @ KomaMRICore C:\\Users\\lucya\\.julia\\packages\\KomaMRICore\\DEJdd\\src\\simulation\\SimulatorCore.jl:385\n",
      "┌ Info: Running simulation in the CPU with 1 thread(s)\n",
      "│   koma_version = 0.9.1\n",
      "│   sim_method = Bloch()\n",
      "│   spins = 201\n",
      "│   time_points = 1022\n",
      "│   adc_points = 0\n",
      "└ @ KomaMRICore C:\\Users\\lucya\\.julia\\packages\\KomaMRICore\\DEJdd\\src\\simulation\\SimulatorCore.jl:385\n"
     ]
    },
    {
     "name": "stdout",
     "output_type": "stream",
     "text": [
      "  0.050583 seconds (151.42 k allocations: 7.599 MiB)\n",
      "  0.074597 seconds (151.41 k allocations: 7.599 MiB)\n"
     ]
    },
    {
     "name": "stderr",
     "output_type": "stream",
     "text": [
      "┌ Info: Running simulation in the CPU with 1 thread(s)\n",
      "│   koma_version = 0.9.1\n",
      "│   sim_method = Bloch()\n",
      "│   spins = 201\n",
      "│   time_points = 1022\n",
      "│   adc_points = 0\n",
      "└ @ KomaMRICore C:\\Users\\lucya\\.julia\\packages\\KomaMRICore\\DEJdd\\src\\simulation\\SimulatorCore.jl:385\n",
      "┌ Info: Running simulation in the CPU with 1 thread(s)\n",
      "│   koma_version = 0.9.1\n",
      "│   sim_method = Bloch()\n",
      "│   spins = 201\n",
      "│   time_points = 1022\n",
      "│   adc_points = 0\n",
      "└ @ KomaMRICore C:\\Users\\lucya\\.julia\\packages\\KomaMRICore\\DEJdd\\src\\simulation\\SimulatorCore.jl:385\n"
     ]
    },
    {
     "name": "stdout",
     "output_type": "stream",
     "text": [
      "  0.083264 seconds (151.42 k allocations: 7.599 MiB)\n",
      "  0.077291 seconds (151.41 k allocations: 7.599 MiB)\n"
     ]
    },
    {
     "name": "stderr",
     "output_type": "stream",
     "text": [
      "┌ Info: Running simulation in the CPU with 1 thread(s)\n",
      "│   koma_version = 0.9.1\n",
      "│   sim_method = Bloch()\n",
      "│   spins = 201\n",
      "│   time_points = 1022\n",
      "│   adc_points = 0\n",
      "└ @ KomaMRICore C:\\Users\\lucya\\.julia\\packages\\KomaMRICore\\DEJdd\\src\\simulation\\SimulatorCore.jl:385\n",
      "┌ Info: Running simulation in the CPU with 1 thread(s)\n",
      "│   koma_version = 0.9.1\n",
      "│   sim_method = Bloch()\n",
      "│   spins = 201\n",
      "│   time_points = 1022\n",
      "│   adc_points = 0\n",
      "└ @ KomaMRICore C:\\Users\\lucya\\.julia\\packages\\KomaMRICore\\DEJdd\\src\\simulation\\SimulatorCore.jl:385\n"
     ]
    },
    {
     "name": "stdout",
     "output_type": "stream",
     "text": [
      "  0.079792 seconds (151.41 k allocations: 7.599 MiB)\n",
      "  0.073576 seconds (151.41 k allocations: 7.599 MiB)\n"
     ]
    },
    {
     "name": "stderr",
     "output_type": "stream",
     "text": [
      "┌ Info: Running simulation in the CPU with 1 thread(s)\n",
      "│   koma_version = 0.9.1\n",
      "│   sim_method = Bloch()\n",
      "│   spins = 201\n",
      "│   time_points = 1022\n",
      "│   adc_points = 0\n",
      "└ @ KomaMRICore C:\\Users\\lucya\\.julia\\packages\\KomaMRICore\\DEJdd\\src\\simulation\\SimulatorCore.jl:385\n",
      "┌ Info: Running simulation in the CPU with 1 thread(s)\n",
      "│   koma_version = 0.9.1\n",
      "│   sim_method = Bloch()\n",
      "│   spins = 201\n",
      "│   time_points = 1022\n",
      "│   adc_points = 0\n",
      "└ @ KomaMRICore C:\\Users\\lucya\\.julia\\packages\\KomaMRICore\\DEJdd\\src\\simulation\\SimulatorCore.jl:385\n"
     ]
    },
    {
     "name": "stdout",
     "output_type": "stream",
     "text": [
      "  0.064774 seconds (151.41 k allocations: 7.599 MiB)\n",
      "  0.030615 seconds (151.42 k allocations: 7.599 MiB)\n",
      "  0.047201 seconds (151.42 k allocations: 7.599 MiB)\n"
     ]
    },
    {
     "name": "stderr",
     "output_type": "stream",
     "text": [
      "┌ Info: Running simulation in the CPU with 1 thread(s)\n",
      "│   koma_version = 0.9.1\n",
      "│   sim_method = Bloch()\n",
      "│   spins = 201\n",
      "│   time_points = 1022\n",
      "│   adc_points = 0\n",
      "└ @ KomaMRICore C:\\Users\\lucya\\.julia\\packages\\KomaMRICore\\DEJdd\\src\\simulation\\SimulatorCore.jl:385\n",
      "┌ Info: Running simulation in the CPU with 1 thread(s)\n",
      "│   koma_version = 0.9.1\n",
      "│   sim_method = Bloch()\n",
      "│   spins = 201\n",
      "│   time_points = 1022\n",
      "│   adc_points = 0\n",
      "└ @ KomaMRICore C:\\Users\\lucya\\.julia\\packages\\KomaMRICore\\DEJdd\\src\\simulation\\SimulatorCore.jl:385\n",
      "┌ Info: Running simulation in the CPU with 1 thread(s)\n",
      "│   koma_version = 0.9.1\n",
      "│   sim_method = Bloch()\n",
      "│   spins = 201\n",
      "│   time_points = 1022\n",
      "│   adc_points = 0\n",
      "└ @ KomaMRICore C:\\Users\\lucya\\.julia\\packages\\KomaMRICore\\DEJdd\\src\\simulation\\SimulatorCore.jl:385\n"
     ]
    },
    {
     "name": "stdout",
     "output_type": "stream",
     "text": [
      "  0.030973 seconds (151.42 k allocations: 7.599 MiB)\n"
     ]
    },
    {
     "name": "stderr",
     "output_type": "stream",
     "text": [
      "┌ Info: Running simulation in the CPU with 1 thread(s)\n",
      "│   koma_version = 0.9.1\n",
      "│   sim_method = Bloch()\n",
      "│   spins = 201\n",
      "│   time_points = 1022\n",
      "│   adc_points = 0\n",
      "└ @ KomaMRICore C:\\Users\\lucya\\.julia\\packages\\KomaMRICore\\DEJdd\\src\\simulation\\SimulatorCore.jl:385\n"
     ]
    },
    {
     "name": "stdout",
     "output_type": "stream",
     "text": [
      "  0.090567 seconds (151.42 k allocations: 7.599 MiB)\n"
     ]
    },
    {
     "name": "stderr",
     "output_type": "stream",
     "text": [
      "┌ Info: Running simulation in the CPU with 1 thread(s)\n",
      "│   koma_version = 0.9.1\n",
      "│   sim_method = Bloch()\n",
      "│   spins = 201\n",
      "│   time_points = 1022\n",
      "│   adc_points = 0\n",
      "└ @ KomaMRICore C:\\Users\\lucya\\.julia\\packages\\KomaMRICore\\DEJdd\\src\\simulation\\SimulatorCore.jl:385\n",
      "\u001b[32mRunning simulation...  83%|██████████████████████████    |  ETA: 0:00:00\u001b[39m\u001b[K\n",
      "\n",
      "\n",
      "\u001b[32mRunning simulation... 100%|██████████████████████████████| Time: 0:00:00\u001b[39m\u001b[K\n",
      "\u001b[34m   simulated_blocks: 24\u001b[39m\u001b[K\n",
      "\u001b[34m          rf_blocks: 21\u001b[39m\u001b[K\n",
      "\u001b[34m        acq_samples: 0\u001b[39m\u001b[K\n"
     ]
    },
    {
     "name": "stdout",
     "output_type": "stream",
     "text": [
      "  0.118624 seconds (152.12 k allocations: 7.635 MiB)\n"
     ]
    },
    {
     "name": "stderr",
     "output_type": "stream",
     "text": [
      "┌ Info: Running simulation in the CPU with 1 thread(s)\n",
      "│   koma_version = 0.9.1\n",
      "│   sim_method = Bloch()\n",
      "│   spins = 201\n",
      "│   time_points = 1022\n",
      "│   adc_points = 0\n",
      "└ @ KomaMRICore C:\\Users\\lucya\\.julia\\packages\\KomaMRICore\\DEJdd\\src\\simulation\\SimulatorCore.jl:385\n"
     ]
    },
    {
     "name": "stdout",
     "output_type": "stream",
     "text": [
      "  0.088290 seconds (151.41 k allocations: 7.599 MiB)\n",
      "  0.041168 seconds (151.41 k allocations: 7.599 MiB)\n"
     ]
    },
    {
     "name": "stderr",
     "output_type": "stream",
     "text": [
      "┌ Info: Running simulation in the CPU with 1 thread(s)\n",
      "│   koma_version = 0.9.1\n",
      "│   sim_method = Bloch()\n",
      "│   spins = 201\n",
      "│   time_points = 1022\n",
      "│   adc_points = 0\n",
      "└ @ KomaMRICore C:\\Users\\lucya\\.julia\\packages\\KomaMRICore\\DEJdd\\src\\simulation\\SimulatorCore.jl:385\n",
      "┌ Info: Running simulation in the CPU with 1 thread(s)\n",
      "│   koma_version = 0.9.1\n",
      "│   sim_method = Bloch()\n",
      "│   spins = 201\n",
      "│   time_points = 1022\n",
      "│   adc_points = 0\n",
      "└ @ KomaMRICore C:\\Users\\lucya\\.julia\\packages\\KomaMRICore\\DEJdd\\src\\simulation\\SimulatorCore.jl:385\n"
     ]
    },
    {
     "name": "stdout",
     "output_type": "stream",
     "text": [
      "  0.077230 seconds (151.41 k allocations: 7.599 MiB)\n",
      "  0.049845 seconds (151.41 k allocations: 7.599 MiB)\n"
     ]
    },
    {
     "name": "stderr",
     "output_type": "stream",
     "text": [
      "┌ Info: Running simulation in the CPU with 1 thread(s)\n",
      "│   koma_version = 0.9.1\n",
      "│   sim_method = Bloch()\n",
      "│   spins = 201\n",
      "│   time_points = 1022\n",
      "│   adc_points = 0\n",
      "└ @ KomaMRICore C:\\Users\\lucya\\.julia\\packages\\KomaMRICore\\DEJdd\\src\\simulation\\SimulatorCore.jl:385\n",
      "┌ Info: Running simulation in the CPU with 1 thread(s)\n",
      "│   koma_version = 0.9.1\n",
      "│   sim_method = Bloch()\n",
      "│   spins = 201\n",
      "│   time_points = 1022\n",
      "│   adc_points = 0\n",
      "└ @ KomaMRICore C:\\Users\\lucya\\.julia\\packages\\KomaMRICore\\DEJdd\\src\\simulation\\SimulatorCore.jl:385\n"
     ]
    },
    {
     "name": "stdout",
     "output_type": "stream",
     "text": [
      "  0.075386 seconds (151.42 k allocations: 7.599 MiB, 25.57% gc time)\n",
      "  0.062169 seconds (151.41 k allocations: 7.599 MiB)\n"
     ]
    },
    {
     "name": "stderr",
     "output_type": "stream",
     "text": [
      "┌ Info: Running simulation in the CPU with 1 thread(s)\n",
      "│   koma_version = 0.9.1\n",
      "│   sim_method = Bloch()\n",
      "│   spins = 201\n",
      "│   time_points = 1022\n",
      "│   adc_points = 0\n",
      "└ @ KomaMRICore C:\\Users\\lucya\\.julia\\packages\\KomaMRICore\\DEJdd\\src\\simulation\\SimulatorCore.jl:385\n",
      "┌ Info: Running simulation in the CPU with 1 thread(s)\n",
      "│   koma_version = 0.9.1\n",
      "│   sim_method = Bloch()\n",
      "│   spins = 201\n",
      "│   time_points = 1022\n",
      "│   adc_points = 0\n",
      "└ @ KomaMRICore C:\\Users\\lucya\\.julia\\packages\\KomaMRICore\\DEJdd\\src\\simulation\\SimulatorCore.jl:385\n"
     ]
    },
    {
     "name": "stdout",
     "output_type": "stream",
     "text": [
      "  0.063749 seconds (151.42 k allocations: 7.599 MiB)\n",
      "  0.068457 seconds (151.42 k allocations: 7.599 MiB)\n"
     ]
    },
    {
     "name": "stderr",
     "output_type": "stream",
     "text": [
      "┌ Info: Running simulation in the CPU with 1 thread(s)\n",
      "│   koma_version = 0.9.1\n",
      "│   sim_method = Bloch()\n",
      "│   spins = 201\n",
      "│   time_points = 1022\n",
      "│   adc_points = 0\n",
      "└ @ KomaMRICore C:\\Users\\lucya\\.julia\\packages\\KomaMRICore\\DEJdd\\src\\simulation\\SimulatorCore.jl:385\n",
      "┌ Info: Running simulation in the CPU with 1 thread(s)\n",
      "│   koma_version = 0.9.1\n",
      "│   sim_method = Bloch()\n",
      "│   spins = 201\n",
      "│   time_points = 1022\n",
      "│   adc_points = 0\n",
      "└ @ KomaMRICore C:\\Users\\lucya\\.julia\\packages\\KomaMRICore\\DEJdd\\src\\simulation\\SimulatorCore.jl:385\n"
     ]
    },
    {
     "name": "stdout",
     "output_type": "stream",
     "text": [
      "  0.039327 seconds (151.41 k allocations: 7.599 MiB)\n",
      "  0.043611 seconds (151.42 k allocations: 7.599 MiB)\n",
      "  0.035452 seconds (151.42 k allocations: 7.599 MiB)\n"
     ]
    },
    {
     "name": "stderr",
     "output_type": "stream",
     "text": [
      "┌ Info: Running simulation in the CPU with 1 thread(s)\n",
      "│   koma_version = 0.9.1\n",
      "│   sim_method = Bloch()\n",
      "│   spins = 201\n",
      "│   time_points = 1022\n",
      "│   adc_points = 0\n",
      "└ @ KomaMRICore C:\\Users\\lucya\\.julia\\packages\\KomaMRICore\\DEJdd\\src\\simulation\\SimulatorCore.jl:385\n",
      "┌ Info: Running simulation in the CPU with 1 thread(s)\n",
      "│   koma_version = 0.9.1\n",
      "│   sim_method = Bloch()\n",
      "│   spins = 201\n",
      "│   time_points = 1022\n",
      "│   adc_points = 0\n",
      "└ @ KomaMRICore C:\\Users\\lucya\\.julia\\packages\\KomaMRICore\\DEJdd\\src\\simulation\\SimulatorCore.jl:385\n",
      "┌ Info: Running simulation in the CPU with 1 thread(s)\n",
      "│   koma_version = 0.9.1\n",
      "│   sim_method = Bloch()\n",
      "│   spins = 201\n",
      "│   time_points = 1022\n",
      "│   adc_points = 0\n",
      "└ @ KomaMRICore C:\\Users\\lucya\\.julia\\packages\\KomaMRICore\\DEJdd\\src\\simulation\\SimulatorCore.jl:385\n"
     ]
    },
    {
     "name": "stdout",
     "output_type": "stream",
     "text": [
      "  0.040606 seconds (151.42 k allocations: 7.599 MiB)\n",
      "  0.042542 seconds (151.42 k allocations: 7.599 MiB, 25.39% gc time)\n",
      "  0.039668 seconds (151.41 k allocations: 7.599 MiB)\n"
     ]
    },
    {
     "name": "stderr",
     "output_type": "stream",
     "text": [
      "┌ Info: Running simulation in the CPU with 1 thread(s)\n",
      "│   koma_version = 0.9.1\n",
      "│   sim_method = Bloch()\n",
      "│   spins = 201\n",
      "│   time_points = 1022\n",
      "│   adc_points = 0\n",
      "└ @ KomaMRICore C:\\Users\\lucya\\.julia\\packages\\KomaMRICore\\DEJdd\\src\\simulation\\SimulatorCore.jl:385\n",
      "┌ Info: Running simulation in the CPU with 1 thread(s)\n",
      "│   koma_version = 0.9.1\n",
      "│   sim_method = Bloch()\n",
      "│   spins = 201\n",
      "│   time_points = 1022\n",
      "│   adc_points = 0\n",
      "└ @ KomaMRICore C:\\Users\\lucya\\.julia\\packages\\KomaMRICore\\DEJdd\\src\\simulation\\SimulatorCore.jl:385\n",
      "┌ Info: Running simulation in the CPU with 1 thread(s)\n",
      "│   koma_version = 0.9.1\n",
      "│   sim_method = Bloch()\n",
      "│   spins = 201\n",
      "│   time_points = 1022\n",
      "│   adc_points = 0\n",
      "└ @ KomaMRICore C:\\Users\\lucya\\.julia\\packages\\KomaMRICore\\DEJdd\\src\\simulation\\SimulatorCore.jl:385\n"
     ]
    },
    {
     "name": "stdout",
     "output_type": "stream",
     "text": [
      "  0.043053 seconds (151.42 k allocations: 7.599 MiB)\n",
      "  0.047170 seconds (151.41 k allocations: 7.599 MiB)\n"
     ]
    },
    {
     "name": "stderr",
     "output_type": "stream",
     "text": [
      "┌ Info: Running simulation in the CPU with 1 thread(s)\n",
      "│   koma_version = 0.9.1\n",
      "│   sim_method = Bloch()\n",
      "│   spins = 201\n",
      "│   time_points = 1022\n",
      "│   adc_points = 0\n",
      "└ @ KomaMRICore C:\\Users\\lucya\\.julia\\packages\\KomaMRICore\\DEJdd\\src\\simulation\\SimulatorCore.jl:385\n",
      "┌ Info: Running simulation in the CPU with 1 thread(s)\n",
      "│   koma_version = 0.9.1\n",
      "│   sim_method = Bloch()\n",
      "│   spins = 201\n",
      "│   time_points = 1022\n",
      "│   adc_points = 0\n",
      "└ @ KomaMRICore C:\\Users\\lucya\\.julia\\packages\\KomaMRICore\\DEJdd\\src\\simulation\\SimulatorCore.jl:385\n"
     ]
    },
    {
     "name": "stdout",
     "output_type": "stream",
     "text": [
      "  0.063552 seconds (151.41 k allocations: 7.599 MiB)\n",
      "  0.071776 seconds (151.41 k allocations: 7.599 MiB)\n"
     ]
    },
    {
     "name": "stderr",
     "output_type": "stream",
     "text": [
      "┌ Info: Running simulation in the CPU with 1 thread(s)\n",
      "│   koma_version = 0.9.1\n",
      "│   sim_method = Bloch()\n",
      "│   spins = 201\n",
      "│   time_points = 1022\n",
      "│   adc_points = 0\n",
      "└ @ KomaMRICore C:\\Users\\lucya\\.julia\\packages\\KomaMRICore\\DEJdd\\src\\simulation\\SimulatorCore.jl:385\n",
      "┌ Info: Running simulation in the CPU with 1 thread(s)\n",
      "│   koma_version = 0.9.1\n",
      "│   sim_method = Bloch()\n",
      "│   spins = 201\n",
      "│   time_points = 1022\n",
      "│   adc_points = 0\n",
      "└ @ KomaMRICore C:\\Users\\lucya\\.julia\\packages\\KomaMRICore\\DEJdd\\src\\simulation\\SimulatorCore.jl:385\n"
     ]
    },
    {
     "name": "stdout",
     "output_type": "stream",
     "text": [
      "  0.073371 seconds (151.41 k allocations: 7.599 MiB)\n",
      "  0.064950 seconds (151.41 k allocations: 7.599 MiB)\n"
     ]
    },
    {
     "name": "stderr",
     "output_type": "stream",
     "text": [
      "┌ Info: Running simulation in the CPU with 1 thread(s)\n",
      "│   koma_version = 0.9.1\n",
      "│   sim_method = Bloch()\n",
      "│   spins = 201\n",
      "│   time_points = 1022\n",
      "│   adc_points = 0\n",
      "└ @ KomaMRICore C:\\Users\\lucya\\.julia\\packages\\KomaMRICore\\DEJdd\\src\\simulation\\SimulatorCore.jl:385\n",
      "┌ Info: Running simulation in the CPU with 1 thread(s)\n",
      "│   koma_version = 0.9.1\n",
      "│   sim_method = Bloch()\n",
      "│   spins = 201\n",
      "│   time_points = 1022\n",
      "│   adc_points = 0\n",
      "└ @ KomaMRICore C:\\Users\\lucya\\.julia\\packages\\KomaMRICore\\DEJdd\\src\\simulation\\SimulatorCore.jl:385\n"
     ]
    },
    {
     "name": "stdout",
     "output_type": "stream",
     "text": [
      "  0.103346 seconds (151.41 k allocations: 7.599 MiB, 17.69% gc time)\n",
      "  0.055871 seconds (151.41 k allocations: 7.599 MiB)\n"
     ]
    },
    {
     "name": "stderr",
     "output_type": "stream",
     "text": [
      "┌ Info: Running simulation in the CPU with 1 thread(s)\n",
      "│   koma_version = 0.9.1\n",
      "│   sim_method = Bloch()\n",
      "│   spins = 201\n",
      "│   time_points = 1022\n",
      "│   adc_points = 0\n",
      "└ @ KomaMRICore C:\\Users\\lucya\\.julia\\packages\\KomaMRICore\\DEJdd\\src\\simulation\\SimulatorCore.jl:385\n",
      "┌ Info: Running simulation in the CPU with 1 thread(s)\n",
      "│   koma_version = 0.9.1\n",
      "│   sim_method = Bloch()\n",
      "│   spins = 201\n",
      "│   time_points = 1022\n",
      "│   adc_points = 0\n",
      "└ @ KomaMRICore C:\\Users\\lucya\\.julia\\packages\\KomaMRICore\\DEJdd\\src\\simulation\\SimulatorCore.jl:385\n"
     ]
    },
    {
     "name": "stdout",
     "output_type": "stream",
     "text": [
      "  0.038578 seconds (151.41 k allocations: 7.599 MiB)\n",
      "  0.062168 seconds (151.41 k allocations: 7.599 MiB)\n"
     ]
    },
    {
     "name": "stderr",
     "output_type": "stream",
     "text": [
      "┌ Info: Running simulation in the CPU with 1 thread(s)\n",
      "│   koma_version = 0.9.1\n",
      "│   sim_method = Bloch()\n",
      "│   spins = 201\n",
      "│   time_points = 1022\n",
      "│   adc_points = 0\n",
      "└ @ KomaMRICore C:\\Users\\lucya\\.julia\\packages\\KomaMRICore\\DEJdd\\src\\simulation\\SimulatorCore.jl:385\n",
      "┌ Info: Running simulation in the CPU with 1 thread(s)\n",
      "│   koma_version = 0.9.1\n",
      "│   sim_method = Bloch()\n",
      "│   spins = 201\n",
      "│   time_points = 1022\n",
      "│   adc_points = 0\n",
      "└ @ KomaMRICore C:\\Users\\lucya\\.julia\\packages\\KomaMRICore\\DEJdd\\src\\simulation\\SimulatorCore.jl:385\n"
     ]
    },
    {
     "name": "stdout",
     "output_type": "stream",
     "text": [
      "  0.049866 seconds (151.41 k allocations: 7.599 MiB)\n",
      "  0.060849 seconds (151.41 k allocations: 7.599 MiB)\n"
     ]
    },
    {
     "name": "stderr",
     "output_type": "stream",
     "text": [
      "┌ Info: Running simulation in the CPU with 1 thread(s)\n",
      "│   koma_version = 0.9.1\n",
      "│   sim_method = Bloch()\n",
      "│   spins = 201\n",
      "│   time_points = 1022\n",
      "│   adc_points = 0\n",
      "└ @ KomaMRICore C:\\Users\\lucya\\.julia\\packages\\KomaMRICore\\DEJdd\\src\\simulation\\SimulatorCore.jl:385\n",
      "┌ Info: Running simulation in the CPU with 1 thread(s)\n",
      "│   koma_version = 0.9.1\n",
      "│   sim_method = Bloch()\n",
      "│   spins = 201\n",
      "│   time_points = 1022\n",
      "│   adc_points = 0\n",
      "└ @ KomaMRICore C:\\Users\\lucya\\.julia\\packages\\KomaMRICore\\DEJdd\\src\\simulation\\SimulatorCore.jl:385\n"
     ]
    },
    {
     "name": "stdout",
     "output_type": "stream",
     "text": [
      "  0.043713 seconds (151.41 k allocations: 7.599 MiB)\n",
      "  0.041409 seconds (151.42 k allocations: 7.599 MiB)\n",
      "  0.042416 seconds (151.41 k allocations: 7.599 MiB)\n"
     ]
    },
    {
     "name": "stderr",
     "output_type": "stream",
     "text": [
      "┌ Info: Running simulation in the CPU with 1 thread(s)\n",
      "│   koma_version = 0.9.1\n",
      "│   sim_method = Bloch()\n",
      "│   spins = 201\n",
      "│   time_points = 1022\n",
      "│   adc_points = 0\n",
      "└ @ KomaMRICore C:\\Users\\lucya\\.julia\\packages\\KomaMRICore\\DEJdd\\src\\simulation\\SimulatorCore.jl:385\n",
      "┌ Info: Running simulation in the CPU with 1 thread(s)\n",
      "│   koma_version = 0.9.1\n",
      "│   sim_method = Bloch()\n",
      "│   spins = 201\n",
      "│   time_points = 1022\n",
      "│   adc_points = 0\n",
      "└ @ KomaMRICore C:\\Users\\lucya\\.julia\\packages\\KomaMRICore\\DEJdd\\src\\simulation\\SimulatorCore.jl:385\n"
     ]
    },
    {
     "name": "stdout",
     "output_type": "stream",
     "text": [
      "  0.062236 seconds (151.42 k allocations: 7.599 MiB)\n"
     ]
    },
    {
     "name": "stderr",
     "output_type": "stream",
     "text": [
      "┌ Info: Running simulation in the CPU with 1 thread(s)\n",
      "│   koma_version = 0.9.1\n",
      "│   sim_method = Bloch()\n",
      "│   spins = 201\n",
      "│   time_points = 1022\n",
      "│   adc_points = 0\n",
      "└ @ KomaMRICore C:\\Users\\lucya\\.julia\\packages\\KomaMRICore\\DEJdd\\src\\simulation\\SimulatorCore.jl:385\n",
      "┌ Info: Running simulation in the CPU with 1 thread(s)\n",
      "│   koma_version = 0.9.1\n",
      "│   sim_method = Bloch()\n",
      "│   spins = 201\n",
      "│   time_points = 1022\n",
      "│   adc_points = 0\n",
      "└ @ KomaMRICore C:\\Users\\lucya\\.julia\\packages\\KomaMRICore\\DEJdd\\src\\simulation\\SimulatorCore.jl:385\n"
     ]
    },
    {
     "name": "stdout",
     "output_type": "stream",
     "text": [
      "  0.062582 seconds (151.42 k allocations: 7.599 MiB)\n",
      "  0.039369 seconds (151.42 k allocations: 7.599 MiB)\n"
     ]
    },
    {
     "name": "stderr",
     "output_type": "stream",
     "text": [
      "┌ Info: Running simulation in the CPU with 1 thread(s)\n",
      "│   koma_version = 0.9.1\n",
      "│   sim_method = Bloch()\n",
      "│   spins = 201\n",
      "│   time_points = 1022\n",
      "│   adc_points = 0\n",
      "└ @ KomaMRICore C:\\Users\\lucya\\.julia\\packages\\KomaMRICore\\DEJdd\\src\\simulation\\SimulatorCore.jl:385\n",
      "┌ Info: Running simulation in the CPU with 1 thread(s)\n",
      "│   koma_version = 0.9.1\n",
      "│   sim_method = Bloch()\n",
      "│   spins = 201\n",
      "│   time_points = 1022\n",
      "│   adc_points = 0\n",
      "└ @ KomaMRICore C:\\Users\\lucya\\.julia\\packages\\KomaMRICore\\DEJdd\\src\\simulation\\SimulatorCore.jl:385\n"
     ]
    },
    {
     "name": "stdout",
     "output_type": "stream",
     "text": [
      "  0.065831 seconds (151.41 k allocations: 7.599 MiB)\n",
      "  0.069170 seconds (151.41 k allocations: 7.599 MiB)\n"
     ]
    },
    {
     "name": "stderr",
     "output_type": "stream",
     "text": [
      "┌ Info: Running simulation in the CPU with 1 thread(s)\n",
      "│   koma_version = 0.9.1\n",
      "│   sim_method = Bloch()\n",
      "│   spins = 201\n",
      "│   time_points = 1022\n",
      "│   adc_points = 0\n",
      "└ @ KomaMRICore C:\\Users\\lucya\\.julia\\packages\\KomaMRICore\\DEJdd\\src\\simulation\\SimulatorCore.jl:385\n",
      "┌ Info: Running simulation in the CPU with 1 thread(s)\n",
      "│   koma_version = 0.9.1\n",
      "│   sim_method = Bloch()\n",
      "│   spins = 201\n",
      "│   time_points = 1022\n",
      "│   adc_points = 0\n",
      "└ @ KomaMRICore C:\\Users\\lucya\\.julia\\packages\\KomaMRICore\\DEJdd\\src\\simulation\\SimulatorCore.jl:385\n"
     ]
    },
    {
     "name": "stdout",
     "output_type": "stream",
     "text": [
      "  0.054525 seconds (151.41 k allocations: 7.599 MiB)\n",
      "  0.050648 seconds (151.41 k allocations: 7.599 MiB)\n"
     ]
    },
    {
     "name": "stderr",
     "output_type": "stream",
     "text": [
      "┌ Info: Running simulation in the CPU with 1 thread(s)\n",
      "│   koma_version = 0.9.1\n",
      "│   sim_method = Bloch()\n",
      "│   spins = 201\n",
      "│   time_points = 1022\n",
      "│   adc_points = 0\n",
      "└ @ KomaMRICore C:\\Users\\lucya\\.julia\\packages\\KomaMRICore\\DEJdd\\src\\simulation\\SimulatorCore.jl:385\n",
      "┌ Info: Running simulation in the CPU with 1 thread(s)\n",
      "│   koma_version = 0.9.1\n",
      "│   sim_method = Bloch()\n",
      "│   spins = 201\n",
      "│   time_points = 1022\n",
      "│   adc_points = 0\n",
      "└ @ KomaMRICore C:\\Users\\lucya\\.julia\\packages\\KomaMRICore\\DEJdd\\src\\simulation\\SimulatorCore.jl:385\n"
     ]
    },
    {
     "name": "stdout",
     "output_type": "stream",
     "text": [
      "  0.061550 seconds (151.41 k allocations: 7.599 MiB)\n",
      "  0.083325 seconds (151.42 k allocations: 7.599 MiB, 27.26% gc time)\n"
     ]
    },
    {
     "name": "stderr",
     "output_type": "stream",
     "text": [
      "┌ Info: Running simulation in the CPU with 1 thread(s)\n",
      "│   koma_version = 0.9.1\n",
      "│   sim_method = Bloch()\n",
      "│   spins = 201\n",
      "│   time_points = 1022\n",
      "│   adc_points = 0\n",
      "└ @ KomaMRICore C:\\Users\\lucya\\.julia\\packages\\KomaMRICore\\DEJdd\\src\\simulation\\SimulatorCore.jl:385\n",
      "┌ Info: Running simulation in the CPU with 1 thread(s)\n",
      "│   koma_version = 0.9.1\n",
      "│   sim_method = Bloch()\n",
      "│   spins = 201\n",
      "│   time_points = 1022\n",
      "│   adc_points = 0\n",
      "└ @ KomaMRICore C:\\Users\\lucya\\.julia\\packages\\KomaMRICore\\DEJdd\\src\\simulation\\SimulatorCore.jl:385\n"
     ]
    },
    {
     "name": "stdout",
     "output_type": "stream",
     "text": [
      "  0.046755 seconds (151.41 k allocations: 7.599 MiB)\n",
      "  0.033737 seconds (151.41 k allocations: 7.599 MiB)\n",
      "  0.032679 seconds (151.41 k allocations: 7.599 MiB)\n"
     ]
    },
    {
     "name": "stderr",
     "output_type": "stream",
     "text": [
      "┌ Info: Running simulation in the CPU with 1 thread(s)\n",
      "│   koma_version = 0.9.1\n",
      "│   sim_method = Bloch()\n",
      "│   spins = 201\n",
      "│   time_points = 1022\n",
      "│   adc_points = 0\n",
      "└ @ KomaMRICore C:\\Users\\lucya\\.julia\\packages\\KomaMRICore\\DEJdd\\src\\simulation\\SimulatorCore.jl:385\n",
      "┌ Info: Running simulation in the CPU with 1 thread(s)\n",
      "│   koma_version = 0.9.1\n",
      "│   sim_method = Bloch()\n",
      "│   spins = 201\n",
      "│   time_points = 1022\n",
      "│   adc_points = 0\n",
      "└ @ KomaMRICore C:\\Users\\lucya\\.julia\\packages\\KomaMRICore\\DEJdd\\src\\simulation\\SimulatorCore.jl:385\n",
      "┌ Info: Running simulation in the CPU with 1 thread(s)\n",
      "│   koma_version = 0.9.1\n",
      "│   sim_method = Bloch()\n",
      "│   spins = 201\n",
      "│   time_points = 1022\n",
      "│   adc_points = 0\n",
      "└ @ KomaMRICore C:\\Users\\lucya\\.julia\\packages\\KomaMRICore\\DEJdd\\src\\simulation\\SimulatorCore.jl:385\n"
     ]
    },
    {
     "name": "stdout",
     "output_type": "stream",
     "text": [
      "  0.046048 seconds (151.42 k allocations: 7.599 MiB)\n",
      "  0.033539 seconds (151.41 k allocations: 7.599 MiB)\n",
      "  0.033958 seconds (151.42 k allocations: 7.599 MiB)\n"
     ]
    },
    {
     "name": "stderr",
     "output_type": "stream",
     "text": [
      "┌ Info: Running simulation in the CPU with 1 thread(s)\n",
      "│   koma_version = 0.9.1\n",
      "│   sim_method = Bloch()\n",
      "│   spins = 201\n",
      "│   time_points = 1022\n",
      "│   adc_points = 0\n",
      "└ @ KomaMRICore C:\\Users\\lucya\\.julia\\packages\\KomaMRICore\\DEJdd\\src\\simulation\\SimulatorCore.jl:385\n",
      "┌ Info: Running simulation in the CPU with 1 thread(s)\n",
      "│   koma_version = 0.9.1\n",
      "│   sim_method = Bloch()\n",
      "│   spins = 201\n",
      "│   time_points = 1022\n",
      "│   adc_points = 0\n",
      "└ @ KomaMRICore C:\\Users\\lucya\\.julia\\packages\\KomaMRICore\\DEJdd\\src\\simulation\\SimulatorCore.jl:385\n",
      "┌ Info: Running simulation in the CPU with 1 thread(s)\n",
      "│   koma_version = 0.9.1\n",
      "│   sim_method = Bloch()\n",
      "│   spins = 201\n",
      "│   time_points = 1022\n",
      "│   adc_points = 0\n",
      "└ @ KomaMRICore C:\\Users\\lucya\\.julia\\packages\\KomaMRICore\\DEJdd\\src\\simulation\\SimulatorCore.jl:385\n"
     ]
    },
    {
     "name": "stdout",
     "output_type": "stream",
     "text": [
      "  0.036395 seconds (151.41 k allocations: 7.599 MiB)\n",
      "  0.048254 seconds (151.42 k allocations: 7.599 MiB, 26.45% gc time)\n",
      "  0.040001 seconds (151.42 k allocations: 7.599 MiB)\n"
     ]
    },
    {
     "name": "stderr",
     "output_type": "stream",
     "text": [
      "┌ Info: Running simulation in the CPU with 1 thread(s)\n",
      "│   koma_version = 0.9.1\n",
      "│   sim_method = Bloch()\n",
      "│   spins = 201\n",
      "│   time_points = 1022\n",
      "│   adc_points = 0\n",
      "└ @ KomaMRICore C:\\Users\\lucya\\.julia\\packages\\KomaMRICore\\DEJdd\\src\\simulation\\SimulatorCore.jl:385\n",
      "┌ Info: Running simulation in the CPU with 1 thread(s)\n",
      "│   koma_version = 0.9.1\n",
      "│   sim_method = Bloch()\n",
      "│   spins = 201\n",
      "│   time_points = 1022\n",
      "│   adc_points = 0\n",
      "└ @ KomaMRICore C:\\Users\\lucya\\.julia\\packages\\KomaMRICore\\DEJdd\\src\\simulation\\SimulatorCore.jl:385\n",
      "┌ Info: Running simulation in the CPU with 1 thread(s)\n",
      "│   koma_version = 0.9.1\n",
      "│   sim_method = Bloch()\n",
      "│   spins = 201\n",
      "│   time_points = 1022\n",
      "│   adc_points = 0\n",
      "└ @ KomaMRICore C:\\Users\\lucya\\.julia\\packages\\KomaMRICore\\DEJdd\\src\\simulation\\SimulatorCore.jl:385\n"
     ]
    },
    {
     "name": "stdout",
     "output_type": "stream",
     "text": [
      "  0.037097 seconds (151.41 k allocations: 7.599 MiB)\n",
      "  0.032300 seconds (151.42 k allocations: 7.599 MiB)\n",
      "  0.045016 seconds (151.42 k allocations: 7.599 MiB)\n"
     ]
    },
    {
     "name": "stderr",
     "output_type": "stream",
     "text": [
      "┌ Info: Running simulation in the CPU with 1 thread(s)\n",
      "│   koma_version = 0.9.1\n",
      "│   sim_method = Bloch()\n",
      "│   spins = 201\n",
      "│   time_points = 1022\n",
      "│   adc_points = 0\n",
      "└ @ KomaMRICore C:\\Users\\lucya\\.julia\\packages\\KomaMRICore\\DEJdd\\src\\simulation\\SimulatorCore.jl:385\n",
      "┌ Info: Running simulation in the CPU with 1 thread(s)\n",
      "│   koma_version = 0.9.1\n",
      "│   sim_method = Bloch()\n",
      "│   spins = 201\n",
      "│   time_points = 1022\n",
      "│   adc_points = 0\n",
      "└ @ KomaMRICore C:\\Users\\lucya\\.julia\\packages\\KomaMRICore\\DEJdd\\src\\simulation\\SimulatorCore.jl:385\n",
      "┌ Info: Running simulation in the CPU with 1 thread(s)\n",
      "│   koma_version = 0.9.1\n",
      "│   sim_method = Bloch()\n",
      "│   spins = 201\n",
      "│   time_points = 1022\n",
      "│   adc_points = 0\n",
      "└ @ KomaMRICore C:\\Users\\lucya\\.julia\\packages\\KomaMRICore\\DEJdd\\src\\simulation\\SimulatorCore.jl:385\n"
     ]
    },
    {
     "name": "stdout",
     "output_type": "stream",
     "text": [
      "  0.048060 seconds (151.42 k allocations: 7.599 MiB)\n",
      "  0.036077 seconds (151.42 k allocations: 7.599 MiB)\n",
      "  0.057499 seconds (151.42 k allocations: 7.599 MiB)\n"
     ]
    },
    {
     "name": "stderr",
     "output_type": "stream",
     "text": [
      "┌ Info: Running simulation in the CPU with 1 thread(s)\n",
      "│   koma_version = 0.9.1\n",
      "│   sim_method = Bloch()\n",
      "│   spins = 201\n",
      "│   time_points = 1022\n",
      "│   adc_points = 0\n",
      "└ @ KomaMRICore C:\\Users\\lucya\\.julia\\packages\\KomaMRICore\\DEJdd\\src\\simulation\\SimulatorCore.jl:385\n",
      "┌ Info: Running simulation in the CPU with 1 thread(s)\n",
      "│   koma_version = 0.9.1\n",
      "│   sim_method = Bloch()\n",
      "│   spins = 201\n",
      "│   time_points = 1022\n",
      "│   adc_points = 0\n",
      "└ @ KomaMRICore C:\\Users\\lucya\\.julia\\packages\\KomaMRICore\\DEJdd\\src\\simulation\\SimulatorCore.jl:385\n"
     ]
    },
    {
     "name": "stdout",
     "output_type": "stream",
     "text": [
      "  0.070012 seconds (151.41 k allocations: 7.599 MiB, 27.92% gc time)\n"
     ]
    },
    {
     "name": "stderr",
     "output_type": "stream",
     "text": [
      "┌ Info: Running simulation in the CPU with 1 thread(s)\n",
      "│   koma_version = 0.9.1\n",
      "│   sim_method = Bloch()\n",
      "│   spins = 201\n",
      "│   time_points = 1022\n",
      "│   adc_points = 0\n",
      "└ @ KomaMRICore C:\\Users\\lucya\\.julia\\packages\\KomaMRICore\\DEJdd\\src\\simulation\\SimulatorCore.jl:385\n",
      "┌ Info: Running simulation in the CPU with 1 thread(s)\n",
      "│   koma_version = 0.9.1\n",
      "│   sim_method = Bloch()\n",
      "│   spins = 201\n",
      "│   time_points = 1022\n",
      "│   adc_points = 0\n",
      "└ @ KomaMRICore C:\\Users\\lucya\\.julia\\packages\\KomaMRICore\\DEJdd\\src\\simulation\\SimulatorCore.jl:385\n"
     ]
    },
    {
     "name": "stdout",
     "output_type": "stream",
     "text": [
      "  0.052684 seconds (151.41 k allocations: 7.599 MiB)\n",
      "  0.041661 seconds (151.41 k allocations: 7.599 MiB)\n"
     ]
    },
    {
     "name": "stderr",
     "output_type": "stream",
     "text": [
      "┌ Info: Running simulation in the CPU with 1 thread(s)\n",
      "│   koma_version = 0.9.1\n",
      "│   sim_method = Bloch()\n",
      "│   spins = 201\n",
      "│   time_points = 1022\n",
      "│   adc_points = 0\n",
      "└ @ KomaMRICore C:\\Users\\lucya\\.julia\\packages\\KomaMRICore\\DEJdd\\src\\simulation\\SimulatorCore.jl:385\n",
      "┌ Info: Running simulation in the CPU with 1 thread(s)\n",
      "│   koma_version = 0.9.1\n",
      "│   sim_method = Bloch()\n",
      "│   spins = 201\n",
      "│   time_points = 1022\n",
      "│   adc_points = 0\n",
      "└ @ KomaMRICore C:\\Users\\lucya\\.julia\\packages\\KomaMRICore\\DEJdd\\src\\simulation\\SimulatorCore.jl:385\n"
     ]
    },
    {
     "name": "stdout",
     "output_type": "stream",
     "text": [
      "  0.063510 seconds (151.42 k allocations: 7.599 MiB)\n",
      "  0.044111 seconds (151.41 k allocations: 7.599 MiB)\n"
     ]
    },
    {
     "name": "stderr",
     "output_type": "stream",
     "text": [
      "┌ Info: Running simulation in the CPU with 1 thread(s)\n",
      "│   koma_version = 0.9.1\n",
      "│   sim_method = Bloch()\n",
      "│   spins = 201\n",
      "│   time_points = 1022\n",
      "│   adc_points = 0\n",
      "└ @ KomaMRICore C:\\Users\\lucya\\.julia\\packages\\KomaMRICore\\DEJdd\\src\\simulation\\SimulatorCore.jl:385\n",
      "┌ Info: Running simulation in the CPU with 1 thread(s)\n",
      "│   koma_version = 0.9.1\n",
      "│   sim_method = Bloch()\n",
      "│   spins = 201\n",
      "│   time_points = 1022\n",
      "│   adc_points = 0\n",
      "└ @ KomaMRICore C:\\Users\\lucya\\.julia\\packages\\KomaMRICore\\DEJdd\\src\\simulation\\SimulatorCore.jl:385\n"
     ]
    },
    {
     "name": "stdout",
     "output_type": "stream",
     "text": [
      "  0.057907 seconds (151.42 k allocations: 7.599 MiB)\n",
      "  0.063298 seconds (151.42 k allocations: 7.599 MiB)\n"
     ]
    },
    {
     "name": "stderr",
     "output_type": "stream",
     "text": [
      "┌ Info: Running simulation in the CPU with 1 thread(s)\n",
      "│   koma_version = 0.9.1\n",
      "│   sim_method = Bloch()\n",
      "│   spins = 201\n",
      "│   time_points = 1022\n",
      "│   adc_points = 0\n",
      "└ @ KomaMRICore C:\\Users\\lucya\\.julia\\packages\\KomaMRICore\\DEJdd\\src\\simulation\\SimulatorCore.jl:385\n",
      "┌ Info: Running simulation in the CPU with 1 thread(s)\n",
      "│   koma_version = 0.9.1\n",
      "│   sim_method = Bloch()\n",
      "│   spins = 201\n",
      "│   time_points = 1022\n",
      "│   adc_points = 0\n",
      "└ @ KomaMRICore C:\\Users\\lucya\\.julia\\packages\\KomaMRICore\\DEJdd\\src\\simulation\\SimulatorCore.jl:385\n"
     ]
    },
    {
     "name": "stdout",
     "output_type": "stream",
     "text": [
      "  0.038596 seconds (151.41 k allocations: 7.599 MiB)\n",
      "  0.035567 seconds (151.41 k allocations: 7.599 MiB)\n",
      "  0.054736 seconds (151.42 k allocations: 7.599 MiB, 22.98% gc time)\n"
     ]
    },
    {
     "name": "stderr",
     "output_type": "stream",
     "text": [
      "┌ Info: Running simulation in the CPU with 1 thread(s)\n",
      "│   koma_version = 0.9.1\n",
      "│   sim_method = Bloch()\n",
      "│   spins = 201\n",
      "│   time_points = 1022\n",
      "│   adc_points = 0\n",
      "└ @ KomaMRICore C:\\Users\\lucya\\.julia\\packages\\KomaMRICore\\DEJdd\\src\\simulation\\SimulatorCore.jl:385\n",
      "┌ Info: Running simulation in the CPU with 1 thread(s)\n",
      "│   koma_version = 0.9.1\n",
      "│   sim_method = Bloch()\n",
      "│   spins = 201\n",
      "│   time_points = 1022\n",
      "│   adc_points = 0\n",
      "└ @ KomaMRICore C:\\Users\\lucya\\.julia\\packages\\KomaMRICore\\DEJdd\\src\\simulation\\SimulatorCore.jl:385\n",
      "┌ Info: Running simulation in the CPU with 1 thread(s)\n",
      "│   koma_version = 0.9.1\n",
      "│   sim_method = Bloch()\n",
      "│   spins = 201\n",
      "│   time_points = 1022\n",
      "│   adc_points = 0\n",
      "└ @ KomaMRICore C:\\Users\\lucya\\.julia\\packages\\KomaMRICore\\DEJdd\\src\\simulation\\SimulatorCore.jl:385\n"
     ]
    },
    {
     "name": "stdout",
     "output_type": "stream",
     "text": [
      "  0.059392 seconds (151.42 k allocations: 7.599 MiB)\n",
      "  0.055240 seconds (151.41 k allocations: 7.599 MiB)\n"
     ]
    },
    {
     "name": "stderr",
     "output_type": "stream",
     "text": [
      "┌ Info: Running simulation in the CPU with 1 thread(s)\n",
      "│   koma_version = 0.9.1\n",
      "│   sim_method = Bloch()\n",
      "│   spins = 201\n",
      "│   time_points = 1022\n",
      "│   adc_points = 0\n",
      "└ @ KomaMRICore C:\\Users\\lucya\\.julia\\packages\\KomaMRICore\\DEJdd\\src\\simulation\\SimulatorCore.jl:385\n",
      "┌ Info: Running simulation in the CPU with 1 thread(s)\n",
      "│   koma_version = 0.9.1\n",
      "│   sim_method = Bloch()\n",
      "│   spins = 201\n",
      "│   time_points = 1022\n",
      "│   adc_points = 0\n",
      "└ @ KomaMRICore C:\\Users\\lucya\\.julia\\packages\\KomaMRICore\\DEJdd\\src\\simulation\\SimulatorCore.jl:385\n"
     ]
    },
    {
     "name": "stdout",
     "output_type": "stream",
     "text": [
      "  0.053886 seconds (151.41 k allocations: 7.599 MiB)\n",
      "  0.040654 seconds (151.41 k allocations: 7.599 MiB)\n"
     ]
    },
    {
     "name": "stderr",
     "output_type": "stream",
     "text": [
      "┌ Info: Running simulation in the CPU with 1 thread(s)\n",
      "│   koma_version = 0.9.1\n",
      "│   sim_method = Bloch()\n",
      "│   spins = 201\n",
      "│   time_points = 1022\n",
      "│   adc_points = 0\n",
      "└ @ KomaMRICore C:\\Users\\lucya\\.julia\\packages\\KomaMRICore\\DEJdd\\src\\simulation\\SimulatorCore.jl:385\n",
      "┌ Info: Running simulation in the CPU with 1 thread(s)\n",
      "│   koma_version = 0.9.1\n",
      "│   sim_method = Bloch()\n",
      "│   spins = 201\n",
      "│   time_points = 1022\n",
      "│   adc_points = 0\n",
      "└ @ KomaMRICore C:\\Users\\lucya\\.julia\\packages\\KomaMRICore\\DEJdd\\src\\simulation\\SimulatorCore.jl:385\n"
     ]
    },
    {
     "name": "stdout",
     "output_type": "stream",
     "text": [
      "  0.057680 seconds (151.41 k allocations: 7.599 MiB)\n",
      "  0.057168 seconds (151.42 k allocations: 7.599 MiB)\n"
     ]
    },
    {
     "name": "stderr",
     "output_type": "stream",
     "text": [
      "┌ Info: Running simulation in the CPU with 1 thread(s)\n",
      "│   koma_version = 0.9.1\n",
      "│   sim_method = Bloch()\n",
      "│   spins = 201\n",
      "│   time_points = 1022\n",
      "│   adc_points = 0\n",
      "└ @ KomaMRICore C:\\Users\\lucya\\.julia\\packages\\KomaMRICore\\DEJdd\\src\\simulation\\SimulatorCore.jl:385\n",
      "┌ Info: Running simulation in the CPU with 1 thread(s)\n",
      "│   koma_version = 0.9.1\n",
      "│   sim_method = Bloch()\n",
      "│   spins = 201\n",
      "│   time_points = 1022\n",
      "│   adc_points = 0\n",
      "└ @ KomaMRICore C:\\Users\\lucya\\.julia\\packages\\KomaMRICore\\DEJdd\\src\\simulation\\SimulatorCore.jl:385\n"
     ]
    },
    {
     "name": "stdout",
     "output_type": "stream",
     "text": [
      "  0.043126 seconds (151.42 k allocations: 7.599 MiB)\n",
      "  0.055162 seconds (151.88 k allocations: 7.637 MiB, 25.58% gc time)\n"
     ]
    },
    {
     "name": "stderr",
     "output_type": "stream",
     "text": [
      "┌ Info: Running simulation in the CPU with 1 thread(s)\n",
      "│   koma_version = 0.9.1\n",
      "│   sim_method = Bloch()\n",
      "│   spins = 201\n",
      "│   time_points = 1022\n",
      "│   adc_points = 0\n",
      "└ @ KomaMRICore C:\\Users\\lucya\\.julia\\packages\\KomaMRICore\\DEJdd\\src\\simulation\\SimulatorCore.jl:385\n",
      "┌ Info: Running simulation in the CPU with 1 thread(s)\n",
      "│   koma_version = 0.9.1\n",
      "│   sim_method = Bloch()\n",
      "│   spins = 201\n",
      "│   time_points = 1022\n",
      "│   adc_points = 0\n",
      "└ @ KomaMRICore C:\\Users\\lucya\\.julia\\packages\\KomaMRICore\\DEJdd\\src\\simulation\\SimulatorCore.jl:385\n"
     ]
    },
    {
     "name": "stdout",
     "output_type": "stream",
     "text": [
      "  0.046507 seconds (151.88 k allocations: 7.637 MiB)\n",
      "  0.069830 seconds (151.88 k allocations: 7.637 MiB)\n"
     ]
    },
    {
     "name": "stderr",
     "output_type": "stream",
     "text": [
      "┌ Info: Running simulation in the CPU with 1 thread(s)\n",
      "│   koma_version = 0.9.1\n",
      "│   sim_method = Bloch()\n",
      "│   spins = 201\n",
      "│   time_points = 1022\n",
      "│   adc_points = 0\n",
      "└ @ KomaMRICore C:\\Users\\lucya\\.julia\\packages\\KomaMRICore\\DEJdd\\src\\simulation\\SimulatorCore.jl:385\n",
      "┌ Info: Running simulation in the CPU with 1 thread(s)\n",
      "│   koma_version = 0.9.1\n",
      "│   sim_method = Bloch()\n",
      "│   spins = 201\n",
      "│   time_points = 1022\n",
      "│   adc_points = 0\n",
      "└ @ KomaMRICore C:\\Users\\lucya\\.julia\\packages\\KomaMRICore\\DEJdd\\src\\simulation\\SimulatorCore.jl:385\n"
     ]
    },
    {
     "name": "stdout",
     "output_type": "stream",
     "text": [
      "  0.106262 seconds (151.88 k allocations: 7.637 MiB)\n",
      "  0.046259 seconds (151.88 k allocations: 7.637 MiB)\n",
      "  0.037661 seconds (151.88 k allocations: 7.637 MiB)\n"
     ]
    },
    {
     "name": "stderr",
     "output_type": "stream",
     "text": [
      "┌ Info: Running simulation in the CPU with 1 thread(s)\n",
      "│   koma_version = 0.9.1\n",
      "│   sim_method = Bloch()\n",
      "│   spins = 201\n",
      "│   time_points = 1022\n",
      "│   adc_points = 0\n",
      "└ @ KomaMRICore C:\\Users\\lucya\\.julia\\packages\\KomaMRICore\\DEJdd\\src\\simulation\\SimulatorCore.jl:385\n",
      "┌ Info: Running simulation in the CPU with 1 thread(s)\n",
      "│   koma_version = 0.9.1\n",
      "│   sim_method = Bloch()\n",
      "│   spins = 201\n",
      "│   time_points = 1022\n",
      "│   adc_points = 0\n",
      "└ @ KomaMRICore C:\\Users\\lucya\\.julia\\packages\\KomaMRICore\\DEJdd\\src\\simulation\\SimulatorCore.jl:385\n",
      "┌ Info: Running simulation in the CPU with 1 thread(s)\n",
      "│   koma_version = 0.9.1\n",
      "│   sim_method = Bloch()\n",
      "│   spins = 201\n",
      "│   time_points = 1022\n",
      "│   adc_points = 0\n",
      "└ @ KomaMRICore C:\\Users\\lucya\\.julia\\packages\\KomaMRICore\\DEJdd\\src\\simulation\\SimulatorCore.jl:385\n"
     ]
    },
    {
     "name": "stdout",
     "output_type": "stream",
     "text": [
      "  0.042514 seconds (151.88 k allocations: 7.637 MiB)\n"
     ]
    },
    {
     "name": "stderr",
     "output_type": "stream",
     "text": [
      "┌ Info: Running simulation in the CPU with 1 thread(s)\n",
      "│   koma_version = 0.9.1\n",
      "│   sim_method = Bloch()\n",
      "│   spins = 201\n",
      "│   time_points = 1022\n",
      "│   adc_points = 0\n",
      "└ @ KomaMRICore C:\\Users\\lucya\\.julia\\packages\\KomaMRICore\\DEJdd\\src\\simulation\\SimulatorCore.jl:385\n"
     ]
    },
    {
     "name": "stdout",
     "output_type": "stream",
     "text": [
      "  0.096585 seconds (151.88 k allocations: 7.637 MiB)\n"
     ]
    },
    {
     "name": "stderr",
     "output_type": "stream",
     "text": [
      "┌ Info: Running simulation in the CPU with 1 thread(s)\n",
      "│   koma_version = 0.9.1\n",
      "│   sim_method = Bloch()\n",
      "│   spins = 201\n",
      "│   time_points = 1022\n",
      "│   adc_points = 0\n",
      "└ @ KomaMRICore C:\\Users\\lucya\\.julia\\packages\\KomaMRICore\\DEJdd\\src\\simulation\\SimulatorCore.jl:385\n",
      "\u001b[32mRunning simulation...  85%|██████████████████████████    |  ETA: 0:00:00\u001b[39m\u001b[K\n",
      "\n",
      "\n",
      "\u001b[32mRunning simulation... 100%|██████████████████████████████| Time: 0:00:00\u001b[39m\u001b[K\n",
      "\u001b[34m   simulated_blocks: 26\u001b[39m\u001b[K\n",
      "\u001b[34m          rf_blocks: 22\u001b[39m\u001b[K\n",
      "\u001b[34m        acq_samples: 0\u001b[39m\u001b[K\n"
     ]
    },
    {
     "name": "stdout",
     "output_type": "stream",
     "text": [
      "  0.111805 seconds (152.53 k allocations: 7.671 MiB, 15.64% gc time)\n",
      "  0.063887 seconds (151.88 k allocations: 7.637 MiB)\n"
     ]
    },
    {
     "name": "stderr",
     "output_type": "stream",
     "text": [
      "┌ Info: Running simulation in the CPU with 1 thread(s)\n",
      "│   koma_version = 0.9.1\n",
      "│   sim_method = Bloch()\n",
      "│   spins = 201\n",
      "│   time_points = 1022\n",
      "│   adc_points = 0\n",
      "└ @ KomaMRICore C:\\Users\\lucya\\.julia\\packages\\KomaMRICore\\DEJdd\\src\\simulation\\SimulatorCore.jl:385\n",
      "┌ Info: Running simulation in the CPU with 1 thread(s)\n",
      "│   koma_version = 0.9.1\n",
      "│   sim_method = Bloch()\n",
      "│   spins = 201\n",
      "│   time_points = 1022\n",
      "│   adc_points = 0\n",
      "└ @ KomaMRICore C:\\Users\\lucya\\.julia\\packages\\KomaMRICore\\DEJdd\\src\\simulation\\SimulatorCore.jl:385\n"
     ]
    },
    {
     "name": "stdout",
     "output_type": "stream",
     "text": [
      "  0.041040 seconds (151.88 k allocations: 7.637 MiB)\n",
      "  0.040396 seconds (151.88 k allocations: 7.637 MiB)\n"
     ]
    },
    {
     "name": "stderr",
     "output_type": "stream",
     "text": [
      "┌ Info: Running simulation in the CPU with 1 thread(s)\n",
      "│   koma_version = 0.9.1\n",
      "│   sim_method = Bloch()\n",
      "│   spins = 201\n",
      "│   time_points = 1022\n",
      "│   adc_points = 0\n",
      "└ @ KomaMRICore C:\\Users\\lucya\\.julia\\packages\\KomaMRICore\\DEJdd\\src\\simulation\\SimulatorCore.jl:385\n",
      "┌ Info: Running simulation in the CPU with 1 thread(s)\n",
      "│   koma_version = 0.9.1\n",
      "│   sim_method = Bloch()\n",
      "│   spins = 201\n",
      "│   time_points = 1022\n",
      "│   adc_points = 0\n",
      "└ @ KomaMRICore C:\\Users\\lucya\\.julia\\packages\\KomaMRICore\\DEJdd\\src\\simulation\\SimulatorCore.jl:385\n"
     ]
    },
    {
     "name": "stdout",
     "output_type": "stream",
     "text": [
      "  0.092799 seconds (151.88 k allocations: 7.637 MiB)\n"
     ]
    },
    {
     "name": "stderr",
     "output_type": "stream",
     "text": [
      "┌ Info: Running simulation in the CPU with 1 thread(s)\n",
      "│   koma_version = 0.9.1\n",
      "│   sim_method = Bloch()\n",
      "│   spins = 201\n",
      "│   time_points = 1022\n",
      "│   adc_points = 0\n",
      "└ @ KomaMRICore C:\\Users\\lucya\\.julia\\packages\\KomaMRICore\\DEJdd\\src\\simulation\\SimulatorCore.jl:385\n",
      "\u001b[32mRunning simulation...  46%|██████████████                |  ETA: 0:00:00\u001b[39m\u001b[K\n",
      "\n",
      "\n",
      "\u001b[32mRunning simulation...  85%|██████████████████████████    |  ETA: 0:00:00\u001b[39m\u001b[K\n",
      "\n",
      "\n",
      "\u001b[32mRunning simulation... 100%|██████████████████████████████| Time: 0:00:00\u001b[39m\u001b[K\n",
      "\u001b[34m   simulated_blocks: 26\u001b[39m\u001b[K\n",
      "\u001b[34m          rf_blocks: 22\u001b[39m\u001b[K\n",
      "\u001b[34m        acq_samples: 0\u001b[39m\u001b[K\n"
     ]
    },
    {
     "name": "stdout",
     "output_type": "stream",
     "text": [
      "  0.443142 seconds (152.86 k allocations: 7.685 MiB)\n"
     ]
    },
    {
     "name": "stderr",
     "output_type": "stream",
     "text": [
      "┌ Info: Running simulation in the CPU with 1 thread(s)\n",
      "│   koma_version = 0.9.1\n",
      "│   sim_method = Bloch()\n",
      "│   spins = 201\n",
      "│   time_points = 1022\n",
      "│   adc_points = 0\n",
      "└ @ KomaMRICore C:\\Users\\lucya\\.julia\\packages\\KomaMRICore\\DEJdd\\src\\simulation\\SimulatorCore.jl:385\n",
      "\u001b[32mRunning simulation...  27%|█████████                     |  ETA: 0:00:00\u001b[39m\u001b[K\n",
      "\n",
      "\n",
      "\u001b[32mRunning simulation...  42%|█████████████                 |  ETA: 0:00:00\u001b[39m\u001b[K\n",
      "\n",
      "\n",
      "\u001b[32mRunning simulation...  69%|█████████████████████         |  ETA: 0:00:00\u001b[39m\u001b[K\n",
      "\n",
      "\n",
      "\u001b[32mRunning simulation... 100%|██████████████████████████████| Time: 0:00:00\u001b[39m\u001b[K\n",
      "\u001b[34m   simulated_blocks: 26\u001b[39m\u001b[K\n",
      "\u001b[34m          rf_blocks: 22\u001b[39m\u001b[K\n",
      "\u001b[34m        acq_samples: 0\u001b[39m\u001b[K\n"
     ]
    },
    {
     "name": "stdout",
     "output_type": "stream",
     "text": [
      "  0.515142 seconds (153.13 k allocations: 7.696 MiB)\n"
     ]
    },
    {
     "name": "stderr",
     "output_type": "stream",
     "text": [
      "┌ Info: Running simulation in the CPU with 1 thread(s)\n",
      "│   koma_version = 0.9.1\n",
      "│   sim_method = Bloch()\n",
      "│   spins = 201\n",
      "│   time_points = 1022\n",
      "│   adc_points = 0\n",
      "└ @ KomaMRICore C:\\Users\\lucya\\.julia\\packages\\KomaMRICore\\DEJdd\\src\\simulation\\SimulatorCore.jl:385\n",
      "\u001b[32mRunning simulation...  50%|████████████████              |  ETA: 0:00:00\u001b[39m\u001b[K\n",
      "\n",
      "\n",
      "\u001b[32mRunning simulation...  85%|██████████████████████████    |  ETA: 0:00:00\u001b[39m\u001b[K\n",
      "\n",
      "\n",
      "\u001b[32mRunning simulation... 100%|██████████████████████████████| Time: 0:00:00\u001b[39m\u001b[K\n",
      "\u001b[34m   simulated_blocks: 26\u001b[39m\u001b[K\n",
      "\u001b[34m          rf_blocks: 22\u001b[39m\u001b[K\n",
      "\u001b[34m        acq_samples: 0\u001b[39m\u001b[K\n"
     ]
    },
    {
     "name": "stdout",
     "output_type": "stream",
     "text": [
      "  0.426828 seconds (152.85 k allocations: 7.685 MiB)\n"
     ]
    },
    {
     "name": "stderr",
     "output_type": "stream",
     "text": [
      "┌ Info: Running simulation in the CPU with 1 thread(s)\n",
      "│   koma_version = 0.9.1\n",
      "│   sim_method = Bloch()\n",
      "│   spins = 201\n",
      "│   time_points = 1022\n",
      "│   adc_points = 0\n",
      "└ @ KomaMRICore C:\\Users\\lucya\\.julia\\packages\\KomaMRICore\\DEJdd\\src\\simulation\\SimulatorCore.jl:385\n",
      "\u001b[32mRunning simulation...  42%|█████████████                 |  ETA: 0:00:00\u001b[39m\u001b[K\n",
      "\n",
      "\n",
      "\u001b[32mRunning simulation...  65%|████████████████████          |  ETA: 0:00:00\u001b[39m\u001b[K\n",
      "\n",
      "\n",
      "\u001b[32mRunning simulation... 100%|██████████████████████████████| Time: 0:00:00\u001b[39m\u001b[K\n",
      "\u001b[34m   simulated_blocks: 26\u001b[39m\u001b[K\n",
      "\u001b[34m          rf_blocks: 22\u001b[39m\u001b[K\n",
      "\u001b[34m        acq_samples: 0\u001b[39m\u001b[K\n"
     ]
    },
    {
     "name": "stdout",
     "output_type": "stream",
     "text": [
      "  0.651464 seconds (152.84 k allocations: 7.684 MiB, 5.27% gc time)\n"
     ]
    },
    {
     "name": "stderr",
     "output_type": "stream",
     "text": [
      "┌ Info: Running simulation in the CPU with 1 thread(s)\n",
      "│   koma_version = 0.9.1\n",
      "│   sim_method = Bloch()\n",
      "│   spins = 201\n",
      "│   time_points = 1022\n",
      "│   adc_points = 0\n",
      "└ @ KomaMRICore C:\\Users\\lucya\\.julia\\packages\\KomaMRICore\\DEJdd\\src\\simulation\\SimulatorCore.jl:385\n",
      "\u001b[32mRunning simulation...  42%|█████████████                 |  ETA: 0:00:00\u001b[39m\u001b[K\n",
      "\n",
      "\n",
      "\u001b[32mRunning simulation...  73%|██████████████████████        |  ETA: 0:00:00\u001b[39m\u001b[K\n",
      "\n",
      "\n",
      "\u001b[32mRunning simulation... 100%|██████████████████████████████| Time: 0:00:00\u001b[39m\u001b[K\n",
      "\u001b[34m   simulated_blocks: 26\u001b[39m\u001b[K\n",
      "\u001b[34m          rf_blocks: 22\u001b[39m\u001b[K\n",
      "\u001b[34m        acq_samples: 0\u001b[39m\u001b[K\n"
     ]
    },
    {
     "name": "stdout",
     "output_type": "stream",
     "text": [
      "  0.455580 seconds (152.88 k allocations: 7.686 MiB)\n"
     ]
    },
    {
     "name": "stderr",
     "output_type": "stream",
     "text": [
      "┌ Info: Running simulation in the CPU with 1 thread(s)\n",
      "│   koma_version = 0.9.1\n",
      "│   sim_method = Bloch()\n",
      "│   spins = 201\n",
      "│   time_points = 1022\n",
      "│   adc_points = 0\n",
      "└ @ KomaMRICore C:\\Users\\lucya\\.julia\\packages\\KomaMRICore\\DEJdd\\src\\simulation\\SimulatorCore.jl:385\n",
      "\u001b[32mRunning simulation...  42%|█████████████                 |  ETA: 0:00:00\u001b[39m\u001b[K\n",
      "\n",
      "\n",
      "\u001b[32mRunning simulation...  62%|███████████████████           |  ETA: 0:00:00\u001b[39m\u001b[K\n",
      "\n",
      "\n",
      "\u001b[32mRunning simulation... 100%|██████████████████████████████| Time: 0:00:00\u001b[39m\u001b[K\n",
      "\u001b[34m   simulated_blocks: 26\u001b[39m\u001b[K\n",
      "\u001b[34m          rf_blocks: 22\u001b[39m\u001b[K\n",
      "\u001b[34m        acq_samples: 0\u001b[39m\u001b[K\n"
     ]
    },
    {
     "name": "stdout",
     "output_type": "stream",
     "text": [
      "  0.432350 seconds (152.84 k allocations: 7.684 MiB)\n"
     ]
    },
    {
     "name": "stderr",
     "output_type": "stream",
     "text": [
      "┌ Info: Running simulation in the CPU with 1 thread(s)\n",
      "│   koma_version = 0.9.1\n",
      "│   sim_method = Bloch()\n",
      "│   spins = 201\n",
      "│   time_points = 1022\n",
      "│   adc_points = 0\n",
      "└ @ KomaMRICore C:\\Users\\lucya\\.julia\\packages\\KomaMRICore\\DEJdd\\src\\simulation\\SimulatorCore.jl:385\n",
      "\u001b[32mRunning simulation...  54%|█████████████████             |  ETA: 0:00:00\u001b[39m\u001b[K\n",
      "\n",
      "\n",
      "\u001b[32mRunning simulation...  96%|█████████████████████████████ |  ETA: 0:00:00\u001b[39m\u001b[K\n",
      "\n",
      "\n",
      "\u001b[32mRunning simulation... 100%|██████████████████████████████| Time: 0:00:00\u001b[39m\u001b[K\n",
      "\u001b[34m   simulated_blocks: 26\u001b[39m\u001b[K\n",
      "\u001b[34m          rf_blocks: 22\u001b[39m\u001b[K\n",
      "\u001b[34m        acq_samples: 0\u001b[39m\u001b[K\n"
     ]
    },
    {
     "name": "stdout",
     "output_type": "stream",
     "text": [
      "  0.407275 seconds (152.86 k allocations: 7.685 MiB)\n"
     ]
    },
    {
     "name": "stderr",
     "output_type": "stream",
     "text": [
      "┌ Info: Running simulation in the CPU with 1 thread(s)\n",
      "│   koma_version = 0.9.1\n",
      "│   sim_method = Bloch()\n",
      "│   spins = 201\n",
      "│   time_points = 1022\n",
      "│   adc_points = 0\n",
      "└ @ KomaMRICore C:\\Users\\lucya\\.julia\\packages\\KomaMRICore\\DEJdd\\src\\simulation\\SimulatorCore.jl:385\n",
      "\u001b[32mRunning simulation...  42%|█████████████                 |  ETA: 0:00:00\u001b[39m\u001b[K\n",
      "\n",
      "\n",
      "\u001b[32mRunning simulation...  69%|█████████████████████         |  ETA: 0:00:00\u001b[39m\u001b[K\n",
      "\n",
      "\n",
      "\u001b[32mRunning simulation... 100%|██████████████████████████████| Time: 0:00:00\u001b[39m\u001b[K\n",
      "\u001b[34m   simulated_blocks: 26\u001b[39m\u001b[K\n",
      "\u001b[34m          rf_blocks: 22\u001b[39m\u001b[K\n",
      "\u001b[34m        acq_samples: 0\u001b[39m\u001b[K\n"
     ]
    },
    {
     "name": "stdout",
     "output_type": "stream",
     "text": [
      "  0.494389 seconds (152.78 k allocations: 7.682 MiB)\n"
     ]
    },
    {
     "name": "stderr",
     "output_type": "stream",
     "text": [
      "┌ Info: Running simulation in the CPU with 1 thread(s)\n",
      "│   koma_version = 0.9.1\n",
      "│   sim_method = Bloch()\n",
      "│   spins = 201\n",
      "│   time_points = 1022\n",
      "│   adc_points = 0\n",
      "└ @ KomaMRICore C:\\Users\\lucya\\.julia\\packages\\KomaMRICore\\DEJdd\\src\\simulation\\SimulatorCore.jl:385\n",
      "\u001b[32mRunning simulation...  54%|█████████████████             |  ETA: 0:00:00\u001b[39m\u001b[K\n",
      "\n",
      "\n",
      "\u001b[32mRunning simulation... 100%|██████████████████████████████| Time: 0:00:00\u001b[39m\u001b[K\n",
      "\u001b[34m   simulated_blocks: 26\u001b[39m\u001b[K\n",
      "\u001b[34m          rf_blocks: 22\u001b[39m\u001b[K\n",
      "\u001b[34m        acq_samples: 0\u001b[39m\u001b[K\n"
     ]
    },
    {
     "name": "stdout",
     "output_type": "stream",
     "text": [
      "  0.329722 seconds (152.53 k allocations: 7.669 MiB)\n"
     ]
    },
    {
     "name": "stderr",
     "output_type": "stream",
     "text": [
      "┌ Info: Running simulation in the CPU with 1 thread(s)\n",
      "│   koma_version = 0.9.1\n",
      "│   sim_method = Bloch()\n",
      "│   spins = 201\n",
      "│   time_points = 1022\n",
      "│   adc_points = 0\n",
      "└ @ KomaMRICore C:\\Users\\lucya\\.julia\\packages\\KomaMRICore\\DEJdd\\src\\simulation\\SimulatorCore.jl:385\n",
      "\u001b[32mRunning simulation...  42%|█████████████                 |  ETA: 0:00:00\u001b[39m\u001b[K\n",
      "\n",
      "\n",
      "\u001b[32mRunning simulation...  58%|██████████████████            |  ETA: 0:00:00\u001b[39m\u001b[K\n",
      "\n",
      "\n",
      "\u001b[32mRunning simulation...  77%|████████████████████████      |  ETA: 0:00:00\u001b[39m\u001b[K\n",
      "\n",
      "\n",
      "\u001b[32mRunning simulation... 100%|██████████████████████████████| Time: 0:00:00\u001b[39m\u001b[K\n",
      "\u001b[34m   simulated_blocks: 26\u001b[39m\u001b[K\n",
      "\u001b[34m          rf_blocks: 22\u001b[39m\u001b[K\n",
      "\u001b[34m        acq_samples: 0\u001b[39m\u001b[K\n"
     ]
    },
    {
     "name": "stdout",
     "output_type": "stream",
     "text": [
      "  0.609337 seconds (153.17 k allocations: 7.697 MiB)\n"
     ]
    },
    {
     "name": "stderr",
     "output_type": "stream",
     "text": [
      "┌ Info: Running simulation in the CPU with 1 thread(s)\n",
      "│   koma_version = 0.9.1\n",
      "│   sim_method = Bloch()\n",
      "│   spins = 201\n",
      "│   time_points = 1022\n",
      "│   adc_points = 0\n",
      "└ @ KomaMRICore C:\\Users\\lucya\\.julia\\packages\\KomaMRICore\\DEJdd\\src\\simulation\\SimulatorCore.jl:385\n",
      "\u001b[32mRunning simulation...  58%|██████████████████            |  ETA: 0:00:00\u001b[39m\u001b[K\n",
      "\n",
      "\n",
      "\u001b[32mRunning simulation... 100%|██████████████████████████████| Time: 0:00:00\u001b[39m\u001b[K\n",
      "\u001b[34m   simulated_blocks: 26\u001b[39m\u001b[K\n",
      "\u001b[34m          rf_blocks: 22\u001b[39m\u001b[K\n",
      "\u001b[34m        acq_samples: 0\u001b[39m\u001b[K\n"
     ]
    },
    {
     "name": "stdout",
     "output_type": "stream",
     "text": [
      "  0.255295 seconds (152.54 k allocations: 7.671 MiB)\n"
     ]
    },
    {
     "name": "stderr",
     "output_type": "stream",
     "text": [
      "┌ Info: Running simulation in the CPU with 1 thread(s)\n",
      "│   koma_version = 0.9.1\n",
      "│   sim_method = Bloch()\n",
      "│   spins = 201\n",
      "│   time_points = 1022\n",
      "│   adc_points = 0\n",
      "└ @ KomaMRICore C:\\Users\\lucya\\.julia\\packages\\KomaMRICore\\DEJdd\\src\\simulation\\SimulatorCore.jl:385\n",
      "\u001b[32mRunning simulation...  31%|██████████                    |  ETA: 0:00:00\u001b[39m\u001b[K\n",
      "\n",
      "\n",
      "\u001b[32mRunning simulation...  46%|██████████████                |  ETA: 0:00:00\u001b[39m\u001b[K\n",
      "\n",
      "\n",
      "\u001b[32mRunning simulation... 100%|██████████████████████████████| Time: 0:00:01\u001b[39m\u001b[K\n",
      "\u001b[34m   simulated_blocks: 26\u001b[39m\u001b[K\n",
      "\u001b[34m          rf_blocks: 22\u001b[39m\u001b[K\n",
      "\u001b[34m        acq_samples: 0\u001b[39m\u001b[K\n"
     ]
    },
    {
     "name": "stdout",
     "output_type": "stream",
     "text": [
      "  1.208321 seconds (153.02 k allocations: 7.693 MiB)\n"
     ]
    },
    {
     "name": "stderr",
     "output_type": "stream",
     "text": [
      "┌ Info: Running simulation in the CPU with 1 thread(s)\n",
      "│   koma_version = 0.9.1\n",
      "│   sim_method = Bloch()\n",
      "│   spins = 201\n",
      "│   time_points = 1022\n",
      "│   adc_points = 0\n",
      "└ @ KomaMRICore C:\\Users\\lucya\\.julia\\packages\\KomaMRICore\\DEJdd\\src\\simulation\\SimulatorCore.jl:385\n",
      "\u001b[32mRunning simulation...  38%|████████████                  |  ETA: 0:00:00\u001b[39m\u001b[K\n",
      "\n",
      "\n",
      "\u001b[32mRunning simulation...  65%|████████████████████          |  ETA: 0:00:00\u001b[39m\u001b[K\n",
      "\n",
      "\n",
      "\u001b[32mRunning simulation...  85%|██████████████████████████    |  ETA: 0:00:00\u001b[39m\u001b[K\n",
      "\n",
      "\n",
      "\u001b[32mRunning simulation... 100%|██████████████████████████████| Time: 0:00:00\u001b[39m\u001b[K\n",
      "\u001b[34m   simulated_blocks: 26\u001b[39m\u001b[K\n",
      "\u001b[34m          rf_blocks: 22\u001b[39m\u001b[K\n",
      "\u001b[34m        acq_samples: 0\u001b[39m\u001b[K\n"
     ]
    },
    {
     "name": "stdout",
     "output_type": "stream",
     "text": [
      "  0.563761 seconds (153.01 k allocations: 7.692 MiB)\n"
     ]
    },
    {
     "name": "stderr",
     "output_type": "stream",
     "text": [
      "┌ Info: Running simulation in the CPU with 1 thread(s)\n",
      "│   koma_version = 0.9.1\n",
      "│   sim_method = Bloch()\n",
      "│   spins = 201\n",
      "│   time_points = 1022\n",
      "│   adc_points = 0\n",
      "└ @ KomaMRICore C:\\Users\\lucya\\.julia\\packages\\KomaMRICore\\DEJdd\\src\\simulation\\SimulatorCore.jl:385\n",
      "\u001b[32mRunning simulation...  42%|█████████████                 |  ETA: 0:00:00\u001b[39m\u001b[K\n",
      "\n",
      "\n",
      "\u001b[32mRunning simulation...  62%|███████████████████           |  ETA: 0:00:00\u001b[39m\u001b[K\n",
      "\n",
      "\n",
      "\u001b[32mRunning simulation... 100%|██████████████████████████████| Time: 0:00:00\u001b[39m\u001b[K\n",
      "\u001b[34m   simulated_blocks: 26\u001b[39m\u001b[K\n",
      "\u001b[34m          rf_blocks: 22\u001b[39m\u001b[K\n",
      "\u001b[34m        acq_samples: 0\u001b[39m\u001b[K\n"
     ]
    },
    {
     "name": "stdout",
     "output_type": "stream",
     "text": [
      "  0.446164 seconds (152.77 k allocations: 7.681 MiB)\n"
     ]
    },
    {
     "name": "stderr",
     "output_type": "stream",
     "text": [
      "┌ Info: Running simulation in the CPU with 1 thread(s)\n",
      "│   koma_version = 0.9.1\n",
      "│   sim_method = Bloch()\n",
      "│   spins = 201\n",
      "│   time_points = 1022\n",
      "│   adc_points = 0\n",
      "└ @ KomaMRICore C:\\Users\\lucya\\.julia\\packages\\KomaMRICore\\DEJdd\\src\\simulation\\SimulatorCore.jl:385\n",
      "\u001b[32mRunning simulation...  42%|█████████████                 |  ETA: 0:00:00\u001b[39m\u001b[K\n",
      "\n",
      "\n",
      "\u001b[32mRunning simulation...  88%|███████████████████████████   |  ETA: 0:00:00\u001b[39m\u001b[K\n",
      "\n",
      "\n",
      "\u001b[32mRunning simulation... 100%|██████████████████████████████| Time: 0:00:00\u001b[39m\u001b[K\n",
      "\u001b[34m   simulated_blocks: 26\u001b[39m\u001b[K\n",
      "\u001b[34m          rf_blocks: 22\u001b[39m\u001b[K\n",
      "\u001b[34m        acq_samples: 0\u001b[39m\u001b[K\n"
     ]
    },
    {
     "name": "stdout",
     "output_type": "stream",
     "text": [
      "  0.818465 seconds (152.79 k allocations: 7.684 MiB)\n"
     ]
    },
    {
     "name": "stderr",
     "output_type": "stream",
     "text": [
      "┌ Info: Running simulation in the CPU with 1 thread(s)\n",
      "│   koma_version = 0.9.1\n",
      "│   sim_method = Bloch()\n",
      "│   spins = 201\n",
      "│   time_points = 1022\n",
      "│   adc_points = 0\n",
      "└ @ KomaMRICore C:\\Users\\lucya\\.julia\\packages\\KomaMRICore\\DEJdd\\src\\simulation\\SimulatorCore.jl:385\n",
      "\u001b[32mRunning simulation...  19%|██████                        |  ETA: 0:00:01\u001b[39m\u001b[K\n",
      "\n",
      "\n",
      "\u001b[32mRunning simulation... 100%|██████████████████████████████| Time: 0:00:00\u001b[39m\u001b[K\n",
      "\u001b[34m   simulated_blocks: 26\u001b[39m\u001b[K\n",
      "\u001b[34m          rf_blocks: 22\u001b[39m\u001b[K\n",
      "\u001b[34m        acq_samples: 0\u001b[39m\u001b[K\n"
     ]
    },
    {
     "name": "stdout",
     "output_type": "stream",
     "text": [
      "  0.409829 seconds (152.54 k allocations: 7.669 MiB)\n"
     ]
    },
    {
     "name": "stderr",
     "output_type": "stream",
     "text": [
      "┌ Info: Running simulation in the CPU with 1 thread(s)\n",
      "│   koma_version = 0.9.1\n",
      "│   sim_method = Bloch()\n",
      "│   spins = 201\n",
      "│   time_points = 1022\n",
      "│   adc_points = 0\n",
      "└ @ KomaMRICore C:\\Users\\lucya\\.julia\\packages\\KomaMRICore\\DEJdd\\src\\simulation\\SimulatorCore.jl:385\n",
      "\u001b[32mRunning simulation...  54%|█████████████████             |  ETA: 0:00:00\u001b[39m\u001b[K\n",
      "\n",
      "\n",
      "\u001b[32mRunning simulation... 100%|██████████████████████████████| Time: 0:00:00\u001b[39m\u001b[K\n",
      "\u001b[34m   simulated_blocks: 26\u001b[39m\u001b[K\n",
      "\u001b[34m          rf_blocks: 22\u001b[39m\u001b[K\n",
      "\u001b[34m        acq_samples: 0\u001b[39m\u001b[K\n"
     ]
    },
    {
     "name": "stdout",
     "output_type": "stream",
     "text": [
      "  0.353231 seconds (152.43 k allocations: 7.666 MiB)\n"
     ]
    },
    {
     "name": "stderr",
     "output_type": "stream",
     "text": [
      "┌ Info: Running simulation in the CPU with 1 thread(s)\n",
      "│   koma_version = 0.9.1\n",
      "│   sim_method = Bloch()\n",
      "│   spins = 201\n",
      "│   time_points = 1022\n",
      "│   adc_points = 0\n",
      "└ @ KomaMRICore C:\\Users\\lucya\\.julia\\packages\\KomaMRICore\\DEJdd\\src\\simulation\\SimulatorCore.jl:385\n",
      "\u001b[32mRunning simulation...  62%|███████████████████           |  ETA: 0:00:00\u001b[39m\u001b[K\n",
      "\n",
      "\n",
      "\u001b[32mRunning simulation... 100%|██████████████████████████████| Time: 0:00:00\u001b[39m\u001b[K\n",
      "\u001b[34m   simulated_blocks: 26\u001b[39m\u001b[K\n",
      "\u001b[34m          rf_blocks: 22\u001b[39m\u001b[K\n",
      "\u001b[34m        acq_samples: 0\u001b[39m\u001b[K\n"
     ]
    },
    {
     "name": "stdout",
     "output_type": "stream",
     "text": [
      "  0.218965 seconds (152.42 k allocations: 7.665 MiB)\n"
     ]
    },
    {
     "name": "stderr",
     "output_type": "stream",
     "text": [
      "┌ Info: Running simulation in the CPU with 1 thread(s)\n",
      "│   koma_version = 0.9.1\n",
      "│   sim_method = Bloch()\n",
      "│   spins = 201\n",
      "│   time_points = 1022\n",
      "│   adc_points = 0\n",
      "└ @ KomaMRICore C:\\Users\\lucya\\.julia\\packages\\KomaMRICore\\DEJdd\\src\\simulation\\SimulatorCore.jl:385\n",
      "\u001b[32mRunning simulation...  69%|█████████████████████         |  ETA: 0:00:00\u001b[39m\u001b[K\n",
      "\n",
      "\n",
      "\u001b[32mRunning simulation... 100%|██████████████████████████████| Time: 0:00:00\u001b[39m\u001b[K\n",
      "\u001b[34m   simulated_blocks: 26\u001b[39m\u001b[K\n",
      "\u001b[34m          rf_blocks: 22\u001b[39m\u001b[K\n",
      "\u001b[34m        acq_samples: 0\u001b[39m\u001b[K\n"
     ]
    },
    {
     "name": "stdout",
     "output_type": "stream",
     "text": [
      "  0.183261 seconds (152.41 k allocations: 7.665 MiB)\n"
     ]
    },
    {
     "name": "stderr",
     "output_type": "stream",
     "text": [
      "┌ Info: Running simulation in the CPU with 1 thread(s)\n",
      "│   koma_version = 0.9.1\n",
      "│   sim_method = Bloch()\n",
      "│   spins = 201\n",
      "│   time_points = 1022\n",
      "│   adc_points = 0\n",
      "└ @ KomaMRICore C:\\Users\\lucya\\.julia\\packages\\KomaMRICore\\DEJdd\\src\\simulation\\SimulatorCore.jl:385\n",
      "\u001b[32mRunning simulation...  73%|██████████████████████        |  ETA: 0:00:00\u001b[39m\u001b[K\n",
      "\n",
      "\n",
      "\u001b[32mRunning simulation... 100%|██████████████████████████████| Time: 0:00:00\u001b[39m\u001b[K\n",
      "\u001b[34m   simulated_blocks: 26\u001b[39m\u001b[K\n",
      "\u001b[34m          rf_blocks: 22\u001b[39m\u001b[K\n",
      "\u001b[34m        acq_samples: 0\u001b[39m\u001b[K\n"
     ]
    },
    {
     "name": "stdout",
     "output_type": "stream",
     "text": [
      "  0.188715 seconds (152.41 k allocations: 7.665 MiB)\n"
     ]
    },
    {
     "name": "stderr",
     "output_type": "stream",
     "text": [
      "┌ Info: Running simulation in the CPU with 1 thread(s)\n",
      "│   koma_version = 0.9.1\n",
      "│   sim_method = Bloch()\n",
      "│   spins = 201\n",
      "│   time_points = 1022\n",
      "│   adc_points = 0\n",
      "└ @ KomaMRICore C:\\Users\\lucya\\.julia\\packages\\KomaMRICore\\DEJdd\\src\\simulation\\SimulatorCore.jl:385\n",
      "\u001b[32mRunning simulation...  50%|████████████████              |  ETA: 0:00:00\u001b[39m\u001b[K\n",
      "\n",
      "\n",
      "\u001b[32mRunning simulation...  88%|███████████████████████████   |  ETA: 0:00:00\u001b[39m\u001b[K\n",
      "\n",
      "\n",
      "\u001b[32mRunning simulation... 100%|██████████████████████████████| Time: 0:00:00\u001b[39m\u001b[K\n",
      "\u001b[34m   simulated_blocks: 26\u001b[39m\u001b[K\n",
      "\u001b[34m          rf_blocks: 22\u001b[39m\u001b[K\n",
      "\u001b[34m        acq_samples: 0\u001b[39m\u001b[K\n"
     ]
    },
    {
     "name": "stdout",
     "output_type": "stream",
     "text": [
      "  0.419456 seconds (152.74 k allocations: 7.679 MiB, 5.25% gc time)\n"
     ]
    },
    {
     "name": "stderr",
     "output_type": "stream",
     "text": [
      "┌ Info: Running simulation in the CPU with 1 thread(s)\n",
      "│   koma_version = 0.9.1\n",
      "│   sim_method = Bloch()\n",
      "│   spins = 201\n",
      "│   time_points = 1022\n",
      "│   adc_points = 0\n",
      "└ @ KomaMRICore C:\\Users\\lucya\\.julia\\packages\\KomaMRICore\\DEJdd\\src\\simulation\\SimulatorCore.jl:385\n",
      "\u001b[32mRunning simulation...  38%|████████████                  |  ETA: 0:00:00\u001b[39m\u001b[K\n",
      "\n",
      "\n",
      "\u001b[32mRunning simulation...  62%|███████████████████           |  ETA: 0:00:00\u001b[39m\u001b[K\n",
      "\n",
      "\n",
      "\u001b[32mRunning simulation... 100%|██████████████████████████████| Time: 0:00:00\u001b[39m\u001b[K\n",
      "\u001b[34m   simulated_blocks: 26\u001b[39m\u001b[K\n",
      "\u001b[34m          rf_blocks: 22\u001b[39m\u001b[K\n",
      "\u001b[34m        acq_samples: 0\u001b[39m\u001b[K\n"
     ]
    },
    {
     "name": "stdout",
     "output_type": "stream",
     "text": [
      "  0.421254 seconds (152.72 k allocations: 7.677 MiB)\n"
     ]
    },
    {
     "name": "stderr",
     "output_type": "stream",
     "text": [
      "┌ Info: Running simulation in the CPU with 1 thread(s)\n",
      "│   koma_version = 0.9.1\n",
      "│   sim_method = Bloch()\n",
      "│   spins = 201\n",
      "│   time_points = 1022\n",
      "│   adc_points = 0\n",
      "└ @ KomaMRICore C:\\Users\\lucya\\.julia\\packages\\KomaMRICore\\DEJdd\\src\\simulation\\SimulatorCore.jl:385\n",
      "\u001b[32mRunning simulation...  73%|██████████████████████        |  ETA: 0:00:00\u001b[39m\u001b[K\n",
      "\n",
      "\n",
      "\u001b[32mRunning simulation... 100%|██████████████████████████████| Time: 0:00:00\u001b[39m\u001b[K\n",
      "\u001b[34m   simulated_blocks: 26\u001b[39m\u001b[K\n",
      "\u001b[34m          rf_blocks: 22\u001b[39m\u001b[K\n",
      "\u001b[34m        acq_samples: 0\u001b[39m\u001b[K\n"
     ]
    },
    {
     "name": "stdout",
     "output_type": "stream",
     "text": [
      "  0.173319 seconds (152.41 k allocations: 7.665 MiB)\n"
     ]
    },
    {
     "name": "stderr",
     "output_type": "stream",
     "text": [
      "┌ Info: Running simulation in the CPU with 1 thread(s)\n",
      "│   koma_version = 0.9.1\n",
      "│   sim_method = Bloch()\n",
      "│   spins = 201\n",
      "│   time_points = 1022\n",
      "│   adc_points = 0\n",
      "└ @ KomaMRICore C:\\Users\\lucya\\.julia\\packages\\KomaMRICore\\DEJdd\\src\\simulation\\SimulatorCore.jl:385\n",
      "\u001b[32mRunning simulation...  42%|█████████████                 |  ETA: 0:00:00\u001b[39m\u001b[K\n",
      "\n",
      "\n",
      "\u001b[32mRunning simulation...  77%|████████████████████████      |  ETA: 0:00:00\u001b[39m\u001b[K\n",
      "\n",
      "\n",
      "\u001b[32mRunning simulation... 100%|██████████████████████████████| Time: 0:00:00\u001b[39m\u001b[K\n",
      "\u001b[34m   simulated_blocks: 26\u001b[39m\u001b[K\n",
      "\u001b[34m          rf_blocks: 22\u001b[39m\u001b[K\n",
      "\u001b[34m        acq_samples: 0\u001b[39m\u001b[K\n"
     ]
    },
    {
     "name": "stdout",
     "output_type": "stream",
     "text": [
      "  0.365228 seconds (152.59 k allocations: 7.673 MiB)\n"
     ]
    },
    {
     "name": "stderr",
     "output_type": "stream",
     "text": [
      "┌ Info: Running simulation in the CPU with 1 thread(s)\n",
      "│   koma_version = 0.9.1\n",
      "│   sim_method = Bloch()\n",
      "│   spins = 201\n",
      "│   time_points = 1022\n",
      "│   adc_points = 0\n",
      "└ @ KomaMRICore C:\\Users\\lucya\\.julia\\packages\\KomaMRICore\\DEJdd\\src\\simulation\\SimulatorCore.jl:385\n",
      "\u001b[32mRunning simulation...  31%|██████████                    |  ETA: 0:00:00\u001b[39m\u001b[K\n",
      "\n",
      "\n",
      "\u001b[32mRunning simulation...  50%|████████████████              |  ETA: 0:00:00\u001b[39m\u001b[K\n",
      "\n",
      "\n",
      "\u001b[32mRunning simulation...  88%|███████████████████████████   |  ETA: 0:00:00\u001b[39m\u001b[K\n",
      "\n",
      "\n",
      "\u001b[32mRunning simulation... 100%|██████████████████████████████| Time: 0:00:00\u001b[39m\u001b[K\n",
      "\u001b[34m   simulated_blocks: 26\u001b[39m\u001b[K\n",
      "\u001b[34m          rf_blocks: 22\u001b[39m\u001b[K\n",
      "\u001b[34m        acq_samples: 0\u001b[39m\u001b[K\n"
     ]
    },
    {
     "name": "stdout",
     "output_type": "stream",
     "text": [
      "  0.433230 seconds (152.92 k allocations: 7.687 MiB)\n"
     ]
    },
    {
     "name": "stderr",
     "output_type": "stream",
     "text": [
      "┌ Info: Running simulation in the CPU with 1 thread(s)\n",
      "│   koma_version = 0.9.1\n",
      "│   sim_method = Bloch()\n",
      "│   spins = 201\n",
      "│   time_points = 1022\n",
      "│   adc_points = 0\n",
      "└ @ KomaMRICore C:\\Users\\lucya\\.julia\\packages\\KomaMRICore\\DEJdd\\src\\simulation\\SimulatorCore.jl:385\n",
      "\u001b[32mRunning simulation...  42%|█████████████                 |  ETA: 0:00:00\u001b[39m\u001b[K\n",
      "\n",
      "\n",
      "\u001b[32mRunning simulation... 100%|██████████████████████████████| Time: 0:00:00\u001b[39m\u001b[K\n",
      "\u001b[34m   simulated_blocks: 26\u001b[39m\u001b[K\n",
      "\u001b[34m          rf_blocks: 22\u001b[39m\u001b[K\n",
      "\u001b[34m        acq_samples: 0\u001b[39m\u001b[K\n"
     ]
    },
    {
     "name": "stdout",
     "output_type": "stream",
     "text": [
      "  0.901483 seconds (152.38 k allocations: 7.664 MiB)\n"
     ]
    },
    {
     "name": "stderr",
     "output_type": "stream",
     "text": [
      "┌ Info: Running simulation in the CPU with 1 thread(s)\n",
      "│   koma_version = 0.9.1\n",
      "│   sim_method = Bloch()\n",
      "│   spins = 201\n",
      "│   time_points = 1022\n",
      "│   adc_points = 0\n",
      "└ @ KomaMRICore C:\\Users\\lucya\\.julia\\packages\\KomaMRICore\\DEJdd\\src\\simulation\\SimulatorCore.jl:385\n",
      "\u001b[32mRunning simulation...  77%|████████████████████████      |  ETA: 0:00:00\u001b[39m\u001b[K\n",
      "\n",
      "\n",
      "\u001b[32mRunning simulation... 100%|██████████████████████████████| Time: 0:00:00\u001b[39m\u001b[K\n",
      "\u001b[34m   simulated_blocks: 26\u001b[39m\u001b[K\n",
      "\u001b[34m          rf_blocks: 22\u001b[39m\u001b[K\n",
      "\u001b[34m        acq_samples: 0\u001b[39m\u001b[K\n"
     ]
    },
    {
     "name": "stdout",
     "output_type": "stream",
     "text": [
      "  0.171438 seconds (152.28 k allocations: 7.659 MiB)\n"
     ]
    },
    {
     "name": "stderr",
     "output_type": "stream",
     "text": [
      "┌ Info: Running simulation in the CPU with 1 thread(s)\n",
      "│   koma_version = 0.9.1\n",
      "│   sim_method = Bloch()\n",
      "│   spins = 201\n",
      "│   time_points = 1022\n",
      "│   adc_points = 0\n",
      "└ @ KomaMRICore C:\\Users\\lucya\\.julia\\packages\\KomaMRICore\\DEJdd\\src\\simulation\\SimulatorCore.jl:385\n",
      "\u001b[32mRunning simulation...  42%|█████████████                 |  ETA: 0:00:00\u001b[39m\u001b[K\n",
      "\n",
      "\n",
      "\u001b[32mRunning simulation...  65%|████████████████████          |  ETA: 0:00:00\u001b[39m\u001b[K\n",
      "\n",
      "\n",
      "\u001b[32mRunning simulation... 100%|██████████████████████████████| Time: 0:00:00\u001b[39m\u001b[K\n",
      "\u001b[34m   simulated_blocks: 26\u001b[39m\u001b[K\n",
      "\u001b[34m          rf_blocks: 22\u001b[39m\u001b[K\n",
      "\u001b[34m        acq_samples: 0\u001b[39m\u001b[K\n"
     ]
    },
    {
     "name": "stdout",
     "output_type": "stream",
     "text": [
      "  0.436603 seconds (152.46 k allocations: 7.667 MiB)\n"
     ]
    },
    {
     "name": "stderr",
     "output_type": "stream",
     "text": [
      "┌ Info: Running simulation in the CPU with 1 thread(s)\n",
      "│   koma_version = 0.9.1\n",
      "│   sim_method = Bloch()\n",
      "│   spins = 201\n",
      "│   time_points = 1022\n",
      "│   adc_points = 0\n",
      "└ @ KomaMRICore C:\\Users\\lucya\\.julia\\packages\\KomaMRICore\\DEJdd\\src\\simulation\\SimulatorCore.jl:385\n",
      "\u001b[32mRunning simulation...  42%|█████████████                 |  ETA: 0:00:00\u001b[39m\u001b[K\n",
      "\n",
      "\n",
      "\u001b[32mRunning simulation...  65%|████████████████████          |  ETA: 0:00:00\u001b[39m\u001b[K\n",
      "\n",
      "\n",
      "\u001b[32mRunning simulation... 100%|██████████████████████████████| Time: 0:00:00\u001b[39m\u001b[K\n",
      "\u001b[34m   simulated_blocks: 26\u001b[39m\u001b[K\n",
      "\u001b[34m          rf_blocks: 22\u001b[39m\u001b[K\n",
      "\u001b[34m        acq_samples: 0\u001b[39m\u001b[K\n"
     ]
    },
    {
     "name": "stdout",
     "output_type": "stream",
     "text": [
      "  0.444929 seconds (152.61 k allocations: 7.673 MiB, 22.86% gc time)\n"
     ]
    },
    {
     "name": "stderr",
     "output_type": "stream",
     "text": [
      "┌ Info: Running simulation in the CPU with 1 thread(s)\n",
      "│   koma_version = 0.9.1\n",
      "│   sim_method = Bloch()\n",
      "│   spins = 201\n",
      "│   time_points = 1022\n",
      "│   adc_points = 0\n",
      "└ @ KomaMRICore C:\\Users\\lucya\\.julia\\packages\\KomaMRICore\\DEJdd\\src\\simulation\\SimulatorCore.jl:385\n",
      "\u001b[32mRunning simulation...  65%|████████████████████          |  ETA: 0:00:00\u001b[39m\u001b[K\n",
      "\n",
      "\n",
      "\u001b[32mRunning simulation... 100%|██████████████████████████████| Time: 0:00:00\u001b[39m\u001b[K\n",
      "\u001b[34m   simulated_blocks: 26\u001b[39m\u001b[K\n",
      "\u001b[34m          rf_blocks: 22\u001b[39m\u001b[K\n",
      "\u001b[34m        acq_samples: 0\u001b[39m\u001b[K\n"
     ]
    },
    {
     "name": "stdout",
     "output_type": "stream",
     "text": [
      "  0.197017 seconds (152.28 k allocations: 7.659 MiB)\n"
     ]
    },
    {
     "name": "stderr",
     "output_type": "stream",
     "text": [
      "┌ Info: Running simulation in the CPU with 1 thread(s)\n",
      "│   koma_version = 0.9.1\n",
      "│   sim_method = Bloch()\n",
      "│   spins = 201\n",
      "│   time_points = 1022\n",
      "│   adc_points = 0\n",
      "└ @ KomaMRICore C:\\Users\\lucya\\.julia\\packages\\KomaMRICore\\DEJdd\\src\\simulation\\SimulatorCore.jl:385\n",
      "\u001b[32mRunning simulation...  54%|█████████████████             |  ETA: 0:00:00\u001b[39m\u001b[K\n",
      "\n",
      "\n",
      "\u001b[32mRunning simulation... 100%|██████████████████████████████| Time: 0:00:00\u001b[39m\u001b[K\n",
      "\u001b[34m   simulated_blocks: 26\u001b[39m\u001b[K\n",
      "\u001b[34m          rf_blocks: 22\u001b[39m\u001b[K\n",
      "\u001b[34m        acq_samples: 0\u001b[39m\u001b[K\n"
     ]
    },
    {
     "name": "stdout",
     "output_type": "stream",
     "text": [
      "  0.340063 seconds (152.23 k allocations: 7.657 MiB)\n"
     ]
    },
    {
     "name": "stderr",
     "output_type": "stream",
     "text": [
      "┌ Info: Running simulation in the CPU with 1 thread(s)\n",
      "│   koma_version = 0.9.1\n",
      "│   sim_method = Bloch()\n",
      "│   spins = 201\n",
      "│   time_points = 1022\n",
      "│   adc_points = 0\n",
      "└ @ KomaMRICore C:\\Users\\lucya\\.julia\\packages\\KomaMRICore\\DEJdd\\src\\simulation\\SimulatorCore.jl:385\n",
      "\u001b[32mRunning simulation...  42%|█████████████                 |  ETA: 0:00:00\u001b[39m\u001b[K\n",
      "\n",
      "\n",
      "\u001b[32mRunning simulation...  73%|██████████████████████        |  ETA: 0:00:00\u001b[39m\u001b[K\n",
      "\n",
      "\n",
      "\u001b[32mRunning simulation... 100%|██████████████████████████████| Time: 0:00:00\u001b[39m\u001b[K\n",
      "\u001b[34m   simulated_blocks: 26\u001b[39m\u001b[K\n",
      "\u001b[34m          rf_blocks: 22\u001b[39m\u001b[K\n",
      "\u001b[34m        acq_samples: 0\u001b[39m\u001b[K\n"
     ]
    },
    {
     "name": "stdout",
     "output_type": "stream",
     "text": [
      "  0.404732 seconds (152.71 k allocations: 7.678 MiB)\n"
     ]
    },
    {
     "name": "stderr",
     "output_type": "stream",
     "text": [
      "┌ Info: Running simulation in the CPU with 1 thread(s)\n",
      "│   koma_version = 0.9.1\n",
      "│   sim_method = Bloch()\n",
      "│   spins = 201\n",
      "│   time_points = 1022\n",
      "│   adc_points = 0\n",
      "└ @ KomaMRICore C:\\Users\\lucya\\.julia\\packages\\KomaMRICore\\DEJdd\\src\\simulation\\SimulatorCore.jl:385\n",
      "\u001b[32mRunning simulation...  69%|█████████████████████         |  ETA: 0:00:00\u001b[39m\u001b[K\n",
      "\n",
      "\n",
      "\u001b[32mRunning simulation... 100%|██████████████████████████████| Time: 0:00:00\u001b[39m\u001b[K\n",
      "\u001b[34m   simulated_blocks: 26\u001b[39m\u001b[K\n",
      "\u001b[34m          rf_blocks: 22\u001b[39m\u001b[K\n",
      "\u001b[34m        acq_samples: 0\u001b[39m\u001b[K\n"
     ]
    },
    {
     "name": "stdout",
     "output_type": "stream",
     "text": [
      "  0.192107 seconds (152.35 k allocations: 7.662 MiB)\n"
     ]
    },
    {
     "name": "stderr",
     "output_type": "stream",
     "text": [
      "┌ Info: Running simulation in the CPU with 1 thread(s)\n",
      "│   koma_version = 0.9.1\n",
      "│   sim_method = Bloch()\n",
      "│   spins = 201\n",
      "│   time_points = 1022\n",
      "│   adc_points = 0\n",
      "└ @ KomaMRICore C:\\Users\\lucya\\.julia\\packages\\KomaMRICore\\DEJdd\\src\\simulation\\SimulatorCore.jl:385\n",
      "\u001b[32mRunning simulation...  69%|█████████████████████         |  ETA: 0:00:00\u001b[39m\u001b[K\n",
      "\n",
      "\n",
      "\u001b[32mRunning simulation... 100%|██████████████████████████████| Time: 0:00:00\u001b[39m\u001b[K\n",
      "\u001b[34m   simulated_blocks: 26\u001b[39m\u001b[K\n",
      "\u001b[34m          rf_blocks: 22\u001b[39m\u001b[K\n",
      "\u001b[34m        acq_samples: 0\u001b[39m\u001b[K\n"
     ]
    },
    {
     "name": "stdout",
     "output_type": "stream",
     "text": [
      "  0.278116 seconds (152.38 k allocations: 7.663 MiB)\n"
     ]
    },
    {
     "name": "stderr",
     "output_type": "stream",
     "text": [
      "┌ Info: Running simulation in the CPU with 1 thread(s)\n",
      "│   koma_version = 0.9.1\n",
      "│   sim_method = Bloch()\n",
      "│   spins = 201\n",
      "│   time_points = 1022\n",
      "│   adc_points = 0\n",
      "└ @ KomaMRICore C:\\Users\\lucya\\.julia\\packages\\KomaMRICore\\DEJdd\\src\\simulation\\SimulatorCore.jl:385\n",
      "\u001b[32mRunning simulation...  42%|█████████████                 |  ETA: 0:00:00\u001b[39m\u001b[K\n",
      "\n",
      "\n",
      "\u001b[32mRunning simulation...  73%|██████████████████████        |  ETA: 0:00:00\u001b[39m\u001b[K\n",
      "\n",
      "\n",
      "\u001b[32mRunning simulation... 100%|██████████████████████████████| Time: 0:00:00\u001b[39m\u001b[K\n",
      "\u001b[34m   simulated_blocks: 26\u001b[39m\u001b[K\n",
      "\u001b[34m          rf_blocks: 22\u001b[39m\u001b[K\n",
      "\u001b[34m        acq_samples: 0\u001b[39m\u001b[K\n"
     ]
    },
    {
     "name": "stdout",
     "output_type": "stream",
     "text": [
      "  0.411985 seconds (152.74 k allocations: 7.679 MiB)\n"
     ]
    },
    {
     "name": "stderr",
     "output_type": "stream",
     "text": [
      "┌ Info: Running simulation in the CPU with 1 thread(s)\n",
      "│   koma_version = 0.9.1\n",
      "│   sim_method = Bloch()\n",
      "│   spins = 201\n",
      "│   time_points = 1022\n",
      "│   adc_points = 0\n",
      "└ @ KomaMRICore C:\\Users\\lucya\\.julia\\packages\\KomaMRICore\\DEJdd\\src\\simulation\\SimulatorCore.jl:385\n",
      "\u001b[32mRunning simulation...  50%|████████████████              |  ETA: 0:00:00\u001b[39m\u001b[K\n",
      "\n",
      "\n",
      "\u001b[32mRunning simulation...  96%|█████████████████████████████ |  ETA: 0:00:00\u001b[39m\u001b[K\n",
      "\n",
      "\n",
      "\u001b[32mRunning simulation... 100%|██████████████████████████████| Time: 0:00:00\u001b[39m\u001b[K\n",
      "\u001b[34m   simulated_blocks: 26\u001b[39m\u001b[K\n",
      "\u001b[34m          rf_blocks: 22\u001b[39m\u001b[K\n",
      "\u001b[34m        acq_samples: 0\u001b[39m\u001b[K\n"
     ]
    },
    {
     "name": "stdout",
     "output_type": "stream",
     "text": [
      "  0.235552 seconds (152.75 k allocations: 7.680 MiB)\n"
     ]
    },
    {
     "name": "stderr",
     "output_type": "stream",
     "text": [
      "┌ Info: Running simulation in the CPU with 1 thread(s)\n",
      "│   koma_version = 0.9.1\n",
      "│   sim_method = Bloch()\n",
      "│   spins = 201\n",
      "│   time_points = 1022\n",
      "│   adc_points = 0\n",
      "└ @ KomaMRICore C:\\Users\\lucya\\.julia\\packages\\KomaMRICore\\DEJdd\\src\\simulation\\SimulatorCore.jl:385\n",
      "\u001b[32mRunning simulation...  73%|██████████████████████        |  ETA: 0:00:00\u001b[39m\u001b[K\n",
      "\n",
      "\n",
      "\u001b[32mRunning simulation... 100%|██████████████████████████████| Time: 0:00:00\u001b[39m\u001b[K\n",
      "\u001b[34m   simulated_blocks: 26\u001b[39m\u001b[K\n",
      "\u001b[34m          rf_blocks: 22\u001b[39m\u001b[K\n",
      "\u001b[34m        acq_samples: 0\u001b[39m\u001b[K\n"
     ]
    },
    {
     "name": "stdout",
     "output_type": "stream",
     "text": [
      "  0.298807 seconds (152.42 k allocations: 7.665 MiB, 8.73% gc time)\n"
     ]
    },
    {
     "name": "stderr",
     "output_type": "stream",
     "text": [
      "┌ Info: Running simulation in the CPU with 1 thread(s)\n",
      "│   koma_version = 0.9.1\n",
      "│   sim_method = Bloch()\n",
      "│   spins = 201\n",
      "│   time_points = 1022\n",
      "│   adc_points = 0\n",
      "└ @ KomaMRICore C:\\Users\\lucya\\.julia\\packages\\KomaMRICore\\DEJdd\\src\\simulation\\SimulatorCore.jl:385\n",
      "\u001b[32mRunning simulation...  42%|█████████████                 |  ETA: 0:00:00\u001b[39m\u001b[K\n",
      "\n",
      "\n",
      "\u001b[32mRunning simulation...  73%|██████████████████████        |  ETA: 0:00:00\u001b[39m\u001b[K\n",
      "\n",
      "\n",
      "\u001b[32mRunning simulation... 100%|██████████████████████████████| Time: 0:00:00\u001b[39m\u001b[K\n",
      "\u001b[34m   simulated_blocks: 26\u001b[39m\u001b[K\n",
      "\u001b[34m          rf_blocks: 22\u001b[39m\u001b[K\n",
      "\u001b[34m        acq_samples: 0\u001b[39m\u001b[K\n"
     ]
    },
    {
     "name": "stdout",
     "output_type": "stream",
     "text": [
      "  0.400110 seconds (152.74 k allocations: 7.679 MiB)\n"
     ]
    },
    {
     "name": "stderr",
     "output_type": "stream",
     "text": [
      "┌ Info: Running simulation in the CPU with 1 thread(s)\n",
      "│   koma_version = 0.9.1\n",
      "│   sim_method = Bloch()\n",
      "│   spins = 201\n",
      "│   time_points = 1022\n",
      "│   adc_points = 0\n",
      "└ @ KomaMRICore C:\\Users\\lucya\\.julia\\packages\\KomaMRICore\\DEJdd\\src\\simulation\\SimulatorCore.jl:385\n",
      "\u001b[32mRunning simulation...  42%|█████████████                 |  ETA: 0:00:00\u001b[39m\u001b[K\n",
      "\n",
      "\n",
      "\u001b[32mRunning simulation...  96%|█████████████████████████████ |  ETA: 0:00:00\u001b[39m\u001b[K\n",
      "\n",
      "\n",
      "\u001b[32mRunning simulation... 100%|██████████████████████████████| Time: 0:00:00\u001b[39m\u001b[K\n",
      "\u001b[34m   simulated_blocks: 26\u001b[39m\u001b[K\n",
      "\u001b[34m          rf_blocks: 22\u001b[39m\u001b[K\n",
      "\u001b[34m        acq_samples: 0\u001b[39m\u001b[K\n"
     ]
    },
    {
     "name": "stdout",
     "output_type": "stream",
     "text": [
      "  0.268797 seconds (152.73 k allocations: 7.679 MiB)\n"
     ]
    },
    {
     "name": "stderr",
     "output_type": "stream",
     "text": [
      "┌ Info: Running simulation in the CPU with 1 thread(s)\n",
      "│   koma_version = 0.9.1\n",
      "│   sim_method = Bloch()\n",
      "│   spins = 201\n",
      "│   time_points = 1022\n",
      "│   adc_points = 0\n",
      "└ @ KomaMRICore C:\\Users\\lucya\\.julia\\packages\\KomaMRICore\\DEJdd\\src\\simulation\\SimulatorCore.jl:385\n",
      "\u001b[32mRunning simulation...  69%|█████████████████████         |  ETA: 0:00:00\u001b[39m\u001b[K\n",
      "\n",
      "\n",
      "\u001b[32mRunning simulation... 100%|██████████████████████████████| Time: 0:00:00\u001b[39m\u001b[K\n",
      "\u001b[34m   simulated_blocks: 26\u001b[39m\u001b[K\n",
      "\u001b[34m          rf_blocks: 22\u001b[39m\u001b[K\n",
      "\u001b[34m        acq_samples: 0\u001b[39m\u001b[K\n"
     ]
    },
    {
     "name": "stdout",
     "output_type": "stream",
     "text": [
      "  0.272784 seconds (152.40 k allocations: 7.665 MiB)\n"
     ]
    },
    {
     "name": "stderr",
     "output_type": "stream",
     "text": [
      "┌ Info: Running simulation in the CPU with 1 thread(s)\n",
      "│   koma_version = 0.9.1\n",
      "│   sim_method = Bloch()\n",
      "│   spins = 201\n",
      "│   time_points = 1022\n",
      "│   adc_points = 0\n",
      "└ @ KomaMRICore C:\\Users\\lucya\\.julia\\packages\\KomaMRICore\\DEJdd\\src\\simulation\\SimulatorCore.jl:385\n",
      "\u001b[32mRunning simulation...  42%|█████████████                 |  ETA: 0:00:01\u001b[39m\u001b[K\n",
      "\n",
      "\n",
      "\u001b[32mRunning simulation... 100%|██████████████████████████████| Time: 0:00:00\u001b[39m\u001b[K\n",
      "\u001b[34m   simulated_blocks: 26\u001b[39m\u001b[K\n",
      "\u001b[34m          rf_blocks: 22\u001b[39m\u001b[K\n",
      "\u001b[34m        acq_samples: 0\u001b[39m\u001b[K\n"
     ]
    },
    {
     "name": "stdout",
     "output_type": "stream",
     "text": [
      "  0.967776 seconds (152.59 k allocations: 7.673 MiB)\n"
     ]
    },
    {
     "name": "stderr",
     "output_type": "stream",
     "text": [
      "┌ Info: Running simulation in the CPU with 1 thread(s)\n",
      "│   koma_version = 0.9.1\n",
      "│   sim_method = Bloch()\n",
      "│   spins = 201\n",
      "│   time_points = 1022\n",
      "│   adc_points = 0\n",
      "└ @ KomaMRICore C:\\Users\\lucya\\.julia\\packages\\KomaMRICore\\DEJdd\\src\\simulation\\SimulatorCore.jl:385\n",
      "\u001b[32mRunning simulation...  38%|████████████                  |  ETA: 0:00:00\u001b[39m\u001b[K\n",
      "\n",
      "\n",
      "\u001b[32mRunning simulation...  62%|███████████████████           |  ETA: 0:00:00\u001b[39m\u001b[K\n",
      "\n",
      "\n",
      "\u001b[32mRunning simulation... 100%|██████████████████████████████| Time: 0:00:00\u001b[39m\u001b[K\n",
      "\u001b[34m   simulated_blocks: 26\u001b[39m\u001b[K\n",
      "\u001b[34m          rf_blocks: 22\u001b[39m\u001b[K\n",
      "\u001b[34m        acq_samples: 0\u001b[39m\u001b[K\n"
     ]
    },
    {
     "name": "stdout",
     "output_type": "stream",
     "text": [
      "  0.417144 seconds (152.86 k allocations: 7.685 MiB)\n"
     ]
    },
    {
     "name": "stderr",
     "output_type": "stream",
     "text": [
      "┌ Info: Running simulation in the CPU with 1 thread(s)\n",
      "│   koma_version = 0.9.1\n",
      "│   sim_method = Bloch()\n",
      "│   spins = 201\n",
      "│   time_points = 1022\n",
      "│   adc_points = 0\n",
      "└ @ KomaMRICore C:\\Users\\lucya\\.julia\\packages\\KomaMRICore\\DEJdd\\src\\simulation\\SimulatorCore.jl:385\n",
      "\u001b[32mRunning simulation...  42%|█████████████                 |  ETA: 0:00:00\u001b[39m\u001b[K\n",
      "\n",
      "\n",
      "\u001b[32mRunning simulation...  81%|█████████████████████████     |  ETA: 0:00:00\u001b[39m\u001b[K\n",
      "\n",
      "\n",
      "\u001b[32mRunning simulation... 100%|██████████████████████████████| Time: 0:00:00\u001b[39m\u001b[K\n",
      "\u001b[34m   simulated_blocks: 26\u001b[39m\u001b[K\n",
      "\u001b[34m          rf_blocks: 22\u001b[39m\u001b[K\n",
      "\u001b[34m        acq_samples: 0\u001b[39m\u001b[K\n"
     ]
    },
    {
     "name": "stdout",
     "output_type": "stream",
     "text": [
      "  0.268622 seconds (152.82 k allocations: 7.684 MiB)\n"
     ]
    },
    {
     "name": "stderr",
     "output_type": "stream",
     "text": [
      "┌ Info: Running simulation in the CPU with 1 thread(s)\n",
      "│   koma_version = 0.9.1\n",
      "│   sim_method = Bloch()\n",
      "│   spins = 201\n",
      "│   time_points = 1022\n",
      "│   adc_points = 0\n",
      "└ @ KomaMRICore C:\\Users\\lucya\\.julia\\packages\\KomaMRICore\\DEJdd\\src\\simulation\\SimulatorCore.jl:385\n",
      "\u001b[32mRunning simulation...  62%|███████████████████           |  ETA: 0:00:00\u001b[39m\u001b[K\n",
      "\n",
      "\n",
      "\u001b[32mRunning simulation... 100%|██████████████████████████████| Time: 0:00:00\u001b[39m\u001b[K\n",
      "\u001b[34m   simulated_blocks: 26\u001b[39m\u001b[K\n",
      "\u001b[34m          rf_blocks: 22\u001b[39m\u001b[K\n",
      "\u001b[34m        acq_samples: 0\u001b[39m\u001b[K\n"
     ]
    },
    {
     "name": "stdout",
     "output_type": "stream",
     "text": [
      "  0.234981 seconds (152.55 k allocations: 7.671 MiB)\n"
     ]
    },
    {
     "name": "stderr",
     "output_type": "stream",
     "text": [
      "┌ Info: Running simulation in the CPU with 1 thread(s)\n",
      "│   koma_version = 0.9.1\n",
      "│   sim_method = Bloch()\n",
      "│   spins = 201\n",
      "│   time_points = 1022\n",
      "│   adc_points = 0\n",
      "└ @ KomaMRICore C:\\Users\\lucya\\.julia\\packages\\KomaMRICore\\DEJdd\\src\\simulation\\SimulatorCore.jl:385\n",
      "\u001b[32mRunning simulation...  42%|█████████████                 |  ETA: 0:00:00\u001b[39m\u001b[K\n",
      "\n",
      "\n",
      "\u001b[32mRunning simulation...  77%|████████████████████████      |  ETA: 0:00:00\u001b[39m\u001b[K\n",
      "\n",
      "\n",
      "\u001b[32mRunning simulation... 100%|██████████████████████████████| Time: 0:00:00\u001b[39m\u001b[K\n",
      "\u001b[34m   simulated_blocks: 26\u001b[39m\u001b[K\n",
      "\u001b[34m          rf_blocks: 22\u001b[39m\u001b[K\n",
      "\u001b[34m        acq_samples: 0\u001b[39m\u001b[K\n"
     ]
    },
    {
     "name": "stdout",
     "output_type": "stream",
     "text": [
      "  0.429709 seconds (152.84 k allocations: 7.684 MiB, 9.84% gc time)\n"
     ]
    },
    {
     "name": "stderr",
     "output_type": "stream",
     "text": [
      "┌ Info: Running simulation in the CPU with 1 thread(s)\n",
      "│   koma_version = 0.9.1\n",
      "│   sim_method = Bloch()\n",
      "│   spins = 201\n",
      "│   time_points = 1022\n",
      "│   adc_points = 0\n",
      "└ @ KomaMRICore C:\\Users\\lucya\\.julia\\packages\\KomaMRICore\\DEJdd\\src\\simulation\\SimulatorCore.jl:385\n",
      "\u001b[32mRunning simulation...  42%|█████████████                 |  ETA: 0:00:00\u001b[39m\u001b[K\n",
      "\n",
      "\n",
      "\u001b[32mRunning simulation...  81%|█████████████████████████     |  ETA: 0:00:00\u001b[39m\u001b[K\n",
      "\n",
      "\n",
      "\u001b[32mRunning simulation... 100%|██████████████████████████████| Time: 0:00:00\u001b[39m\u001b[K\n",
      "\u001b[34m   simulated_blocks: 26\u001b[39m\u001b[K\n",
      "\u001b[34m          rf_blocks: 22\u001b[39m\u001b[K\n",
      "\u001b[34m        acq_samples: 0\u001b[39m\u001b[K\n"
     ]
    },
    {
     "name": "stdout",
     "output_type": "stream",
     "text": [
      "  0.294466 seconds (152.85 k allocations: 7.685 MiB)\n"
     ]
    },
    {
     "name": "stderr",
     "output_type": "stream",
     "text": [
      "┌ Info: Running simulation in the CPU with 1 thread(s)\n",
      "│   koma_version = 0.9.1\n",
      "│   sim_method = Bloch()\n",
      "│   spins = 201\n",
      "│   time_points = 1022\n",
      "│   adc_points = 0\n",
      "└ @ KomaMRICore C:\\Users\\lucya\\.julia\\packages\\KomaMRICore\\DEJdd\\src\\simulation\\SimulatorCore.jl:385\n",
      "\u001b[32mRunning simulation...  58%|██████████████████            |  ETA: 0:00:00\u001b[39m\u001b[K\n",
      "\n",
      "\n",
      "\u001b[32mRunning simulation... 100%|██████████████████████████████| Time: 0:00:00\u001b[39m\u001b[K\n",
      "\u001b[34m   simulated_blocks: 26\u001b[39m\u001b[K\n",
      "\u001b[34m          rf_blocks: 22\u001b[39m\u001b[K\n",
      "\u001b[34m        acq_samples: 0\u001b[39m\u001b[K\n"
     ]
    },
    {
     "name": "stdout",
     "output_type": "stream",
     "text": [
      "  0.218685 seconds (152.52 k allocations: 7.671 MiB)\n"
     ]
    },
    {
     "name": "stderr",
     "output_type": "stream",
     "text": [
      "┌ Info: Running simulation in the CPU with 1 thread(s)\n",
      "│   koma_version = 0.9.1\n",
      "│   sim_method = Bloch()\n",
      "│   spins = 201\n",
      "│   time_points = 1022\n",
      "│   adc_points = 0\n",
      "└ @ KomaMRICore C:\\Users\\lucya\\.julia\\packages\\KomaMRICore\\DEJdd\\src\\simulation\\SimulatorCore.jl:385\n",
      "\u001b[32mRunning simulation...  42%|█████████████                 |  ETA: 0:00:00\u001b[39m\u001b[K\n",
      "\n",
      "\n",
      "\u001b[32mRunning simulation...  69%|█████████████████████         |  ETA: 0:00:00\u001b[39m\u001b[K\n",
      "\n",
      "\n",
      "\u001b[32mRunning simulation... 100%|██████████████████████████████| Time: 0:00:00\u001b[39m\u001b[K\n",
      "\u001b[34m   simulated_blocks: 26\u001b[39m\u001b[K\n",
      "\u001b[34m          rf_blocks: 22\u001b[39m\u001b[K\n",
      "\u001b[34m        acq_samples: 0\u001b[39m\u001b[K\n"
     ]
    },
    {
     "name": "stdout",
     "output_type": "stream",
     "text": [
      "  0.427853 seconds (152.85 k allocations: 7.684 MiB)\n"
     ]
    },
    {
     "name": "stderr",
     "output_type": "stream",
     "text": [
      "┌ Info: Running simulation in the CPU with 1 thread(s)\n",
      "│   koma_version = 0.9.1\n",
      "│   sim_method = Bloch()\n",
      "│   spins = 201\n",
      "│   time_points = 1022\n",
      "│   adc_points = 0\n",
      "└ @ KomaMRICore C:\\Users\\lucya\\.julia\\packages\\KomaMRICore\\DEJdd\\src\\simulation\\SimulatorCore.jl:385\n",
      "\u001b[32mRunning simulation...  42%|█████████████                 |  ETA: 0:00:00\u001b[39m\u001b[K\n",
      "\n",
      "\n",
      "\u001b[32mRunning simulation...  77%|████████████████████████      |  ETA: 0:00:00\u001b[39m\u001b[K\n",
      "\n",
      "\n",
      "\u001b[32mRunning simulation... 100%|██████████████████████████████| Time: 0:00:00\u001b[39m\u001b[K\n",
      "\u001b[34m   simulated_blocks: 26\u001b[39m\u001b[K\n",
      "\u001b[34m          rf_blocks: 22\u001b[39m\u001b[K\n",
      "\u001b[34m        acq_samples: 0\u001b[39m\u001b[K\n"
     ]
    },
    {
     "name": "stdout",
     "output_type": "stream",
     "text": [
      "  0.317013 seconds (152.82 k allocations: 7.684 MiB)\n"
     ]
    },
    {
     "name": "stderr",
     "output_type": "stream",
     "text": [
      "┌ Info: Running simulation in the CPU with 1 thread(s)\n",
      "│   koma_version = 0.9.1\n",
      "│   sim_method = Bloch()\n",
      "│   spins = 201\n",
      "│   time_points = 1022\n",
      "│   adc_points = 0\n",
      "└ @ KomaMRICore C:\\Users\\lucya\\.julia\\packages\\KomaMRICore\\DEJdd\\src\\simulation\\SimulatorCore.jl:385\n",
      "\u001b[32mRunning simulation...  81%|█████████████████████████     |  ETA: 0:00:00\u001b[39m\u001b[K\n",
      "\n",
      "\n",
      "\u001b[32mRunning simulation... 100%|██████████████████████████████| Time: 0:00:00\u001b[39m\u001b[K\n",
      "\u001b[34m   simulated_blocks: 26\u001b[39m\u001b[K\n",
      "\u001b[34m          rf_blocks: 22\u001b[39m\u001b[K\n",
      "\u001b[34m        acq_samples: 0\u001b[39m\u001b[K\n"
     ]
    },
    {
     "name": "stdout",
     "output_type": "stream",
     "text": [
      "  0.132062 seconds (152.54 k allocations: 7.671 MiB)\n"
     ]
    },
    {
     "name": "stderr",
     "output_type": "stream",
     "text": [
      "┌ Info: Running simulation in the CPU with 1 thread(s)\n",
      "│   koma_version = 0.9.1\n",
      "│   sim_method = Bloch()\n",
      "│   spins = 201\n",
      "│   time_points = 1022\n",
      "│   adc_points = 0\n",
      "└ @ KomaMRICore C:\\Users\\lucya\\.julia\\packages\\KomaMRICore\\DEJdd\\src\\simulation\\SimulatorCore.jl:385\n",
      "\u001b[32mRunning simulation...  42%|█████████████                 |  ETA: 0:00:00\u001b[39m\u001b[K\n",
      "\n",
      "\n",
      "\u001b[32mRunning simulation...  77%|████████████████████████      |  ETA: 0:00:00\u001b[39m\u001b[K\n",
      "\n",
      "\n",
      "\u001b[32mRunning simulation... 100%|██████████████████████████████| Time: 0:00:00\u001b[39m\u001b[K\n",
      "\u001b[34m   simulated_blocks: 26\u001b[39m\u001b[K\n",
      "\u001b[34m          rf_blocks: 22\u001b[39m\u001b[K\n",
      "\u001b[34m        acq_samples: 0\u001b[39m\u001b[K\n"
     ]
    },
    {
     "name": "stdout",
     "output_type": "stream",
     "text": [
      "  0.321665 seconds (152.84 k allocations: 7.685 MiB)\n"
     ]
    },
    {
     "name": "stderr",
     "output_type": "stream",
     "text": [
      "┌ Info: Running simulation in the CPU with 1 thread(s)\n",
      "│   koma_version = 0.9.1\n",
      "│   sim_method = Bloch()\n",
      "│   spins = 201\n",
      "│   time_points = 1022\n",
      "│   adc_points = 0\n",
      "└ @ KomaMRICore C:\\Users\\lucya\\.julia\\packages\\KomaMRICore\\DEJdd\\src\\simulation\\SimulatorCore.jl:385\n",
      "\u001b[32mRunning simulation...  50%|████████████████              |  ETA: 0:00:00\u001b[39m\u001b[K\n",
      "\n",
      "\n",
      "\u001b[32mRunning simulation...  92%|████████████████████████████  |  ETA: 0:00:00\u001b[39m\u001b[K\n",
      "\n",
      "\n",
      "\u001b[32mRunning simulation... 100%|██████████████████████████████| Time: 0:00:00\u001b[39m\u001b[K\n",
      "\u001b[34m   simulated_blocks: 26\u001b[39m\u001b[K\n",
      "\u001b[34m          rf_blocks: 22\u001b[39m\u001b[K\n",
      "\u001b[34m        acq_samples: 0\u001b[39m\u001b[K\n"
     ]
    },
    {
     "name": "stdout",
     "output_type": "stream",
     "text": [
      "  0.296818 seconds (152.85 k allocations: 7.685 MiB)\n"
     ]
    },
    {
     "name": "stderr",
     "output_type": "stream",
     "text": [
      "┌ Info: Running simulation in the CPU with 1 thread(s)\n",
      "│   koma_version = 0.9.1\n",
      "│   sim_method = Bloch()\n",
      "│   spins = 201\n",
      "│   time_points = 1022\n",
      "│   adc_points = 0\n",
      "└ @ KomaMRICore C:\\Users\\lucya\\.julia\\packages\\KomaMRICore\\DEJdd\\src\\simulation\\SimulatorCore.jl:385\n",
      "\u001b[32mRunning simulation...  62%|███████████████████           |  ETA: 0:00:00\u001b[39m\u001b[K\n",
      "\n",
      "\n",
      "\u001b[32mRunning simulation... 100%|██████████████████████████████| Time: 0:00:00\u001b[39m\u001b[K\n",
      "\u001b[34m   simulated_blocks: 26\u001b[39m\u001b[K\n",
      "\u001b[34m          rf_blocks: 22\u001b[39m\u001b[K\n",
      "\u001b[34m        acq_samples: 0\u001b[39m\u001b[K\n"
     ]
    },
    {
     "name": "stdout",
     "output_type": "stream",
     "text": [
      "  0.187373 seconds (152.52 k allocations: 7.670 MiB)\n"
     ]
    },
    {
     "name": "stderr",
     "output_type": "stream",
     "text": [
      "┌ Info: Running simulation in the CPU with 1 thread(s)\n",
      "│   koma_version = 0.9.1\n",
      "│   sim_method = Bloch()\n",
      "│   spins = 201\n",
      "│   time_points = 1022\n",
      "│   adc_points = 0\n",
      "└ @ KomaMRICore C:\\Users\\lucya\\.julia\\packages\\KomaMRICore\\DEJdd\\src\\simulation\\SimulatorCore.jl:385\n",
      "\u001b[32mRunning simulation...  54%|█████████████████             |  ETA: 0:00:00\u001b[39m\u001b[K\n",
      "\n",
      "\n",
      "\u001b[32mRunning simulation... 100%|██████████████████████████████| Time: 0:00:00\u001b[39m\u001b[K\n",
      "\u001b[34m   simulated_blocks: 26\u001b[39m\u001b[K\n",
      "\u001b[34m          rf_blocks: 22\u001b[39m\u001b[K\n",
      "\u001b[34m        acq_samples: 0\u001b[39m\u001b[K\n"
     ]
    },
    {
     "name": "stdout",
     "output_type": "stream",
     "text": [
      "  0.203355 seconds (152.59 k allocations: 7.674 MiB, 13.36% gc time)\n"
     ]
    },
    {
     "name": "stderr",
     "output_type": "stream",
     "text": [
      "┌ Info: Running simulation in the CPU with 1 thread(s)\n",
      "│   koma_version = 0.9.1\n",
      "│   sim_method = Bloch()\n",
      "│   spins = 201\n",
      "│   time_points = 1022\n",
      "│   adc_points = 0\n",
      "└ @ KomaMRICore C:\\Users\\lucya\\.julia\\packages\\KomaMRICore\\DEJdd\\src\\simulation\\SimulatorCore.jl:385\n",
      "\u001b[32mRunning simulation...  42%|█████████████                 |  ETA: 0:00:01\u001b[39m\u001b[K\n",
      "\n",
      "\n",
      "\u001b[32mRunning simulation...  81%|█████████████████████████     |  ETA: 0:00:00\u001b[39m\u001b[K\n",
      "\n",
      "\n",
      "\u001b[32mRunning simulation... 100%|██████████████████████████████| Time: 0:00:00\u001b[39m\u001b[K\n",
      "\u001b[34m   simulated_blocks: 26\u001b[39m\u001b[K\n",
      "\u001b[34m          rf_blocks: 22\u001b[39m\u001b[K\n",
      "\u001b[34m        acq_samples: 0\u001b[39m\u001b[K\n"
     ]
    },
    {
     "name": "stdout",
     "output_type": "stream",
     "text": [
      "  0.727080 seconds (152.84 k allocations: 7.684 MiB)\n"
     ]
    },
    {
     "name": "stderr",
     "output_type": "stream",
     "text": [
      "┌ Info: Running simulation in the CPU with 1 thread(s)\n",
      "│   koma_version = 0.9.1\n",
      "│   sim_method = Bloch()\n",
      "│   spins = 201\n",
      "│   time_points = 1022\n",
      "│   adc_points = 0\n",
      "└ @ KomaMRICore C:\\Users\\lucya\\.julia\\packages\\KomaMRICore\\DEJdd\\src\\simulation\\SimulatorCore.jl:385\n",
      "\u001b[32mRunning simulation...  58%|██████████████████            |  ETA: 0:00:00\u001b[39m\u001b[K\n",
      "\n",
      "\n",
      "\u001b[32mRunning simulation... 100%|██████████████████████████████| Time: 0:00:00\u001b[39m\u001b[K\n",
      "\u001b[34m   simulated_blocks: 26\u001b[39m\u001b[K\n",
      "\u001b[34m          rf_blocks: 22\u001b[39m\u001b[K\n",
      "\u001b[34m        acq_samples: 0\u001b[39m\u001b[K\n"
     ]
    },
    {
     "name": "stdout",
     "output_type": "stream",
     "text": [
      "  0.251023 seconds (152.56 k allocations: 7.671 MiB)\n"
     ]
    },
    {
     "name": "stderr",
     "output_type": "stream",
     "text": [
      "┌ Info: Running simulation in the CPU with 1 thread(s)\n",
      "│   koma_version = 0.9.1\n",
      "│   sim_method = Bloch()\n",
      "│   spins = 201\n",
      "│   time_points = 1022\n",
      "│   adc_points = 0\n",
      "└ @ KomaMRICore C:\\Users\\lucya\\.julia\\packages\\KomaMRICore\\DEJdd\\src\\simulation\\SimulatorCore.jl:385\n",
      "\u001b[32mRunning simulation...  42%|█████████████                 |  ETA: 0:00:00\u001b[39m\u001b[K\n",
      "\n",
      "\n",
      "\u001b[32mRunning simulation...  69%|█████████████████████         |  ETA: 0:00:00\u001b[39m\u001b[K\n",
      "\n",
      "\n",
      "\u001b[32mRunning simulation...  92%|████████████████████████████  |  ETA: 0:00:00\u001b[39m\u001b[K\n",
      "\n",
      "\n",
      "\u001b[32mRunning simulation... 100%|██████████████████████████████| Time: 0:00:00\u001b[39m\u001b[K\n",
      "\u001b[34m   simulated_blocks: 26\u001b[39m\u001b[K\n",
      "\u001b[34m          rf_blocks: 22\u001b[39m\u001b[K\n",
      "\u001b[34m        acq_samples: 0\u001b[39m\u001b[K\n"
     ]
    },
    {
     "name": "stdout",
     "output_type": "stream",
     "text": [
      "  0.610769 seconds (153.21 k allocations: 7.701 MiB)\n"
     ]
    },
    {
     "name": "stderr",
     "output_type": "stream",
     "text": [
      "┌ Info: Running simulation in the CPU with 1 thread(s)\n",
      "│   koma_version = 0.9.1\n",
      "│   sim_method = Bloch()\n",
      "│   spins = 201\n",
      "│   time_points = 1022\n",
      "│   adc_points = 0\n",
      "└ @ KomaMRICore C:\\Users\\lucya\\.julia\\packages\\KomaMRICore\\DEJdd\\src\\simulation\\SimulatorCore.jl:385\n",
      "\u001b[32mRunning simulation...  88%|███████████████████████████   |  ETA: 0:00:00\u001b[39m\u001b[K\n",
      "\n",
      "\n",
      "\u001b[32mRunning simulation... 100%|██████████████████████████████| Time: 0:00:00\u001b[39m\u001b[K\n",
      "\u001b[34m   simulated_blocks: 26\u001b[39m\u001b[K\n",
      "\u001b[34m          rf_blocks: 22\u001b[39m\u001b[K\n",
      "\u001b[34m        acq_samples: 0\u001b[39m\u001b[K\n"
     ]
    },
    {
     "name": "stdout",
     "output_type": "stream",
     "text": [
      "  0.120078 seconds (152.49 k allocations: 7.671 MiB)\n"
     ]
    },
    {
     "name": "stderr",
     "output_type": "stream",
     "text": [
      "┌ Info: Running simulation in the CPU with 1 thread(s)\n",
      "│   koma_version = 0.9.1\n",
      "│   sim_method = Bloch()\n",
      "│   spins = 201\n",
      "│   time_points = 1022\n",
      "│   adc_points = 0\n",
      "└ @ KomaMRICore C:\\Users\\lucya\\.julia\\packages\\KomaMRICore\\DEJdd\\src\\simulation\\SimulatorCore.jl:385\n"
     ]
    },
    {
     "name": "stdout",
     "output_type": "stream",
     "text": [
      "  0.092325 seconds (151.88 k allocations: 7.637 MiB)\n",
      "  0.074776 seconds (151.41 k allocations: 7.599 MiB)\n"
     ]
    },
    {
     "name": "stderr",
     "output_type": "stream",
     "text": [
      "┌ Info: Running simulation in the CPU with 1 thread(s)\n",
      "│   koma_version = 0.9.1\n",
      "│   sim_method = Bloch()\n",
      "│   spins = 201\n",
      "│   time_points = 1022\n",
      "│   adc_points = 0\n",
      "└ @ KomaMRICore C:\\Users\\lucya\\.julia\\packages\\KomaMRICore\\DEJdd\\src\\simulation\\SimulatorCore.jl:385\n",
      "┌ Info: Running simulation in the CPU with 1 thread(s)\n",
      "│   koma_version = 0.9.1\n",
      "│   sim_method = Bloch()\n",
      "│   spins = 201\n",
      "│   time_points = 1022\n",
      "│   adc_points = 0\n",
      "└ @ KomaMRICore C:\\Users\\lucya\\.julia\\packages\\KomaMRICore\\DEJdd\\src\\simulation\\SimulatorCore.jl:385\n"
     ]
    },
    {
     "name": "stdout",
     "output_type": "stream",
     "text": [
      "  0.106402 seconds (151.41 k allocations: 7.599 MiB)\n"
     ]
    },
    {
     "name": "stderr",
     "output_type": "stream",
     "text": [
      "┌ Info: Running simulation in the CPU with 1 thread(s)\n",
      "│   koma_version = 0.9.1\n",
      "│   sim_method = Bloch()\n",
      "│   spins = 201\n",
      "│   time_points = 1022\n",
      "│   adc_points = 0\n",
      "└ @ KomaMRICore C:\\Users\\lucya\\.julia\\packages\\KomaMRICore\\DEJdd\\src\\simulation\\SimulatorCore.jl:385\n",
      "\u001b[32mRunning simulation...  71%|██████████████████████        |  ETA: 0:00:00\u001b[39m\u001b[K\n",
      "\n",
      "\n",
      "\u001b[32mRunning simulation... 100%|██████████████████████████████| Time: 0:00:00\u001b[39m\u001b[K\n",
      "\u001b[34m   simulated_blocks: 24\u001b[39m\u001b[K\n",
      "\u001b[34m          rf_blocks: 21\u001b[39m\u001b[K\n",
      "\u001b[34m        acq_samples: 0\u001b[39m\u001b[K\n"
     ]
    },
    {
     "name": "stdout",
     "output_type": "stream",
     "text": [
      "  0.131532 seconds (152.10 k allocations: 7.634 MiB, 18.16% gc time)\n"
     ]
    },
    {
     "name": "stderr",
     "output_type": "stream",
     "text": [
      "┌ Info: Running simulation in the CPU with 1 thread(s)\n",
      "│   koma_version = 0.9.1\n",
      "│   sim_method = Bloch()\n",
      "│   spins = 201\n",
      "│   time_points = 1022\n",
      "│   adc_points = 0\n",
      "└ @ KomaMRICore C:\\Users\\lucya\\.julia\\packages\\KomaMRICore\\DEJdd\\src\\simulation\\SimulatorCore.jl:385\n"
     ]
    },
    {
     "name": "stdout",
     "output_type": "stream",
     "text": [
      "  0.176288 seconds (151.41 k allocations: 7.599 MiB)\n"
     ]
    },
    {
     "name": "stderr",
     "output_type": "stream",
     "text": [
      "┌ Info: Running simulation in the CPU with 1 thread(s)\n",
      "│   koma_version = 0.9.1\n",
      "│   sim_method = Bloch()\n",
      "│   spins = 201\n",
      "│   time_points = 1022\n",
      "│   adc_points = 0\n",
      "└ @ KomaMRICore C:\\Users\\lucya\\.julia\\packages\\KomaMRICore\\DEJdd\\src\\simulation\\SimulatorCore.jl:385\n",
      "\u001b[32mRunning simulation...  46%|██████████████                |  ETA: 0:00:00\u001b[39m\u001b[K\n",
      "\n",
      "\n",
      "\u001b[32mRunning simulation...  79%|████████████████████████      |  ETA: 0:00:00\u001b[39m\u001b[K\n",
      "\n",
      "\n",
      "\u001b[32mRunning simulation... 100%|██████████████████████████████| Time: 0:00:00\u001b[39m\u001b[K\n",
      "\u001b[34m   simulated_blocks: 24\u001b[39m\u001b[K\n",
      "\u001b[34m          rf_blocks: 21\u001b[39m\u001b[K\n",
      "\u001b[34m        acq_samples: 0\u001b[39m\u001b[K\n"
     ]
    },
    {
     "name": "stdout",
     "output_type": "stream",
     "text": [
      "  0.418903 seconds (152.38 k allocations: 7.646 MiB)\n"
     ]
    },
    {
     "name": "stderr",
     "output_type": "stream",
     "text": [
      "┌ Info: Running simulation in the CPU with 1 thread(s)\n",
      "│   koma_version = 0.9.1\n",
      "│   sim_method = Bloch()\n",
      "│   spins = 201\n",
      "│   time_points = 1022\n",
      "│   adc_points = 0\n",
      "└ @ KomaMRICore C:\\Users\\lucya\\.julia\\packages\\KomaMRICore\\DEJdd\\src\\simulation\\SimulatorCore.jl:385\n",
      "\u001b[32mRunning simulation...  46%|██████████████                |  ETA: 0:00:00\u001b[39m\u001b[K\n",
      "\n",
      "\n",
      "\u001b[32mRunning simulation...  75%|███████████████████████       |  ETA: 0:00:00\u001b[39m\u001b[K\n",
      "\n",
      "\n",
      "\u001b[32mRunning simulation...  96%|█████████████████████████████ |  ETA: 0:00:00\u001b[39m\u001b[K\n",
      "\n",
      "\n",
      "\u001b[32mRunning simulation... 100%|██████████████████████████████| Time: 0:00:00\u001b[39m\u001b[K\n",
      "\u001b[34m   simulated_blocks: 24\u001b[39m\u001b[K\n",
      "\u001b[34m          rf_blocks: 21\u001b[39m\u001b[K\n",
      "\u001b[34m        acq_samples: 0\u001b[39m\u001b[K\n"
     ]
    },
    {
     "name": "stdout",
     "output_type": "stream",
     "text": [
      "  0.593989 seconds (152.75 k allocations: 7.663 MiB)\n"
     ]
    },
    {
     "name": "stderr",
     "output_type": "stream",
     "text": [
      "┌ Info: Running simulation in the CPU with 1 thread(s)\n",
      "│   koma_version = 0.9.1\n",
      "│   sim_method = Bloch()\n",
      "│   spins = 201\n",
      "│   time_points = 1022\n",
      "│   adc_points = 0\n",
      "└ @ KomaMRICore C:\\Users\\lucya\\.julia\\packages\\KomaMRICore\\DEJdd\\src\\simulation\\SimulatorCore.jl:385\n",
      "\u001b[32mRunning simulation...  33%|███████████                   |  ETA: 0:00:00\u001b[39m\u001b[K\n",
      "\n",
      "\n",
      "\u001b[32mRunning simulation...  54%|█████████████████             |  ETA: 0:00:00\u001b[39m\u001b[K\n",
      "\n",
      "\n",
      "\u001b[32mRunning simulation... 100%|██████████████████████████████| Time: 0:00:00\u001b[39m\u001b[K\n",
      "\u001b[34m   simulated_blocks: 24\u001b[39m\u001b[K\n",
      "\u001b[34m          rf_blocks: 21\u001b[39m\u001b[K\n",
      "\u001b[34m        acq_samples: 0\u001b[39m\u001b[K\n"
     ]
    },
    {
     "name": "stdout",
     "output_type": "stream",
     "text": [
      "  0.502477 seconds (152.36 k allocations: 7.646 MiB)\n"
     ]
    },
    {
     "name": "stderr",
     "output_type": "stream",
     "text": [
      "┌ Info: Running simulation in the CPU with 1 thread(s)\n",
      "│   koma_version = 0.9.1\n",
      "│   sim_method = Bloch()\n",
      "│   spins = 201\n",
      "│   time_points = 1022\n",
      "│   adc_points = 0\n",
      "└ @ KomaMRICore C:\\Users\\lucya\\.julia\\packages\\KomaMRICore\\DEJdd\\src\\simulation\\SimulatorCore.jl:385\n",
      "\u001b[32mRunning simulation...  46%|██████████████                |  ETA: 0:00:00\u001b[39m\u001b[K\n",
      "\n",
      "\n",
      "\u001b[32mRunning simulation...  83%|██████████████████████████    |  ETA: 0:00:00\u001b[39m\u001b[K\n",
      "\n",
      "\n",
      "\u001b[32mRunning simulation... 100%|██████████████████████████████| Time: 0:00:00\u001b[39m\u001b[K\n",
      "\u001b[34m   simulated_blocks: 24\u001b[39m\u001b[K\n",
      "\u001b[34m          rf_blocks: 21\u001b[39m\u001b[K\n",
      "\u001b[34m        acq_samples: 0\u001b[39m\u001b[K\n"
     ]
    },
    {
     "name": "stdout",
     "output_type": "stream",
     "text": [
      "  0.431461 seconds (152.37 k allocations: 7.646 MiB)\n"
     ]
    },
    {
     "name": "stderr",
     "output_type": "stream",
     "text": [
      "┌ Info: Running simulation in the CPU with 1 thread(s)\n",
      "│   koma_version = 0.9.1\n",
      "│   sim_method = Bloch()\n",
      "│   spins = 201\n",
      "│   time_points = 1022\n",
      "│   adc_points = 0\n",
      "└ @ KomaMRICore C:\\Users\\lucya\\.julia\\packages\\KomaMRICore\\DEJdd\\src\\simulation\\SimulatorCore.jl:385\n",
      "\u001b[32mRunning simulation...  46%|██████████████                |  ETA: 0:00:00\u001b[39m\u001b[K\n",
      "\n",
      "\n",
      "\u001b[32mRunning simulation...  75%|███████████████████████       |  ETA: 0:00:00\u001b[39m\u001b[K\n",
      "\n",
      "\n",
      "\u001b[32mRunning simulation... 100%|██████████████████████████████| Time: 0:00:00\u001b[39m\u001b[K\n",
      "\u001b[34m   simulated_blocks: 24\u001b[39m\u001b[K\n",
      "\u001b[34m          rf_blocks: 21\u001b[39m\u001b[K\n",
      "\u001b[34m        acq_samples: 0\u001b[39m\u001b[K\n"
     ]
    },
    {
     "name": "stdout",
     "output_type": "stream",
     "text": [
      "  0.394556 seconds (152.33 k allocations: 7.644 MiB)\n"
     ]
    },
    {
     "name": "stderr",
     "output_type": "stream",
     "text": [
      "┌ Info: Running simulation in the CPU with 1 thread(s)\n",
      "│   koma_version = 0.9.1\n",
      "│   sim_method = Bloch()\n",
      "│   spins = 201\n",
      "│   time_points = 1022\n",
      "│   adc_points = 0\n",
      "└ @ KomaMRICore C:\\Users\\lucya\\.julia\\packages\\KomaMRICore\\DEJdd\\src\\simulation\\SimulatorCore.jl:385\n",
      "\u001b[32mRunning simulation...  50%|████████████████              |  ETA: 0:00:00\u001b[39m\u001b[K\n",
      "\n",
      "\n",
      "\u001b[32mRunning simulation...  96%|█████████████████████████████ |  ETA: 0:00:00\u001b[39m\u001b[K\n",
      "\n",
      "\n",
      "\u001b[32mRunning simulation... 100%|██████████████████████████████| Time: 0:00:00\u001b[39m\u001b[K\n",
      "\u001b[34m   simulated_blocks: 24\u001b[39m\u001b[K\n",
      "\u001b[34m          rf_blocks: 21\u001b[39m\u001b[K\n",
      "\u001b[34m        acq_samples: 0\u001b[39m\u001b[K\n"
     ]
    },
    {
     "name": "stdout",
     "output_type": "stream",
     "text": [
      "  0.814591 seconds (152.53 k allocations: 7.655 MiB)\n"
     ]
    },
    {
     "name": "stderr",
     "output_type": "stream",
     "text": [
      "┌ Info: Running simulation in the CPU with 1 thread(s)\n",
      "│   koma_version = 0.9.1\n",
      "│   sim_method = Bloch()\n",
      "│   spins = 201\n",
      "│   time_points = 1022\n",
      "│   adc_points = 0\n",
      "└ @ KomaMRICore C:\\Users\\lucya\\.julia\\packages\\KomaMRICore\\DEJdd\\src\\simulation\\SimulatorCore.jl:385\n",
      "\u001b[32mRunning simulation...  46%|██████████████                |  ETA: 0:00:00\u001b[39m\u001b[K\n",
      "\n",
      "\n",
      "\u001b[32mRunning simulation...  71%|██████████████████████        |  ETA: 0:00:00\u001b[39m\u001b[K\n",
      "\n",
      "\n",
      "\u001b[32mRunning simulation... 100%|██████████████████████████████| Time: 0:00:01\u001b[39m\u001b[K\n",
      "\u001b[34m   simulated_blocks: 24\u001b[39m\u001b[K\n",
      "\u001b[34m          rf_blocks: 21\u001b[39m\u001b[K\n",
      "\u001b[34m        acq_samples: 0\u001b[39m\u001b[K\n"
     ]
    },
    {
     "name": "stdout",
     "output_type": "stream",
     "text": [
      "  1.226457 seconds (152.54 k allocations: 7.656 MiB, 13.43% gc time)\n"
     ]
    },
    {
     "name": "stderr",
     "output_type": "stream",
     "text": [
      "┌ Info: Running simulation in the CPU with 1 thread(s)\n",
      "│   koma_version = 0.9.1\n",
      "│   sim_method = Bloch()\n",
      "│   spins = 201\n",
      "│   time_points = 1022\n",
      "│   adc_points = 0\n",
      "└ @ KomaMRICore C:\\Users\\lucya\\.julia\\packages\\KomaMRICore\\DEJdd\\src\\simulation\\SimulatorCore.jl:385\n",
      "\u001b[32mRunning simulation...  46%|██████████████                |  ETA: 0:00:00\u001b[39m\u001b[K\n",
      "\n",
      "\n",
      "\u001b[32mRunning simulation...  83%|██████████████████████████    |  ETA: 0:00:00\u001b[39m\u001b[K\n",
      "\n",
      "\n",
      "\u001b[32mRunning simulation... 100%|██████████████████████████████| Time: 0:00:00\u001b[39m\u001b[K\n",
      "\u001b[34m   simulated_blocks: 24\u001b[39m\u001b[K\n",
      "\u001b[34m          rf_blocks: 21\u001b[39m\u001b[K\n",
      "\u001b[34m        acq_samples: 0\u001b[39m\u001b[K\n"
     ]
    },
    {
     "name": "stdout",
     "output_type": "stream",
     "text": [
      "  0.395934 seconds (152.39 k allocations: 7.647 MiB)\n"
     ]
    },
    {
     "name": "stderr",
     "output_type": "stream",
     "text": [
      "┌ Info: Running simulation in the CPU with 1 thread(s)\n",
      "│   koma_version = 0.9.1\n",
      "│   sim_method = Bloch()\n",
      "│   spins = 201\n",
      "│   time_points = 1022\n",
      "│   adc_points = 0\n",
      "└ @ KomaMRICore C:\\Users\\lucya\\.julia\\packages\\KomaMRICore\\DEJdd\\src\\simulation\\SimulatorCore.jl:385\n",
      "\u001b[32mRunning simulation...  46%|██████████████                |  ETA: 0:00:00\u001b[39m\u001b[K\n",
      "\n",
      "\n",
      "\u001b[32mRunning simulation...  71%|██████████████████████        |  ETA: 0:00:00\u001b[39m\u001b[K\n",
      "\n",
      "\n",
      "\u001b[32mRunning simulation... 100%|██████████████████████████████| Time: 0:00:00\u001b[39m\u001b[K\n",
      "\u001b[34m   simulated_blocks: 24\u001b[39m\u001b[K\n",
      "\u001b[34m          rf_blocks: 21\u001b[39m\u001b[K\n",
      "\u001b[34m        acq_samples: 0\u001b[39m\u001b[K\n"
     ]
    },
    {
     "name": "stdout",
     "output_type": "stream",
     "text": [
      "  0.479776 seconds (152.42 k allocations: 7.649 MiB)\n"
     ]
    },
    {
     "name": "stderr",
     "output_type": "stream",
     "text": [
      "┌ Info: Running simulation in the CPU with 1 thread(s)\n",
      "│   koma_version = 0.9.1\n",
      "│   sim_method = Bloch()\n",
      "│   spins = 201\n",
      "│   time_points = 1022\n",
      "│   adc_points = 0\n",
      "└ @ KomaMRICore C:\\Users\\lucya\\.julia\\packages\\KomaMRICore\\DEJdd\\src\\simulation\\SimulatorCore.jl:385\n",
      "\u001b[32mRunning simulation...  46%|██████████████                |  ETA: 0:00:00\u001b[39m\u001b[K\n",
      "\n",
      "\n",
      "\u001b[32mRunning simulation...  75%|███████████████████████       |  ETA: 0:00:00\u001b[39m\u001b[K\n",
      "\n",
      "\n",
      "\u001b[32mRunning simulation... 100%|██████████████████████████████| Time: 0:00:00\u001b[39m\u001b[K\n",
      "\u001b[34m   simulated_blocks: 24\u001b[39m\u001b[K\n",
      "\u001b[34m          rf_blocks: 21\u001b[39m\u001b[K\n",
      "\u001b[34m        acq_samples: 0\u001b[39m\u001b[K\n"
     ]
    },
    {
     "name": "stdout",
     "output_type": "stream",
     "text": [
      "  0.323802 seconds (152.37 k allocations: 7.646 MiB)\n"
     ]
    },
    {
     "name": "stderr",
     "output_type": "stream",
     "text": [
      "┌ Info: Running simulation in the CPU with 1 thread(s)\n",
      "│   koma_version = 0.9.1\n",
      "│   sim_method = Bloch()\n",
      "│   spins = 201\n",
      "│   time_points = 1022\n",
      "│   adc_points = 0\n",
      "└ @ KomaMRICore C:\\Users\\lucya\\.julia\\packages\\KomaMRICore\\DEJdd\\src\\simulation\\SimulatorCore.jl:385\n",
      "\u001b[32mRunning simulation...  46%|██████████████                |  ETA: 0:00:00\u001b[39m\u001b[K\n",
      "\n",
      "\n",
      "\u001b[32mRunning simulation...  67%|█████████████████████         |  ETA: 0:00:00\u001b[39m\u001b[K\n",
      "\n",
      "\n",
      "\u001b[32mRunning simulation... 100%|██████████████████████████████| Time: 0:00:00\u001b[39m\u001b[K\n",
      "\u001b[34m   simulated_blocks: 24\u001b[39m\u001b[K\n",
      "\u001b[34m          rf_blocks: 21\u001b[39m\u001b[K\n",
      "\u001b[34m        acq_samples: 0\u001b[39m\u001b[K\n"
     ]
    },
    {
     "name": "stdout",
     "output_type": "stream",
     "text": [
      "  0.496395 seconds (152.27 k allocations: 7.643 MiB)\n"
     ]
    },
    {
     "name": "stderr",
     "output_type": "stream",
     "text": [
      "┌ Info: Running simulation in the CPU with 1 thread(s)\n",
      "│   koma_version = 0.9.1\n",
      "│   sim_method = Bloch()\n",
      "│   spins = 201\n",
      "│   time_points = 1022\n",
      "│   adc_points = 0\n",
      "└ @ KomaMRICore C:\\Users\\lucya\\.julia\\packages\\KomaMRICore\\DEJdd\\src\\simulation\\SimulatorCore.jl:385\n",
      "\u001b[32mRunning simulation...  46%|██████████████                |  ETA: 0:00:00\u001b[39m\u001b[K\n",
      "\n",
      "\n",
      "\u001b[32mRunning simulation...  92%|████████████████████████████  |  ETA: 0:00:00\u001b[39m\u001b[K\n",
      "\n",
      "\n",
      "\u001b[32mRunning simulation... 100%|██████████████████████████████| Time: 0:00:00\u001b[39m\u001b[K\n",
      "\u001b[34m   simulated_blocks: 24\u001b[39m\u001b[K\n",
      "\u001b[34m          rf_blocks: 21\u001b[39m\u001b[K\n",
      "\u001b[34m        acq_samples: 0\u001b[39m\u001b[K\n"
     ]
    },
    {
     "name": "stdout",
     "output_type": "stream",
     "text": [
      "  0.275333 seconds (152.38 k allocations: 7.647 MiB)\n"
     ]
    },
    {
     "name": "stderr",
     "output_type": "stream",
     "text": [
      "┌ Info: Running simulation in the CPU with 1 thread(s)\n",
      "│   koma_version = 0.9.1\n",
      "│   sim_method = Bloch()\n",
      "│   spins = 201\n",
      "│   time_points = 1022\n",
      "│   adc_points = 0\n",
      "└ @ KomaMRICore C:\\Users\\lucya\\.julia\\packages\\KomaMRICore\\DEJdd\\src\\simulation\\SimulatorCore.jl:385\n",
      "\u001b[32mRunning simulation...  50%|████████████████              |  ETA: 0:00:00\u001b[39m\u001b[K\n",
      "\n",
      "\n",
      "\u001b[32mRunning simulation...  92%|████████████████████████████  |  ETA: 0:00:00\u001b[39m\u001b[K\n",
      "\n",
      "\n",
      "\u001b[32mRunning simulation... 100%|██████████████████████████████| Time: 0:00:00\u001b[39m\u001b[K\n",
      "\u001b[34m   simulated_blocks: 24\u001b[39m\u001b[K\n",
      "\u001b[34m          rf_blocks: 21\u001b[39m\u001b[K\n",
      "\u001b[34m        acq_samples: 0\u001b[39m\u001b[K\n"
     ]
    },
    {
     "name": "stdout",
     "output_type": "stream",
     "text": [
      "  0.383788 seconds (152.37 k allocations: 7.646 MiB)\n"
     ]
    },
    {
     "name": "stderr",
     "output_type": "stream",
     "text": [
      "┌ Info: Running simulation in the CPU with 1 thread(s)\n",
      "│   koma_version = 0.9.1\n",
      "│   sim_method = Bloch()\n",
      "│   spins = 201\n",
      "│   time_points = 1022\n",
      "│   adc_points = 0\n",
      "└ @ KomaMRICore C:\\Users\\lucya\\.julia\\packages\\KomaMRICore\\DEJdd\\src\\simulation\\SimulatorCore.jl:385\n",
      "\u001b[32mRunning simulation...  46%|██████████████                |  ETA: 0:00:00\u001b[39m\u001b[K\n",
      "\n",
      "\n",
      "\u001b[32mRunning simulation...  71%|██████████████████████        |  ETA: 0:00:00\u001b[39m\u001b[K\n",
      "\n",
      "\n",
      "\u001b[32mRunning simulation... 100%|██████████████████████████████| Time: 0:00:00\u001b[39m\u001b[K\n",
      "\u001b[34m   simulated_blocks: 24\u001b[39m\u001b[K\n",
      "\u001b[34m          rf_blocks: 21\u001b[39m\u001b[K\n",
      "\u001b[34m        acq_samples: 0\u001b[39m\u001b[K\n"
     ]
    },
    {
     "name": "stdout",
     "output_type": "stream",
     "text": [
      "  0.491156 seconds (152.38 k allocations: 7.646 MiB)\n"
     ]
    },
    {
     "name": "stderr",
     "output_type": "stream",
     "text": [
      "┌ Info: Running simulation in the CPU with 1 thread(s)\n",
      "│   koma_version = 0.9.1\n",
      "│   sim_method = Bloch()\n",
      "│   spins = 201\n",
      "│   time_points = 1022\n",
      "│   adc_points = 0\n",
      "└ @ KomaMRICore C:\\Users\\lucya\\.julia\\packages\\KomaMRICore\\DEJdd\\src\\simulation\\SimulatorCore.jl:385\n",
      "\u001b[32mRunning simulation...  46%|██████████████                |  ETA: 0:00:00\u001b[39m\u001b[K\n",
      "\n",
      "\n",
      "\u001b[32mRunning simulation...  88%|███████████████████████████   |  ETA: 0:00:00\u001b[39m\u001b[K\n",
      "\n",
      "\n",
      "\u001b[32mRunning simulation... 100%|██████████████████████████████| Time: 0:00:00\u001b[39m\u001b[K\n",
      "\u001b[34m   simulated_blocks: 24\u001b[39m\u001b[K\n",
      "\u001b[34m          rf_blocks: 21\u001b[39m\u001b[K\n",
      "\u001b[34m        acq_samples: 0\u001b[39m\u001b[K\n"
     ]
    },
    {
     "name": "stdout",
     "output_type": "stream",
     "text": [
      "  0.367933 seconds (152.36 k allocations: 7.647 MiB, 23.40% gc time)\n"
     ]
    },
    {
     "name": "stderr",
     "output_type": "stream",
     "text": [
      "┌ Info: Running simulation in the CPU with 1 thread(s)\n",
      "│   koma_version = 0.9.1\n",
      "│   sim_method = Bloch()\n",
      "│   spins = 201\n",
      "│   time_points = 1022\n",
      "│   adc_points = 0\n",
      "└ @ KomaMRICore C:\\Users\\lucya\\.julia\\packages\\KomaMRICore\\DEJdd\\src\\simulation\\SimulatorCore.jl:385\n",
      "\u001b[32mRunning simulation...  46%|██████████████                |  ETA: 0:00:00\u001b[39m\u001b[K\n",
      "\n",
      "\n",
      "\u001b[32mRunning simulation...  67%|█████████████████████         |  ETA: 0:00:00\u001b[39m\u001b[K\n",
      "\n",
      "\n",
      "\u001b[32mRunning simulation... 100%|██████████████████████████████| Time: 0:00:00\u001b[39m\u001b[K\n",
      "\u001b[34m   simulated_blocks: 24\u001b[39m\u001b[K\n",
      "\u001b[34m          rf_blocks: 21\u001b[39m\u001b[K\n",
      "\u001b[34m        acq_samples: 0\u001b[39m\u001b[K\n"
     ]
    },
    {
     "name": "stdout",
     "output_type": "stream",
     "text": [
      "  0.572485 seconds (152.39 k allocations: 7.646 MiB)\n"
     ]
    },
    {
     "name": "stderr",
     "output_type": "stream",
     "text": [
      "┌ Info: Running simulation in the CPU with 1 thread(s)\n",
      "│   koma_version = 0.9.1\n",
      "│   sim_method = Bloch()\n",
      "│   spins = 201\n",
      "│   time_points = 1022\n",
      "│   adc_points = 0\n",
      "└ @ KomaMRICore C:\\Users\\lucya\\.julia\\packages\\KomaMRICore\\DEJdd\\src\\simulation\\SimulatorCore.jl:385\n",
      "\u001b[32mRunning simulation...  46%|██████████████                |  ETA: 0:00:00\u001b[39m\u001b[K\n",
      "\n",
      "\n",
      "\u001b[32mRunning simulation...  83%|██████████████████████████    |  ETA: 0:00:00\u001b[39m\u001b[K\n",
      "\n",
      "\n",
      "\u001b[32mRunning simulation... 100%|██████████████████████████████| Time: 0:00:00\u001b[39m\u001b[K\n",
      "\u001b[34m   simulated_blocks: 24\u001b[39m\u001b[K\n",
      "\u001b[34m          rf_blocks: 21\u001b[39m\u001b[K\n",
      "\u001b[34m        acq_samples: 0\u001b[39m\u001b[K\n"
     ]
    },
    {
     "name": "stdout",
     "output_type": "stream",
     "text": [
      "  0.265022 seconds (152.36 k allocations: 7.646 MiB)\n"
     ]
    },
    {
     "name": "stderr",
     "output_type": "stream",
     "text": [
      "┌ Info: Running simulation in the CPU with 1 thread(s)\n",
      "│   koma_version = 0.9.1\n",
      "│   sim_method = Bloch()\n",
      "│   spins = 201\n",
      "│   time_points = 1022\n",
      "│   adc_points = 0\n",
      "└ @ KomaMRICore C:\\Users\\lucya\\.julia\\packages\\KomaMRICore\\DEJdd\\src\\simulation\\SimulatorCore.jl:385\n",
      "\u001b[32mRunning simulation...  46%|██████████████                |  ETA: 0:00:00\u001b[39m\u001b[K\n",
      "\n",
      "\n",
      "\u001b[32mRunning simulation...  62%|███████████████████           |  ETA: 0:00:00\u001b[39m\u001b[K\n",
      "\n",
      "\n",
      "\u001b[32mRunning simulation...  88%|███████████████████████████   |  ETA: 0:00:00\u001b[39m\u001b[K\n",
      "\n",
      "\n",
      "\u001b[32mRunning simulation... 100%|██████████████████████████████| Time: 0:00:00\u001b[39m\u001b[K\n",
      "\u001b[34m   simulated_blocks: 24\u001b[39m\u001b[K\n",
      "\u001b[34m          rf_blocks: 21\u001b[39m\u001b[K\n",
      "\u001b[34m        acq_samples: 0\u001b[39m\u001b[K\n"
     ]
    },
    {
     "name": "stdout",
     "output_type": "stream",
     "text": [
      "  0.762122 seconds (152.69 k allocations: 7.660 MiB)\n"
     ]
    },
    {
     "name": "stderr",
     "output_type": "stream",
     "text": [
      "┌ Info: Running simulation in the CPU with 1 thread(s)\n",
      "│   koma_version = 0.9.1\n",
      "│   sim_method = Bloch()\n",
      "│   spins = 201\n",
      "│   time_points = 1022\n",
      "│   adc_points = 0\n",
      "└ @ KomaMRICore C:\\Users\\lucya\\.julia\\packages\\KomaMRICore\\DEJdd\\src\\simulation\\SimulatorCore.jl:385\n",
      "\u001b[32mRunning simulation...  46%|██████████████                |  ETA: 0:00:00\u001b[39m\u001b[K\n",
      "\n",
      "\n",
      "\u001b[32mRunning simulation...  75%|███████████████████████       |  ETA: 0:00:00\u001b[39m\u001b[K\n",
      "\n",
      "\n",
      "\u001b[32mRunning simulation... 100%|██████████████████████████████| Time: 0:00:00\u001b[39m\u001b[K\n",
      "\u001b[34m   simulated_blocks: 24\u001b[39m\u001b[K\n",
      "\u001b[34m          rf_blocks: 21\u001b[39m\u001b[K\n",
      "\u001b[34m        acq_samples: 0\u001b[39m\u001b[K\n"
     ]
    },
    {
     "name": "stdout",
     "output_type": "stream",
     "text": [
      "  0.668716 seconds (152.36 k allocations: 7.644 MiB)\n"
     ]
    },
    {
     "name": "stderr",
     "output_type": "stream",
     "text": [
      "┌ Info: Running simulation in the CPU with 1 thread(s)\n",
      "│   koma_version = 0.9.1\n",
      "│   sim_method = Bloch()\n",
      "│   spins = 201\n",
      "│   time_points = 1022\n",
      "│   adc_points = 0\n",
      "└ @ KomaMRICore C:\\Users\\lucya\\.julia\\packages\\KomaMRICore\\DEJdd\\src\\simulation\\SimulatorCore.jl:385\n",
      "\u001b[32mRunning simulation...  46%|██████████████                |  ETA: 0:00:00\u001b[39m\u001b[K\n",
      "\n",
      "\n",
      "\u001b[32mRunning simulation...  67%|█████████████████████         |  ETA: 0:00:00\u001b[39m\u001b[K\n",
      "\n",
      "\n",
      "\u001b[32mRunning simulation... 100%|██████████████████████████████| Time: 0:00:00\u001b[39m\u001b[K\n",
      "\u001b[34m   simulated_blocks: 24\u001b[39m\u001b[K\n",
      "\u001b[34m          rf_blocks: 21\u001b[39m\u001b[K\n",
      "\u001b[34m        acq_samples: 0\u001b[39m\u001b[K\n"
     ]
    },
    {
     "name": "stdout",
     "output_type": "stream",
     "text": [
      "  0.419278 seconds (152.36 k allocations: 7.646 MiB)\n"
     ]
    },
    {
     "name": "stderr",
     "output_type": "stream",
     "text": [
      "┌ Info: Running simulation in the CPU with 1 thread(s)\n",
      "│   koma_version = 0.9.1\n",
      "│   sim_method = Bloch()\n",
      "│   spins = 201\n",
      "│   time_points = 1022\n",
      "│   adc_points = 0\n",
      "└ @ KomaMRICore C:\\Users\\lucya\\.julia\\packages\\KomaMRICore\\DEJdd\\src\\simulation\\SimulatorCore.jl:385\n",
      "\u001b[32mRunning simulation...  46%|██████████████                |  ETA: 0:00:00\u001b[39m\u001b[K\n",
      "\n",
      "\n",
      "\u001b[32mRunning simulation...  58%|██████████████████            |  ETA: 0:00:00\u001b[39m\u001b[K\n",
      "\n",
      "\n",
      "\u001b[32mRunning simulation...  75%|███████████████████████       |  ETA: 0:00:00\u001b[39m\u001b[K\n",
      "\n",
      "\n",
      "\u001b[32mRunning simulation...  92%|████████████████████████████  |  ETA: 0:00:00\u001b[39m\u001b[K\n",
      "\n",
      "\n",
      "\u001b[32mRunning simulation... 100%|██████████████████████████████| Time: 0:00:00\u001b[39m\u001b[K\n",
      "\u001b[34m   simulated_blocks: 24\u001b[39m\u001b[K\n",
      "\u001b[34m          rf_blocks: 21\u001b[39m\u001b[K\n",
      "\u001b[34m        acq_samples: 0\u001b[39m\u001b[K\n"
     ]
    },
    {
     "name": "stdout",
     "output_type": "stream",
     "text": [
      "  0.897780 seconds (153.01 k allocations: 7.674 MiB)\n"
     ]
    },
    {
     "name": "stderr",
     "output_type": "stream",
     "text": [
      "┌ Info: Running simulation in the CPU with 1 thread(s)\n",
      "│   koma_version = 0.9.1\n",
      "│   sim_method = Bloch()\n",
      "│   spins = 201\n",
      "│   time_points = 1022\n",
      "│   adc_points = 0\n",
      "└ @ KomaMRICore C:\\Users\\lucya\\.julia\\packages\\KomaMRICore\\DEJdd\\src\\simulation\\SimulatorCore.jl:385\n",
      "\u001b[32mRunning simulation...  46%|██████████████                |  ETA: 0:00:00\u001b[39m\u001b[K\n",
      "\n",
      "\n",
      "\u001b[32mRunning simulation... 100%|██████████████████████████████| Time: 0:00:01\u001b[39m\u001b[K\n",
      "\u001b[34m   simulated_blocks: 24\u001b[39m\u001b[K\n",
      "\u001b[34m          rf_blocks: 21\u001b[39m\u001b[K\n",
      "\u001b[34m        acq_samples: 0\u001b[39m\u001b[K\n"
     ]
    },
    {
     "name": "stdout",
     "output_type": "stream",
     "text": [
      "  1.094521 seconds (152.21 k allocations: 7.639 MiB)\n"
     ]
    },
    {
     "name": "stderr",
     "output_type": "stream",
     "text": [
      "┌ Info: Running simulation in the CPU with 1 thread(s)\n",
      "│   koma_version = 0.9.1\n",
      "│   sim_method = Bloch()\n",
      "│   spins = 201\n",
      "│   time_points = 1022\n",
      "│   adc_points = 0\n",
      "└ @ KomaMRICore C:\\Users\\lucya\\.julia\\packages\\KomaMRICore\\DEJdd\\src\\simulation\\SimulatorCore.jl:385\n",
      "\u001b[32mRunning simulation...  46%|██████████████                |  ETA: 0:00:00\u001b[39m\u001b[K\n",
      "\n",
      "\n",
      "\u001b[32mRunning simulation...  62%|███████████████████           |  ETA: 0:00:00\u001b[39m\u001b[K\n",
      "\n",
      "\n",
      "\u001b[32mRunning simulation...  75%|███████████████████████       |  ETA: 0:00:00\u001b[39m\u001b[K\n",
      "\n",
      "\n",
      "\u001b[32mRunning simulation... 100%|██████████████████████████████| Time: 0:00:00\u001b[39m\u001b[K\n",
      "\u001b[34m   simulated_blocks: 24\u001b[39m\u001b[K\n",
      "\u001b[34m          rf_blocks: 21\u001b[39m\u001b[K\n",
      "\u001b[34m        acq_samples: 0\u001b[39m\u001b[K\n"
     ]
    },
    {
     "name": "stdout",
     "output_type": "stream",
     "text": [
      "  0.822264 seconds (152.74 k allocations: 7.662 MiB)\n"
     ]
    },
    {
     "name": "stderr",
     "output_type": "stream",
     "text": [
      "┌ Info: Running simulation in the CPU with 1 thread(s)\n",
      "│   koma_version = 0.9.1\n",
      "│   sim_method = Bloch()\n",
      "│   spins = 201\n",
      "│   time_points = 1022\n",
      "│   adc_points = 0\n",
      "└ @ KomaMRICore C:\\Users\\lucya\\.julia\\packages\\KomaMRICore\\DEJdd\\src\\simulation\\SimulatorCore.jl:385\n",
      "\u001b[32mRunning simulation...  18%|██████                        |  ETA: 0:00:00\u001b[39m\u001b[K\n",
      "\n",
      "\n",
      "\u001b[32mRunning simulation...  64%|████████████████████          |  ETA: 0:00:00\u001b[39m\u001b[K\n",
      "\n",
      "\n",
      "\u001b[32mRunning simulation...  82%|█████████████████████████     |  ETA: 0:00:00\u001b[39m\u001b[K\n",
      "\n",
      "\n",
      "\u001b[32mRunning simulation... 100%|██████████████████████████████| Time: 0:00:00\u001b[39m\u001b[K\n",
      "\u001b[34m   simulated_blocks: 22\u001b[39m\u001b[K\n",
      "\u001b[34m          rf_blocks: 20\u001b[39m\u001b[K\n",
      "\u001b[34m        acq_samples: 0\u001b[39m\u001b[K\n"
     ]
    },
    {
     "name": "stdout",
     "output_type": "stream",
     "text": [
      "  0.688921 seconds (152.26 k allocations: 7.623 MiB, 6.77% gc time)\n"
     ]
    },
    {
     "name": "stderr",
     "output_type": "stream",
     "text": [
      "┌ Info: Running simulation in the CPU with 1 thread(s)\n",
      "│   koma_version = 0.9.1\n",
      "│   sim_method = Bloch()\n",
      "│   spins = 201\n",
      "│   time_points = 1022\n",
      "│   adc_points = 0\n",
      "└ @ KomaMRICore C:\\Users\\lucya\\.julia\\packages\\KomaMRICore\\DEJdd\\src\\simulation\\SimulatorCore.jl:385\n",
      "\u001b[32mRunning simulation...  18%|██████                        |  ETA: 0:00:01\u001b[39m\u001b[K\n",
      "\n",
      "\n",
      "\u001b[32mRunning simulation...  27%|█████████                     |  ETA: 0:00:01\u001b[39m\u001b[K\n",
      "\n",
      "\n",
      "\u001b[32mRunning simulation... 100%|██████████████████████████████| Time: 0:00:00\u001b[39m\u001b[K\n",
      "\u001b[34m   simulated_blocks: 22\u001b[39m\u001b[K\n",
      "\u001b[34m          rf_blocks: 20\u001b[39m\u001b[K\n",
      "\u001b[34m        acq_samples: 0\u001b[39m\u001b[K\n"
     ]
    },
    {
     "name": "stdout",
     "output_type": "stream",
     "text": [
      "  0.459969 seconds (151.94 k allocations: 7.607 MiB)\n"
     ]
    },
    {
     "name": "stderr",
     "output_type": "stream",
     "text": [
      "┌ Info: Running simulation in the CPU with 1 thread(s)\n",
      "│   koma_version = 0.9.1\n",
      "│   sim_method = Bloch()\n",
      "│   spins = 201\n",
      "│   time_points = 1022\n",
      "│   adc_points = 0\n",
      "└ @ KomaMRICore C:\\Users\\lucya\\.julia\\packages\\KomaMRICore\\DEJdd\\src\\simulation\\SimulatorCore.jl:385\n",
      "\u001b[32mRunning simulation...   9%|███                           |  ETA: 0:00:01\u001b[39m\u001b[K\n",
      "\n",
      "\n",
      "\u001b[32mRunning simulation...  18%|██████                        |  ETA: 0:00:01\u001b[39m\u001b[K\n",
      "\n",
      "\n",
      "\u001b[32mRunning simulation...  32%|██████████                    |  ETA: 0:00:01\u001b[39m\u001b[K\n",
      "\n",
      "\n",
      "\u001b[32mRunning simulation...  45%|██████████████                |  ETA: 0:00:01\u001b[39m\u001b[K\n",
      "\n",
      "\n",
      "\u001b[32mRunning simulation...  73%|██████████████████████        |  ETA: 0:00:00\u001b[39m\u001b[K\n",
      "\n",
      "\n",
      "\u001b[32mRunning simulation... 100%|██████████████████████████████| Time: 0:00:00\u001b[39m\u001b[K\n",
      "\u001b[34m   simulated_blocks: 22\u001b[39m\u001b[K\n",
      "\u001b[34m          rf_blocks: 20\u001b[39m\u001b[K\n",
      "\u001b[34m        acq_samples: 0\u001b[39m\u001b[K\n"
     ]
    },
    {
     "name": "stdout",
     "output_type": "stream",
     "text": [
      "  0.880918 seconds (152.98 k allocations: 7.654 MiB)\n"
     ]
    },
    {
     "name": "stderr",
     "output_type": "stream",
     "text": [
      "┌ Info: Running simulation in the CPU with 1 thread(s)\n",
      "│   koma_version = 0.9.1\n",
      "│   sim_method = Bloch()\n",
      "│   spins = 201\n",
      "│   time_points = 1022\n",
      "│   adc_points = 0\n",
      "└ @ KomaMRICore C:\\Users\\lucya\\.julia\\packages\\KomaMRICore\\DEJdd\\src\\simulation\\SimulatorCore.jl:385\n",
      "\u001b[32mRunning simulation...  18%|██████                        |  ETA: 0:00:01\u001b[39m\u001b[K\n",
      "\n",
      "\n",
      "\u001b[32mRunning simulation... 100%|██████████████████████████████| Time: 0:00:01\u001b[39m\u001b[K\n",
      "\u001b[34m   simulated_blocks: 22\u001b[39m\u001b[K\n",
      "\u001b[34m          rf_blocks: 20\u001b[39m\u001b[K\n",
      "\u001b[34m        acq_samples: 0\u001b[39m\u001b[K\n"
     ]
    },
    {
     "name": "stdout",
     "output_type": "stream",
     "text": [
      "  1.443424 seconds (151.88 k allocations: 7.609 MiB)\n"
     ]
    },
    {
     "name": "stderr",
     "output_type": "stream",
     "text": [
      "┌ Info: Running simulation in the CPU with 1 thread(s)\n",
      "│   koma_version = 0.9.1\n",
      "│   sim_method = Bloch()\n",
      "│   spins = 201\n",
      "│   time_points = 1022\n",
      "│   adc_points = 0\n",
      "└ @ KomaMRICore C:\\Users\\lucya\\.julia\\packages\\KomaMRICore\\DEJdd\\src\\simulation\\SimulatorCore.jl:385\n",
      "\u001b[32mRunning simulation...  14%|█████                         |  ETA: 0:00:01\u001b[39m\u001b[K\n",
      "\n",
      "\n",
      "\u001b[32mRunning simulation...  18%|██████                        |  ETA: 0:00:01\u001b[39m\u001b[K\n",
      "\n",
      "\n",
      "\u001b[32mRunning simulation...  64%|████████████████████          |  ETA: 0:00:00\u001b[39m\u001b[K\n",
      "\n",
      "\n",
      "\u001b[32mRunning simulation... 100%|██████████████████████████████| Time: 0:00:00\u001b[39m\u001b[K\n",
      "\u001b[34m   simulated_blocks: 22\u001b[39m\u001b[K\n",
      "\u001b[34m          rf_blocks: 20\u001b[39m\u001b[K\n",
      "\u001b[34m        acq_samples: 0\u001b[39m\u001b[K\n"
     ]
    },
    {
     "name": "stdout",
     "output_type": "stream",
     "text": [
      "  0.708263 seconds (152.30 k allocations: 7.624 MiB)\n"
     ]
    },
    {
     "name": "stderr",
     "output_type": "stream",
     "text": [
      "┌ Info: Running simulation in the CPU with 1 thread(s)\n",
      "│   koma_version = 0.9.1\n",
      "│   sim_method = Bloch()\n",
      "│   spins = 201\n",
      "│   time_points = 1022\n",
      "│   adc_points = 0\n",
      "└ @ KomaMRICore C:\\Users\\lucya\\.julia\\packages\\KomaMRICore\\DEJdd\\src\\simulation\\SimulatorCore.jl:385\n",
      "\u001b[32mRunning simulation...  18%|██████                        |  ETA: 0:00:01\u001b[39m\u001b[K\n",
      "\n",
      "\n",
      "\u001b[32mRunning simulation...  27%|█████████                     |  ETA: 0:00:01\u001b[39m\u001b[K\n",
      "\n",
      "\n",
      "\u001b[32mRunning simulation...  73%|██████████████████████        |  ETA: 0:00:00\u001b[39m\u001b[K\n",
      "\n",
      "\n",
      "\u001b[32mRunning simulation... 100%|██████████████████████████████| Time: 0:00:00\u001b[39m\u001b[K\n",
      "\u001b[34m   simulated_blocks: 22\u001b[39m\u001b[K\n",
      "\u001b[34m          rf_blocks: 20\u001b[39m\u001b[K\n",
      "\u001b[34m        acq_samples: 0\u001b[39m\u001b[K\n"
     ]
    },
    {
     "name": "stdout",
     "output_type": "stream",
     "text": [
      "  0.708109 seconds (152.17 k allocations: 7.620 MiB)\n"
     ]
    },
    {
     "name": "stderr",
     "output_type": "stream",
     "text": [
      "┌ Info: Running simulation in the CPU with 1 thread(s)\n",
      "│   koma_version = 0.9.1\n",
      "│   sim_method = Bloch()\n",
      "│   spins = 201\n",
      "│   time_points = 1022\n",
      "│   adc_points = 0\n",
      "└ @ KomaMRICore C:\\Users\\lucya\\.julia\\packages\\KomaMRICore\\DEJdd\\src\\simulation\\SimulatorCore.jl:385\n",
      "\u001b[32mRunning simulation...  32%|██████████                    |  ETA: 0:00:00\u001b[39m\u001b[K\n",
      "\n",
      "\n",
      "\u001b[32mRunning simulation...  55%|█████████████████             |  ETA: 0:00:00\u001b[39m\u001b[K\n",
      "\n",
      "\n",
      "\u001b[32mRunning simulation...  73%|██████████████████████        |  ETA: 0:00:00\u001b[39m\u001b[K\n",
      "\n",
      "\n",
      "\u001b[32mRunning simulation...  95%|█████████████████████████████ |  ETA: 0:00:00\u001b[39m\u001b[K\n",
      "\n",
      "\n",
      "\u001b[32mRunning simulation... 100%|██████████████████████████████| Time: 0:00:00\u001b[39m\u001b[K\n",
      "\u001b[34m   simulated_blocks: 22\u001b[39m\u001b[K\n",
      "\u001b[34m          rf_blocks: 20\u001b[39m\u001b[K\n",
      "\u001b[34m        acq_samples: 0\u001b[39m\u001b[K\n"
     ]
    },
    {
     "name": "stdout",
     "output_type": "stream",
     "text": [
      "  0.904540 seconds (152.61 k allocations: 7.638 MiB)\n"
     ]
    },
    {
     "name": "stderr",
     "output_type": "stream",
     "text": [
      "┌ Info: Running simulation in the CPU with 1 thread(s)\n",
      "│   koma_version = 0.9.1\n",
      "│   sim_method = Bloch()\n",
      "│   spins = 201\n",
      "│   time_points = 1022\n",
      "│   adc_points = 0\n",
      "└ @ KomaMRICore C:\\Users\\lucya\\.julia\\packages\\KomaMRICore\\DEJdd\\src\\simulation\\SimulatorCore.jl:385\n",
      "\u001b[32mRunning simulation...  27%|█████████                     |  ETA: 0:00:00\u001b[39m\u001b[K\n",
      "\n",
      "\n",
      "\u001b[32mRunning simulation...  50%|████████████████              |  ETA: 0:00:00\u001b[39m\u001b[K\n",
      "\n",
      "\n",
      "\u001b[32mRunning simulation...  91%|████████████████████████████  |  ETA: 0:00:00\u001b[39m\u001b[K\n",
      "\n",
      "\n",
      "\u001b[32mRunning simulation... 100%|██████████████████████████████| Time: 0:00:00\u001b[39m\u001b[K\n",
      "\u001b[34m   simulated_blocks: 22\u001b[39m\u001b[K\n",
      "\u001b[34m          rf_blocks: 20\u001b[39m\u001b[K\n",
      "\u001b[34m        acq_samples: 0\u001b[39m\u001b[K\n"
     ]
    },
    {
     "name": "stdout",
     "output_type": "stream",
     "text": [
      "  0.713330 seconds (152.30 k allocations: 7.625 MiB)\n"
     ]
    },
    {
     "name": "stderr",
     "output_type": "stream",
     "text": [
      "┌ Info: Running simulation in the CPU with 1 thread(s)\n",
      "│   koma_version = 0.9.1\n",
      "│   sim_method = Bloch()\n",
      "│   spins = 201\n",
      "│   time_points = 1022\n",
      "│   adc_points = 0\n",
      "└ @ KomaMRICore C:\\Users\\lucya\\.julia\\packages\\KomaMRICore\\DEJdd\\src\\simulation\\SimulatorCore.jl:385\n",
      "\u001b[32mRunning simulation...  18%|██████                        |  ETA: 0:00:01\u001b[39m\u001b[K\n",
      "\n",
      "\n",
      "\u001b[32mRunning simulation...  73%|██████████████████████        |  ETA: 0:00:00\u001b[39m\u001b[K\n",
      "\n",
      "\n",
      "\u001b[32mRunning simulation... 100%|██████████████████████████████| Time: 0:00:00\u001b[39m\u001b[K\n",
      "\u001b[34m   simulated_blocks: 22\u001b[39m\u001b[K\n",
      "\u001b[34m          rf_blocks: 20\u001b[39m\u001b[K\n",
      "\u001b[34m        acq_samples: 0\u001b[39m\u001b[K\n"
     ]
    },
    {
     "name": "stdout",
     "output_type": "stream",
     "text": [
      "  0.690024 seconds (151.95 k allocations: 7.610 MiB, 5.28% gc time)\n"
     ]
    },
    {
     "name": "stderr",
     "output_type": "stream",
     "text": [
      "┌ Info: Running simulation in the CPU with 1 thread(s)\n",
      "│   koma_version = 0.9.1\n",
      "│   sim_method = Bloch()\n",
      "│   spins = 201\n",
      "│   time_points = 1022\n",
      "│   adc_points = 0\n",
      "└ @ KomaMRICore C:\\Users\\lucya\\.julia\\packages\\KomaMRICore\\DEJdd\\src\\simulation\\SimulatorCore.jl:385\n",
      "\u001b[32mRunning simulation...  18%|██████                        |  ETA: 0:00:01\u001b[39m\u001b[K\n",
      "\n",
      "\n",
      "\u001b[32mRunning simulation...  27%|█████████                     |  ETA: 0:00:01\u001b[39m\u001b[K\n",
      "\n",
      "\n",
      "\u001b[32mRunning simulation...  55%|█████████████████             |  ETA: 0:00:00\u001b[39m\u001b[K\n",
      "\n",
      "\n",
      "\u001b[32mRunning simulation... 100%|██████████████████████████████| Time: 0:00:00\u001b[39m\u001b[K\n",
      "\u001b[34m   simulated_blocks: 22\u001b[39m\u001b[K\n",
      "\u001b[34m          rf_blocks: 20\u001b[39m\u001b[K\n",
      "\u001b[34m        acq_samples: 0\u001b[39m\u001b[K\n"
     ]
    },
    {
     "name": "stdout",
     "output_type": "stream",
     "text": [
      "  0.637882 seconds (152.24 k allocations: 7.621 MiB)\n"
     ]
    },
    {
     "name": "stderr",
     "output_type": "stream",
     "text": [
      "┌ Info: Running simulation in the CPU with 1 thread(s)\n",
      "│   koma_version = 0.9.1\n",
      "│   sim_method = Bloch()\n",
      "│   spins = 201\n",
      "│   time_points = 1022\n",
      "│   adc_points = 0\n",
      "└ @ KomaMRICore C:\\Users\\lucya\\.julia\\packages\\KomaMRICore\\DEJdd\\src\\simulation\\SimulatorCore.jl:385\n",
      "\u001b[32mRunning simulation...  23%|███████                       |  ETA: 0:00:00\u001b[39m\u001b[K\n",
      "\n",
      "\n",
      "\u001b[32mRunning simulation...  36%|███████████                   |  ETA: 0:00:01\u001b[39m\u001b[K\n",
      "\n",
      "\n",
      "\u001b[32mRunning simulation... 100%|██████████████████████████████| Time: 0:00:00\u001b[39m\u001b[K\n",
      "\u001b[34m   simulated_blocks: 22\u001b[39m\u001b[K\n",
      "\u001b[34m          rf_blocks: 20\u001b[39m\u001b[K\n",
      "\u001b[34m        acq_samples: 0\u001b[39m\u001b[K\n"
     ]
    },
    {
     "name": "stdout",
     "output_type": "stream",
     "text": [
      "  0.746500 seconds (151.96 k allocations: 7.610 MiB)\n"
     ]
    },
    {
     "name": "stderr",
     "output_type": "stream",
     "text": [
      "┌ Info: Running simulation in the CPU with 1 thread(s)\n",
      "│   koma_version = 0.9.1\n",
      "│   sim_method = Bloch()\n",
      "│   spins = 201\n",
      "│   time_points = 1022\n",
      "│   adc_points = 0\n",
      "└ @ KomaMRICore C:\\Users\\lucya\\.julia\\packages\\KomaMRICore\\DEJdd\\src\\simulation\\SimulatorCore.jl:385\n",
      "\u001b[32mRunning simulation...  23%|███████                       |  ETA: 0:00:00\u001b[39m\u001b[K\n",
      "\n",
      "\n",
      "\u001b[32mRunning simulation...  59%|██████████████████            |  ETA: 0:00:00\u001b[39m\u001b[K\n",
      "\n",
      "\n",
      "\u001b[32mRunning simulation...  82%|█████████████████████████     |  ETA: 0:00:00\u001b[39m\u001b[K\n",
      "\n",
      "\n",
      "\u001b[32mRunning simulation... 100%|██████████████████████████████| Time: 0:00:00\u001b[39m\u001b[K\n",
      "\u001b[34m   simulated_blocks: 22\u001b[39m\u001b[K\n",
      "\u001b[34m          rf_blocks: 20\u001b[39m\u001b[K\n",
      "\u001b[34m        acq_samples: 0\u001b[39m\u001b[K\n"
     ]
    },
    {
     "name": "stdout",
     "output_type": "stream",
     "text": [
      "  0.560478 seconds (152.28 k allocations: 7.624 MiB)\n"
     ]
    },
    {
     "name": "stderr",
     "output_type": "stream",
     "text": [
      "┌ Info: Running simulation in the CPU with 1 thread(s)\n",
      "│   koma_version = 0.9.1\n",
      "│   sim_method = Bloch()\n",
      "│   spins = 201\n",
      "│   time_points = 1022\n",
      "│   adc_points = 0\n",
      "└ @ KomaMRICore C:\\Users\\lucya\\.julia\\packages\\KomaMRICore\\DEJdd\\src\\simulation\\SimulatorCore.jl:385\n",
      "\u001b[32mRunning simulation...  14%|█████                         |  ETA: 0:00:01\u001b[39m\u001b[K\n",
      "\n",
      "\n",
      "\u001b[32mRunning simulation...  23%|███████                       |  ETA: 0:00:01\u001b[39m\u001b[K\n",
      "\n",
      "\n",
      "\u001b[32mRunning simulation...  55%|█████████████████             |  ETA: 0:00:00\u001b[39m\u001b[K\n",
      "\n",
      "\n",
      "\u001b[32mRunning simulation... 100%|██████████████████████████████| Time: 0:00:00\u001b[39m\u001b[K\n",
      "\u001b[34m   simulated_blocks: 22\u001b[39m\u001b[K\n",
      "\u001b[34m          rf_blocks: 20\u001b[39m\u001b[K\n",
      "\u001b[34m        acq_samples: 0\u001b[39m\u001b[K\n"
     ]
    },
    {
     "name": "stdout",
     "output_type": "stream",
     "text": [
      "  0.636124 seconds (152.35 k allocations: 7.624 MiB)\n"
     ]
    },
    {
     "name": "stderr",
     "output_type": "stream",
     "text": [
      "┌ Info: Running simulation in the CPU with 1 thread(s)\n",
      "│   koma_version = 0.9.1\n",
      "│   sim_method = Bloch()\n",
      "│   spins = 201\n",
      "│   time_points = 1022\n",
      "│   adc_points = 0\n",
      "└ @ KomaMRICore C:\\Users\\lucya\\.julia\\packages\\KomaMRICore\\DEJdd\\src\\simulation\\SimulatorCore.jl:385\n",
      "\u001b[32mRunning simulation...  18%|██████                        |  ETA: 0:00:01\u001b[39m\u001b[K\n",
      "\n",
      "\n",
      "\u001b[32mRunning simulation...  36%|███████████                   |  ETA: 0:00:01\u001b[39m\u001b[K\n",
      "\n",
      "\n",
      "\u001b[32mRunning simulation...  59%|██████████████████            |  ETA: 0:00:00\u001b[39m\u001b[K\n",
      "\n",
      "\n",
      "\u001b[32mRunning simulation... 100%|██████████████████████████████| Time: 0:00:00\u001b[39m\u001b[K\n",
      "\u001b[34m   simulated_blocks: 22\u001b[39m\u001b[K\n",
      "\u001b[34m          rf_blocks: 20\u001b[39m\u001b[K\n",
      "\u001b[34m        acq_samples: 0\u001b[39m\u001b[K\n"
     ]
    },
    {
     "name": "stdout",
     "output_type": "stream",
     "text": [
      "  0.852413 seconds (152.29 k allocations: 7.624 MiB)\n"
     ]
    },
    {
     "name": "stderr",
     "output_type": "stream",
     "text": [
      "┌ Info: Running simulation in the CPU with 1 thread(s)\n",
      "│   koma_version = 0.9.1\n",
      "│   sim_method = Bloch()\n",
      "│   spins = 201\n",
      "│   time_points = 1022\n",
      "│   adc_points = 0\n",
      "└ @ KomaMRICore C:\\Users\\lucya\\.julia\\packages\\KomaMRICore\\DEJdd\\src\\simulation\\SimulatorCore.jl:385\n",
      "\u001b[32mRunning simulation...  32%|██████████                    |  ETA: 0:00:00\u001b[39m\u001b[K\n",
      "\n",
      "\n",
      "\u001b[32mRunning simulation...  55%|█████████████████             |  ETA: 0:00:00\u001b[39m\u001b[K\n",
      "\n",
      "\n",
      "\u001b[32mRunning simulation...  86%|██████████████████████████    |  ETA: 0:00:00\u001b[39m\u001b[K\n",
      "\n",
      "\n",
      "\u001b[32mRunning simulation... 100%|██████████████████████████████| Time: 0:00:00\u001b[39m\u001b[K\n",
      "\u001b[34m   simulated_blocks: 22\u001b[39m\u001b[K\n",
      "\u001b[34m          rf_blocks: 20\u001b[39m\u001b[K\n",
      "\u001b[34m        acq_samples: 0\u001b[39m\u001b[K\n"
     ]
    },
    {
     "name": "stdout",
     "output_type": "stream",
     "text": [
      "  0.624680 seconds (152.31 k allocations: 7.625 MiB)\n"
     ]
    },
    {
     "name": "stderr",
     "output_type": "stream",
     "text": [
      "┌ Info: Running simulation in the CPU with 1 thread(s)\n",
      "│   koma_version = 0.9.1\n",
      "│   sim_method = Bloch()\n",
      "│   spins = 201\n",
      "│   time_points = 1022\n",
      "│   adc_points = 0\n",
      "└ @ KomaMRICore C:\\Users\\lucya\\.julia\\packages\\KomaMRICore\\DEJdd\\src\\simulation\\SimulatorCore.jl:385\n",
      "\u001b[32mRunning simulation...   9%|███                           |  ETA: 0:00:02\u001b[39m\u001b[K\n",
      "\n",
      "\n",
      "\u001b[32mRunning simulation...  23%|███████                       |  ETA: 0:00:02\u001b[39m\u001b[K\n",
      "\n",
      "\n",
      "\u001b[32mRunning simulation... 100%|██████████████████████████████| Time: 0:00:01\u001b[39m\u001b[K\n",
      "\u001b[34m   simulated_blocks: 22\u001b[39m\u001b[K\n",
      "\u001b[34m          rf_blocks: 20\u001b[39m\u001b[K\n",
      "\u001b[34m        acq_samples: 0\u001b[39m\u001b[K\n"
     ]
    },
    {
     "name": "stdout",
     "output_type": "stream",
     "text": [
      "  1.282415 seconds (152.10 k allocations: 7.614 MiB)\n"
     ]
    },
    {
     "name": "stderr",
     "output_type": "stream",
     "text": [
      "┌ Info: Running simulation in the CPU with 1 thread(s)\n",
      "│   koma_version = 0.9.1\n",
      "│   sim_method = Bloch()\n",
      "│   spins = 201\n",
      "│   time_points = 1022\n",
      "│   adc_points = 0\n",
      "└ @ KomaMRICore C:\\Users\\lucya\\.julia\\packages\\KomaMRICore\\DEJdd\\src\\simulation\\SimulatorCore.jl:385\n",
      "\u001b[32mRunning simulation...  27%|█████████                     |  ETA: 0:00:00\u001b[39m\u001b[K\n",
      "\n",
      "\n",
      "\u001b[32mRunning simulation...  41%|█████████████                 |  ETA: 0:00:01\u001b[39m\u001b[K\n",
      "\n",
      "\n",
      "\u001b[32mRunning simulation...  68%|█████████████████████         |  ETA: 0:00:00\u001b[39m\u001b[K\n",
      "\n",
      "\n",
      "\u001b[32mRunning simulation...  91%|████████████████████████████  |  ETA: 0:00:00\u001b[39m\u001b[K\n",
      "\n",
      "\n",
      "\u001b[32mRunning simulation... 100%|██████████████████████████████| Time: 0:00:00\u001b[39m\u001b[K\n",
      "\u001b[34m   simulated_blocks: 22\u001b[39m\u001b[K\n",
      "\u001b[34m          rf_blocks: 20\u001b[39m\u001b[K\n",
      "\u001b[34m        acq_samples: 0\u001b[39m\u001b[K\n"
     ]
    },
    {
     "name": "stdout",
     "output_type": "stream",
     "text": [
      "  0.907871 seconds (152.58 k allocations: 7.638 MiB, 8.49% gc time)\n"
     ]
    },
    {
     "name": "stderr",
     "output_type": "stream",
     "text": [
      "┌ Info: Running simulation in the CPU with 1 thread(s)\n",
      "│   koma_version = 0.9.1\n",
      "│   sim_method = Bloch()\n",
      "│   spins = 201\n",
      "│   time_points = 1022\n",
      "│   adc_points = 0\n",
      "└ @ KomaMRICore C:\\Users\\lucya\\.julia\\packages\\KomaMRICore\\DEJdd\\src\\simulation\\SimulatorCore.jl:385\n",
      "\u001b[32mRunning simulation...  36%|███████████                   |  ETA: 0:00:00\u001b[39m\u001b[K\n",
      "\n",
      "\n",
      "\u001b[32mRunning simulation...  64%|████████████████████          |  ETA: 0:00:00\u001b[39m\u001b[K\n",
      "\n",
      "\n",
      "\u001b[32mRunning simulation... 100%|██████████████████████████████| Time: 0:00:00\u001b[39m\u001b[K\n",
      "\u001b[34m   simulated_blocks: 22\u001b[39m\u001b[K\n",
      "\u001b[34m          rf_blocks: 20\u001b[39m\u001b[K\n",
      "\u001b[34m        acq_samples: 0\u001b[39m\u001b[K\n"
     ]
    },
    {
     "name": "stdout",
     "output_type": "stream",
     "text": [
      "  0.618647 seconds (151.94 k allocations: 7.609 MiB)\n"
     ]
    },
    {
     "name": "stderr",
     "output_type": "stream",
     "text": [
      "┌ Info: Running simulation in the CPU with 1 thread(s)\n",
      "│   koma_version = 0.9.1\n",
      "│   sim_method = Bloch()\n",
      "│   spins = 201\n",
      "│   time_points = 1022\n",
      "│   adc_points = 0\n",
      "└ @ KomaMRICore C:\\Users\\lucya\\.julia\\packages\\KomaMRICore\\DEJdd\\src\\simulation\\SimulatorCore.jl:385\n",
      "\u001b[32mRunning simulation...  18%|██████                        |  ETA: 0:00:01\u001b[39m\u001b[K\n",
      "\n",
      "\n",
      "\u001b[32mRunning simulation...  27%|█████████                     |  ETA: 0:00:01\u001b[39m\u001b[K\n",
      "\n",
      "\n",
      "\u001b[32mRunning simulation...  73%|██████████████████████        |  ETA: 0:00:00\u001b[39m\u001b[K\n",
      "\n",
      "\n",
      "\u001b[32mRunning simulation... 100%|██████████████████████████████| Time: 0:00:00\u001b[39m\u001b[K\n",
      "\u001b[34m   simulated_blocks: 22\u001b[39m\u001b[K\n",
      "\u001b[34m          rf_blocks: 20\u001b[39m\u001b[K\n",
      "\u001b[34m        acq_samples: 0\u001b[39m\u001b[K\n"
     ]
    },
    {
     "name": "stdout",
     "output_type": "stream",
     "text": [
      "  0.541118 seconds (152.31 k allocations: 7.626 MiB)\n"
     ]
    },
    {
     "name": "stderr",
     "output_type": "stream",
     "text": [
      "┌ Info: Running simulation in the CPU with 1 thread(s)\n",
      "│   koma_version = 0.9.1\n",
      "│   sim_method = Bloch()\n",
      "│   spins = 201\n",
      "│   time_points = 1022\n",
      "│   adc_points = 0\n",
      "└ @ KomaMRICore C:\\Users\\lucya\\.julia\\packages\\KomaMRICore\\DEJdd\\src\\simulation\\SimulatorCore.jl:385\n",
      "\u001b[32mRunning simulation...  14%|█████                         |  ETA: 0:00:01\u001b[39m\u001b[K\n",
      "\n",
      "\n",
      "\u001b[32mRunning simulation...  23%|███████                       |  ETA: 0:00:01\u001b[39m\u001b[K\n",
      "\n",
      "\n",
      "\u001b[32mRunning simulation...  45%|██████████████                |  ETA: 0:00:01\u001b[39m\u001b[K\n",
      "\n",
      "\n",
      "\u001b[32mRunning simulation...  82%|█████████████████████████     |  ETA: 0:00:00\u001b[39m\u001b[KExcessive output truncated after 524288 bytes.\n",
      "\n",
      "\n",
      "\u001b[K\u001b[A"
     ]
    }
   ],
   "source": [
    "begin\n",
    "\n",
    "    fa_degrees = Float64[]\n",
    "    rf_indices = Int[]\n",
    "\n",
    "    # Define spatial domain (slice direction: x)\n",
    "    x = -0.01:0.0001:0.01  # ±10 mm\n",
    "    Δx = x[2] - x[1]\n",
    "    slice_thickness = 10e-3  # in meters\n",
    "\n",
    "    for i in 1:length(seq)\n",
    "        rf_blocks = seq.RF[:, i]\n",
    "        if all(rf -> iszero(rf.A), rf_blocks)\n",
    "            continue  # skip if RF amplitude is zero\n",
    "        end\n",
    "\n",
    "        rf_event = seq[i]  # wrap the single SequenceEvent\n",
    "\n",
    "\n",
    "        # Simulate slice profile along x\n",
    "        M = simulate_slice_profile_x(rf_event; x=x)\n",
    "\n",
    "        # Use M.xy directly (complex: Mx + iMy)\n",
    "        Mxy = M.xy\n",
    "\n",
    "        # # Integrate across x and compute magnitude\n",
    "        integral_Mxy = sum(Mxy) * Δx\n",
    "        magnitude_integral = abs(integral_Mxy)\n",
    "\n",
    "        α_rad = asin(clamp(magnitude_integral / slice_thickness, -1.0, 1.0))\n",
    "        α_deg = α_rad * 180 / π\n",
    "\n",
    "        push!(fa_degrees, α_deg)\n",
    "        push!(rf_indices, i)\n",
    "\n",
    "\n",
    "\n",
    "\n",
    "\n",
    "\n",
    "\n",
    "        # # Print comparison\n",
    "        # println(\"Bloch result (|∫ Mxy dx|): \", round(magnitude_integral, sigdigits=5))\n",
    "        \n",
    "\n",
    "        # actual_fa_rad = asin(clamp(magnitude_integral / slice_thickness, -1.0, 1.0))\n",
    "        # actual_fa_deg = actual_fa_rad * 180 / π\n",
    "        # println(\"Actual FA from Bloch: \", round(actual_fa_deg, digits=2), \"°\")\n",
    "\n",
    "    end\n",
    "\n",
    "end\n",
    "\n"
   ]
  },
  {
   "cell_type": "code",
   "execution_count": 8,
   "id": "b60bacf2",
   "metadata": {},
   "outputs": [
    {
     "data": {
      "image/png": "[encoded data removed]",
      "image/svg+xml": [
       "<?xml version=\"1.0\" encoding=\"utf-8\"?>\n",
       "<svg xmlns=\"http://www.w3.org/2000/svg\" xmlns:xlink=\"http://www.w3.org/1999/xlink\" width=\"600\" height=\"400\" viewBox=\"0 0 2400 1600\">\n",
       "<defs>\n",
       "  <clipPath id=\"clip960\">\n",
       "    <rect x=\"0\" y=\"0\" width=\"2400\" height=\"1600\"/>\n",
       "  </clipPath>\n",
       "</defs>\n",
       "<path clip-path=\"url(#clip960)\" d=\"M0 1600 L2400 1600 L2400 0 L0 0  Z\" fill=\"#ffffff\" fill-rule=\"evenodd\" fill-opacity=\"1\"/>\n",
       "<defs>\n",
       "  <clipPath id=\"clip961\">\n",
       "    <rect x=\"480\" y=\"0\" width=\"1681\" height=\"1600\"/>\n",
       "  </clipPath>\n",
       "</defs>\n",
       "<path clip-path=\"url(#clip960)\" d=\"M203.964 1486.45 L2352.76 1486.45 L2352.76 47.2441 L203.964 47.2441  Z\" fill=\"#ffffff\" fill-rule=\"evenodd\" fill-opacity=\"1\"/>\n",
       "<defs>\n",
       "  <clipPath id=\"clip962\">\n",
       "    <rect x=\"203\" y=\"47\" width=\"2150\" height=\"1440\"/>\n",
       "  </clipPath>\n",
       "</defs>\n",
       "<polyline clip-path=\"url(#clip962)\" style=\"stroke:#000000; stroke-linecap:round; stroke-linejoin:round; stroke-width:2; stroke-opacity:0.1; fill:none\" points=\"262.752,1486.45 262.752,47.2441 \"/>\n",
       "<polyline clip-path=\"url(#clip962)\" style=\"stroke:#000000; stroke-linecap:round; stroke-linejoin:round; stroke-width:2; stroke-opacity:0.1; fill:none\" points=\"769.29,1486.45 769.29,47.2441 \"/>\n",
       "<polyline clip-path=\"url(#clip962)\" style=\"stroke:#000000; stroke-linecap:round; stroke-linejoin:round; stroke-width:2; stroke-opacity:0.1; fill:none\" points=\"1275.83,1486.45 1275.83,47.2441 \"/>\n",
       "<polyline clip-path=\"url(#clip962)\" style=\"stroke:#000000; stroke-linecap:round; stroke-linejoin:round; stroke-width:2; stroke-opacity:0.1; fill:none\" points=\"1782.36,1486.45 1782.36,47.2441 \"/>\n",
       "<polyline clip-path=\"url(#clip962)\" style=\"stroke:#000000; stroke-linecap:round; stroke-linejoin:round; stroke-width:2; stroke-opacity:0.1; fill:none\" points=\"2288.9,1486.45 2288.9,47.2441 \"/>\n",
       "<polyline clip-path=\"url(#clip962)\" style=\"stroke:#000000; stroke-linecap:round; stroke-linejoin:round; stroke-width:2; stroke-opacity:0.1; fill:none\" points=\"203.964,1447.25 2352.76,1447.25 \"/>\n",
       "<polyline clip-path=\"url(#clip962)\" style=\"stroke:#000000; stroke-linecap:round; stroke-linejoin:round; stroke-width:2; stroke-opacity:0.1; fill:none\" points=\"203.964,1190.87 2352.76,1190.87 \"/>\n",
       "<polyline clip-path=\"url(#clip962)\" style=\"stroke:#000000; stroke-linecap:round; stroke-linejoin:round; stroke-width:2; stroke-opacity:0.1; fill:none\" points=\"203.964,934.49 2352.76,934.49 \"/>\n",
       "<polyline clip-path=\"url(#clip962)\" style=\"stroke:#000000; stroke-linecap:round; stroke-linejoin:round; stroke-width:2; stroke-opacity:0.1; fill:none\" points=\"203.964,678.109 2352.76,678.109 \"/>\n",
       "<polyline clip-path=\"url(#clip962)\" style=\"stroke:#000000; stroke-linecap:round; stroke-linejoin:round; stroke-width:2; stroke-opacity:0.1; fill:none\" points=\"203.964,421.728 2352.76,421.728 \"/>\n",
       "<polyline clip-path=\"url(#clip962)\" style=\"stroke:#000000; stroke-linecap:round; stroke-linejoin:round; stroke-width:2; stroke-opacity:0.1; fill:none\" points=\"203.964,165.347 2352.76,165.347 \"/>\n",
       "<polyline clip-path=\"url(#clip960)\" style=\"stroke:#000000; stroke-linecap:round; stroke-linejoin:round; stroke-width:4; stroke-opacity:1; fill:none\" points=\"203.964,1486.45 2352.76,1486.45 \"/>\n",
       "<polyline clip-path=\"url(#clip960)\" style=\"stroke:#000000; stroke-linecap:round; stroke-linejoin:round; stroke-width:4; stroke-opacity:1; fill:none\" points=\"262.752,1486.45 262.752,1467.55 \"/>\n",
       "<polyline clip-path=\"url(#clip960)\" style=\"stroke:#000000; stroke-linecap:round; stroke-linejoin:round; stroke-width:4; stroke-opacity:1; fill:none\" points=\"769.29,1486.45 769.29,1467.55 \"/>\n",
       "<polyline clip-path=\"url(#clip960)\" style=\"stroke:#000000; stroke-linecap:round; stroke-linejoin:round; stroke-width:4; stroke-opacity:1; fill:none\" points=\"1275.83,1486.45 1275.83,1467.55 \"/>\n",
       "<polyline clip-path=\"url(#clip960)\" style=\"stroke:#000000; stroke-linecap:round; stroke-linejoin:round; stroke-width:4; stroke-opacity:1; fill:none\" points=\"1782.36,1486.45 1782.36,1467.55 \"/>\n",
       "<polyline clip-path=\"url(#clip960)\" style=\"stroke:#000000; stroke-linecap:round; stroke-linejoin:round; stroke-width:4; stroke-opacity:1; fill:none\" points=\"2288.9,1486.45 2288.9,1467.55 \"/>\n",
       "<path clip-path=\"url(#clip960)\" d=\"M262.752 1517.37 Q259.141 1517.37 257.313 1520.93 Q255.507 1524.47 255.507 1531.6 Q255.507 1538.71 257.313 1542.27 Q259.141 1545.82 262.752 1545.82 Q266.387 1545.82 268.192 1542.27 Q270.021 1538.71 270.021 1531.6 Q270.021 1524.47 268.192 1520.93 Q266.387 1517.37 262.752 1517.37 M262.752 1513.66 Q268.562 1513.66 271.618 1518.27 Q274.697 1522.85 274.697 1531.6 Q274.697 1540.33 271.618 1544.94 Q268.562 1549.52 262.752 1549.52 Q256.942 1549.52 253.863 1544.94 Q250.808 1540.33 250.808 1531.6 Q250.808 1522.85 253.863 1518.27 Q256.942 1513.66 262.752 1513.66 Z\" fill=\"#000000\" fill-rule=\"nonzero\" fill-opacity=\"1\" /><path clip-path=\"url(#clip960)\" d=\"M728.908 1514.29 L747.264 1514.29 L747.264 1518.22 L733.19 1518.22 L733.19 1526.7 Q734.209 1526.35 735.227 1526.19 Q736.246 1526 737.264 1526 Q743.051 1526 746.431 1529.17 Q749.811 1532.34 749.811 1537.76 Q749.811 1543.34 746.338 1546.44 Q742.866 1549.52 736.547 1549.52 Q734.371 1549.52 732.102 1549.15 Q729.857 1548.78 727.45 1548.04 L727.45 1543.34 Q729.533 1544.47 731.755 1545.03 Q733.977 1545.58 736.454 1545.58 Q740.459 1545.58 742.797 1543.48 Q745.135 1541.37 745.135 1537.76 Q745.135 1534.15 742.797 1532.04 Q740.459 1529.94 736.454 1529.94 Q734.579 1529.94 732.704 1530.35 Q730.852 1530.77 728.908 1531.65 L728.908 1514.29 Z\" fill=\"#000000\" fill-rule=\"nonzero\" fill-opacity=\"1\" /><path clip-path=\"url(#clip960)\" d=\"M769.023 1517.37 Q765.412 1517.37 763.584 1520.93 Q761.778 1524.47 761.778 1531.6 Q761.778 1538.71 763.584 1542.27 Q765.412 1545.82 769.023 1545.82 Q772.658 1545.82 774.463 1542.27 Q776.292 1538.71 776.292 1531.6 Q776.292 1524.47 774.463 1520.93 Q772.658 1517.37 769.023 1517.37 M769.023 1513.66 Q774.834 1513.66 777.889 1518.27 Q780.968 1522.85 780.968 1531.6 Q780.968 1540.33 777.889 1544.94 Q774.834 1549.52 769.023 1549.52 Q763.213 1549.52 760.135 1544.94 Q757.079 1540.33 757.079 1531.6 Q757.079 1522.85 760.135 1518.27 Q763.213 1513.66 769.023 1513.66 Z\" fill=\"#000000\" fill-rule=\"nonzero\" fill-opacity=\"1\" /><path clip-path=\"url(#clip960)\" d=\"M799.185 1517.37 Q795.574 1517.37 793.746 1520.93 Q791.94 1524.47 791.94 1531.6 Q791.94 1538.71 793.746 1542.27 Q795.574 1545.82 799.185 1545.82 Q802.82 1545.82 804.625 1542.27 Q806.454 1538.71 806.454 1531.6 Q806.454 1524.47 804.625 1520.93 Q802.82 1517.37 799.185 1517.37 M799.185 1513.66 Q804.996 1513.66 808.051 1518.27 Q811.13 1522.85 811.13 1531.6 Q811.13 1540.33 808.051 1544.94 Q804.996 1549.52 799.185 1549.52 Q793.375 1549.52 790.297 1544.94 Q787.241 1540.33 787.241 1531.6 Q787.241 1522.85 790.297 1518.27 Q793.375 1513.66 799.185 1513.66 Z\" fill=\"#000000\" fill-rule=\"nonzero\" fill-opacity=\"1\" /><path clip-path=\"url(#clip960)\" d=\"M1220.35 1544.91 L1227.99 1544.91 L1227.99 1518.55 L1219.68 1520.21 L1219.68 1515.95 L1227.95 1514.29 L1232.62 1514.29 L1232.62 1544.91 L1240.26 1544.91 L1240.26 1548.85 L1220.35 1548.85 L1220.35 1544.91 Z\" fill=\"#000000\" fill-rule=\"nonzero\" fill-opacity=\"1\" /><path clip-path=\"url(#clip960)\" d=\"M1259.7 1517.37 Q1256.09 1517.37 1254.26 1520.93 Q1252.46 1524.47 1252.46 1531.6 Q1252.46 1538.71 1254.26 1542.27 Q1256.09 1545.82 1259.7 1545.82 Q1263.34 1545.82 1265.14 1542.27 Q1266.97 1538.71 1266.97 1531.6 Q1266.97 1524.47 1265.14 1520.93 Q1263.34 1517.37 1259.7 1517.37 M1259.7 1513.66 Q1265.51 1513.66 1268.57 1518.27 Q1271.65 1522.85 1271.65 1531.6 Q1271.65 1540.33 1268.57 1544.94 Q1265.51 1549.52 1259.7 1549.52 Q1253.89 1549.52 1250.82 1544.94 Q1247.76 1540.33 1247.76 1531.6 Q1247.76 1522.85 1250.82 1518.27 Q1253.89 1513.66 1259.7 1513.66 Z\" fill=\"#000000\" fill-rule=\"nonzero\" fill-opacity=\"1\" /><path clip-path=\"url(#clip960)\" d=\"M1289.87 1517.37 Q1286.26 1517.37 1284.43 1520.93 Q1282.62 1524.47 1282.62 1531.6 Q1282.62 1538.71 1284.43 1542.27 Q1286.26 1545.82 1289.87 1545.82 Q1293.5 1545.82 1295.31 1542.27 Q1297.13 1538.71 1297.13 1531.6 Q1297.13 1524.47 1295.31 1520.93 Q1293.5 1517.37 1289.87 1517.37 M1289.87 1513.66 Q1295.68 1513.66 1298.73 1518.27 Q1301.81 1522.85 1301.81 1531.6 Q1301.81 1540.33 1298.73 1544.94 Q1295.68 1549.52 1289.87 1549.52 Q1284.06 1549.52 1280.98 1544.94 Q1277.92 1540.33 1277.92 1531.6 Q1277.92 1522.85 1280.98 1518.27 Q1284.06 1513.66 1289.87 1513.66 Z\" fill=\"#000000\" fill-rule=\"nonzero\" fill-opacity=\"1\" /><path clip-path=\"url(#clip960)\" d=\"M1320.03 1517.37 Q1316.42 1517.37 1314.59 1520.93 Q1312.78 1524.47 1312.78 1531.6 Q1312.78 1538.71 1314.59 1542.27 Q1316.42 1545.82 1320.03 1545.82 Q1323.66 1545.82 1325.47 1542.27 Q1327.3 1538.71 1327.3 1531.6 Q1327.3 1524.47 1325.47 1520.93 Q1323.66 1517.37 1320.03 1517.37 M1320.03 1513.66 Q1325.84 1513.66 1328.89 1518.27 Q1331.97 1522.85 1331.97 1531.6 Q1331.97 1540.33 1328.89 1544.94 Q1325.84 1549.52 1320.03 1549.52 Q1314.22 1549.52 1311.14 1544.94 Q1308.08 1540.33 1308.08 1531.6 Q1308.08 1522.85 1311.14 1518.27 Q1314.22 1513.66 1320.03 1513.66 Z\" fill=\"#000000\" fill-rule=\"nonzero\" fill-opacity=\"1\" /><path clip-path=\"url(#clip960)\" d=\"M1726.89 1544.91 L1734.53 1544.91 L1734.53 1518.55 L1726.22 1520.21 L1726.22 1515.95 L1734.48 1514.29 L1739.16 1514.29 L1739.16 1544.91 L1746.8 1544.91 L1746.8 1548.85 L1726.89 1548.85 L1726.89 1544.91 Z\" fill=\"#000000\" fill-rule=\"nonzero\" fill-opacity=\"1\" /><path clip-path=\"url(#clip960)\" d=\"M1756.29 1514.29 L1774.64 1514.29 L1774.64 1518.22 L1760.57 1518.22 L1760.57 1526.7 Q1761.59 1526.35 1762.61 1526.19 Q1763.63 1526 1764.64 1526 Q1770.43 1526 1773.81 1529.17 Q1777.19 1532.34 1777.19 1537.76 Q1777.19 1543.34 1773.72 1546.44 Q1770.25 1549.52 1763.93 1549.52 Q1761.75 1549.52 1759.48 1549.15 Q1757.24 1548.78 1754.83 1548.04 L1754.83 1543.34 Q1756.91 1544.47 1759.14 1545.03 Q1761.36 1545.58 1763.83 1545.58 Q1767.84 1545.58 1770.18 1543.48 Q1772.51 1541.37 1772.51 1537.76 Q1772.51 1534.15 1770.18 1532.04 Q1767.84 1529.94 1763.83 1529.94 Q1761.96 1529.94 1760.08 1530.35 Q1758.23 1530.77 1756.29 1531.65 L1756.29 1514.29 Z\" fill=\"#000000\" fill-rule=\"nonzero\" fill-opacity=\"1\" /><path clip-path=\"url(#clip960)\" d=\"M1796.4 1517.37 Q1792.79 1517.37 1790.96 1520.93 Q1789.16 1524.47 1789.16 1531.6 Q1789.16 1538.71 1790.96 1542.27 Q1792.79 1545.82 1796.4 1545.82 Q1800.04 1545.82 1801.84 1542.27 Q1803.67 1538.71 1803.67 1531.6 Q1803.67 1524.47 1801.84 1520.93 Q1800.04 1517.37 1796.4 1517.37 M1796.4 1513.66 Q1802.21 1513.66 1805.27 1518.27 Q1808.35 1522.85 1808.35 1531.6 Q1808.35 1540.33 1805.27 1544.94 Q1802.21 1549.52 1796.4 1549.52 Q1790.59 1549.52 1787.51 1544.94 Q1784.46 1540.33 1784.46 1531.6 Q1784.46 1522.85 1787.51 1518.27 Q1790.59 1513.66 1796.4 1513.66 Z\" fill=\"#000000\" fill-rule=\"nonzero\" fill-opacity=\"1\" /><path clip-path=\"url(#clip960)\" d=\"M1826.57 1517.37 Q1822.95 1517.37 1821.13 1520.93 Q1819.32 1524.47 1819.32 1531.6 Q1819.32 1538.71 1821.13 1542.27 Q1822.95 1545.82 1826.57 1545.82 Q1830.2 1545.82 1832.01 1542.27 Q1833.83 1538.71 1833.83 1531.6 Q1833.83 1524.47 1832.01 1520.93 Q1830.2 1517.37 1826.57 1517.37 M1826.57 1513.66 Q1832.38 1513.66 1835.43 1518.27 Q1838.51 1522.85 1838.51 1531.6 Q1838.51 1540.33 1835.43 1544.94 Q1832.38 1549.52 1826.57 1549.52 Q1820.76 1549.52 1817.68 1544.94 Q1814.62 1540.33 1814.62 1531.6 Q1814.62 1522.85 1817.68 1518.27 Q1820.76 1513.66 1826.57 1513.66 Z\" fill=\"#000000\" fill-rule=\"nonzero\" fill-opacity=\"1\" /><path clip-path=\"url(#clip960)\" d=\"M2237.51 1544.91 L2253.83 1544.91 L2253.83 1548.85 L2231.89 1548.85 L2231.89 1544.91 Q2234.55 1542.16 2239.13 1537.53 Q2243.74 1532.88 2244.92 1531.53 Q2247.17 1529.01 2248.05 1527.27 Q2248.95 1525.51 2248.95 1523.82 Q2248.95 1521.07 2247 1519.33 Q2245.08 1517.6 2241.98 1517.6 Q2239.78 1517.6 2237.33 1518.36 Q2234.9 1519.13 2232.12 1520.68 L2232.12 1515.95 Q2234.94 1514.82 2237.4 1514.24 Q2239.85 1513.66 2241.89 1513.66 Q2247.26 1513.66 2250.45 1516.35 Q2253.65 1519.03 2253.65 1523.52 Q2253.65 1525.65 2252.84 1527.57 Q2252.05 1529.47 2249.94 1532.07 Q2249.36 1532.74 2246.26 1535.95 Q2243.16 1539.15 2237.51 1544.91 Z\" fill=\"#000000\" fill-rule=\"nonzero\" fill-opacity=\"1\" /><path clip-path=\"url(#clip960)\" d=\"M2273.65 1517.37 Q2270.04 1517.37 2268.21 1520.93 Q2266.4 1524.47 2266.4 1531.6 Q2266.4 1538.71 2268.21 1542.27 Q2270.04 1545.82 2273.65 1545.82 Q2277.28 1545.82 2279.09 1542.27 Q2280.92 1538.71 2280.92 1531.6 Q2280.92 1524.47 2279.09 1520.93 Q2277.28 1517.37 2273.65 1517.37 M2273.65 1513.66 Q2279.46 1513.66 2282.51 1518.27 Q2285.59 1522.85 2285.59 1531.6 Q2285.59 1540.33 2282.51 1544.94 Q2279.46 1549.52 2273.65 1549.52 Q2267.84 1549.52 2264.76 1544.94 Q2261.7 1540.33 2261.7 1531.6 Q2261.7 1522.85 2264.76 1518.27 Q2267.84 1513.66 2273.65 1513.66 Z\" fill=\"#000000\" fill-rule=\"nonzero\" fill-opacity=\"1\" /><path clip-path=\"url(#clip960)\" d=\"M2303.81 1517.37 Q2300.2 1517.37 2298.37 1520.93 Q2296.56 1524.47 2296.56 1531.6 Q2296.56 1538.71 2298.37 1542.27 Q2300.2 1545.82 2303.81 1545.82 Q2307.44 1545.82 2309.25 1542.27 Q2311.08 1538.71 2311.08 1531.6 Q2311.08 1524.47 2309.25 1520.93 Q2307.44 1517.37 2303.81 1517.37 M2303.81 1513.66 Q2309.62 1513.66 2312.67 1518.27 Q2315.75 1522.85 2315.75 1531.6 Q2315.75 1540.33 2312.67 1544.94 Q2309.62 1549.52 2303.81 1549.52 Q2298 1549.52 2294.92 1544.94 Q2291.86 1540.33 2291.86 1531.6 Q2291.86 1522.85 2294.92 1518.27 Q2298 1513.66 2303.81 1513.66 Z\" fill=\"#000000\" fill-rule=\"nonzero\" fill-opacity=\"1\" /><path clip-path=\"url(#clip960)\" d=\"M2333.97 1517.37 Q2330.36 1517.37 2328.53 1520.93 Q2326.73 1524.47 2326.73 1531.6 Q2326.73 1538.71 2328.53 1542.27 Q2330.36 1545.82 2333.97 1545.82 Q2337.61 1545.82 2339.41 1542.27 Q2341.24 1538.71 2341.24 1531.6 Q2341.24 1524.47 2339.41 1520.93 Q2337.61 1517.37 2333.97 1517.37 M2333.97 1513.66 Q2339.78 1513.66 2342.84 1518.27 Q2345.92 1522.85 2345.92 1531.6 Q2345.92 1540.33 2342.84 1544.94 Q2339.78 1549.52 2333.97 1549.52 Q2328.16 1549.52 2325.08 1544.94 Q2322.03 1540.33 2322.03 1531.6 Q2322.03 1522.85 2325.08 1518.27 Q2328.16 1513.66 2333.97 1513.66 Z\" fill=\"#000000\" fill-rule=\"nonzero\" fill-opacity=\"1\" /><polyline clip-path=\"url(#clip960)\" style=\"stroke:#000000; stroke-linecap:round; stroke-linejoin:round; stroke-width:4; stroke-opacity:1; fill:none\" points=\"203.964,1486.45 203.964,47.2441 \"/>\n",
       "<polyline clip-path=\"url(#clip960)\" style=\"stroke:#000000; stroke-linecap:round; stroke-linejoin:round; stroke-width:4; stroke-opacity:1; fill:none\" points=\"203.964,1447.25 222.861,1447.25 \"/>\n",
       "<polyline clip-path=\"url(#clip960)\" style=\"stroke:#000000; stroke-linecap:round; stroke-linejoin:round; stroke-width:4; stroke-opacity:1; fill:none\" points=\"203.964,1190.87 222.861,1190.87 \"/>\n",
       "<polyline clip-path=\"url(#clip960)\" style=\"stroke:#000000; stroke-linecap:round; stroke-linejoin:round; stroke-width:4; stroke-opacity:1; fill:none\" points=\"203.964,934.49 222.861,934.49 \"/>\n",
       "<polyline clip-path=\"url(#clip960)\" style=\"stroke:#000000; stroke-linecap:round; stroke-linejoin:round; stroke-width:4; stroke-opacity:1; fill:none\" points=\"203.964,678.109 222.861,678.109 \"/>\n",
       "<polyline clip-path=\"url(#clip960)\" style=\"stroke:#000000; stroke-linecap:round; stroke-linejoin:round; stroke-width:4; stroke-opacity:1; fill:none\" points=\"203.964,421.728 222.861,421.728 \"/>\n",
       "<polyline clip-path=\"url(#clip960)\" style=\"stroke:#000000; stroke-linecap:round; stroke-linejoin:round; stroke-width:4; stroke-opacity:1; fill:none\" points=\"203.964,165.347 222.861,165.347 \"/>\n",
       "<path clip-path=\"url(#clip960)\" d=\"M156.019 1433.05 Q152.408 1433.05 150.579 1436.62 Q148.774 1440.16 148.774 1447.29 Q148.774 1454.39 150.579 1457.96 Q152.408 1461.5 156.019 1461.5 Q159.653 1461.5 161.459 1457.96 Q163.288 1454.39 163.288 1447.29 Q163.288 1440.16 161.459 1436.62 Q159.653 1433.05 156.019 1433.05 M156.019 1429.35 Q161.829 1429.35 164.885 1433.95 Q167.964 1438.54 167.964 1447.29 Q167.964 1456.01 164.885 1460.62 Q161.829 1465.2 156.019 1465.2 Q150.209 1465.2 147.13 1460.62 Q144.075 1456.01 144.075 1447.29 Q144.075 1438.54 147.13 1433.95 Q150.209 1429.35 156.019 1429.35 Z\" fill=\"#000000\" fill-rule=\"nonzero\" fill-opacity=\"1\" /><path clip-path=\"url(#clip960)\" d=\"M147.061 1173.59 L165.417 1173.59 L165.417 1177.53 L151.343 1177.53 L151.343 1186 Q152.362 1185.65 153.38 1185.49 Q154.399 1185.3 155.417 1185.3 Q161.204 1185.3 164.584 1188.48 Q167.964 1191.65 167.964 1197.06 Q167.964 1202.64 164.491 1205.74 Q161.019 1208.82 154.7 1208.82 Q152.524 1208.82 150.255 1208.45 Q148.01 1208.08 145.603 1207.34 L145.603 1202.64 Q147.686 1203.78 149.908 1204.33 Q152.13 1204.89 154.607 1204.89 Q158.612 1204.89 160.95 1202.78 Q163.288 1200.67 163.288 1197.06 Q163.288 1193.45 160.95 1191.35 Q158.612 1189.24 154.607 1189.24 Q152.732 1189.24 150.857 1189.66 Q149.005 1190.07 147.061 1190.95 L147.061 1173.59 Z\" fill=\"#000000\" fill-rule=\"nonzero\" fill-opacity=\"1\" /><path clip-path=\"url(#clip960)\" d=\"M116.668 947.835 L124.306 947.835 L124.306 921.469 L115.996 923.136 L115.996 918.877 L124.26 917.21 L128.936 917.21 L128.936 947.835 L136.575 947.835 L136.575 951.77 L116.668 951.77 L116.668 947.835 Z\" fill=\"#000000\" fill-rule=\"nonzero\" fill-opacity=\"1\" /><path clip-path=\"url(#clip960)\" d=\"M156.019 920.289 Q152.408 920.289 150.579 923.853 Q148.774 927.395 148.774 934.525 Q148.774 941.631 150.579 945.196 Q152.408 948.738 156.019 948.738 Q159.653 948.738 161.459 945.196 Q163.288 941.631 163.288 934.525 Q163.288 927.395 161.459 923.853 Q159.653 920.289 156.019 920.289 M156.019 916.585 Q161.829 916.585 164.885 921.191 Q167.964 925.775 167.964 934.525 Q167.964 943.252 164.885 947.858 Q161.829 952.441 156.019 952.441 Q150.209 952.441 147.13 947.858 Q144.075 943.252 144.075 934.525 Q144.075 925.775 147.13 921.191 Q150.209 916.585 156.019 916.585 Z\" fill=\"#000000\" fill-rule=\"nonzero\" fill-opacity=\"1\" /><path clip-path=\"url(#clip960)\" d=\"M117.663 691.454 L125.302 691.454 L125.302 665.088 L116.992 666.755 L116.992 662.496 L125.255 660.829 L129.931 660.829 L129.931 691.454 L137.57 691.454 L137.57 695.389 L117.663 695.389 L117.663 691.454 Z\" fill=\"#000000\" fill-rule=\"nonzero\" fill-opacity=\"1\" /><path clip-path=\"url(#clip960)\" d=\"M147.061 660.829 L165.417 660.829 L165.417 664.764 L151.343 664.764 L151.343 673.236 Q152.362 672.889 153.38 672.727 Q154.399 672.542 155.417 672.542 Q161.204 672.542 164.584 675.713 Q167.964 678.884 167.964 684.301 Q167.964 689.88 164.491 692.982 Q161.019 696.06 154.7 696.06 Q152.524 696.06 150.255 695.69 Q148.01 695.32 145.603 694.579 L145.603 689.88 Q147.686 691.014 149.908 691.57 Q152.13 692.125 154.607 692.125 Q158.612 692.125 160.95 690.019 Q163.288 687.912 163.288 684.301 Q163.288 680.69 160.95 678.584 Q158.612 676.477 154.607 676.477 Q152.732 676.477 150.857 676.894 Q149.005 677.31 147.061 678.19 L147.061 660.829 Z\" fill=\"#000000\" fill-rule=\"nonzero\" fill-opacity=\"1\" /><path clip-path=\"url(#clip960)\" d=\"M119.885 435.073 L136.204 435.073 L136.204 439.008 L114.26 439.008 L114.26 435.073 Q116.922 432.318 121.505 427.689 Q126.112 423.036 127.292 421.693 Q129.538 419.17 130.417 417.434 Q131.32 415.675 131.32 413.985 Q131.32 411.23 129.376 409.494 Q127.455 407.758 124.353 407.758 Q122.154 407.758 119.7 408.522 Q117.269 409.286 114.492 410.837 L114.492 406.115 Q117.316 404.98 119.769 404.402 Q122.223 403.823 124.26 403.823 Q129.63 403.823 132.825 406.508 Q136.019 409.193 136.019 413.684 Q136.019 415.814 135.209 417.735 Q134.422 419.633 132.316 422.226 Q131.737 422.897 128.635 426.115 Q125.533 429.309 119.885 435.073 Z\" fill=\"#000000\" fill-rule=\"nonzero\" fill-opacity=\"1\" /><path clip-path=\"url(#clip960)\" d=\"M156.019 407.527 Q152.408 407.527 150.579 411.091 Q148.774 414.633 148.774 421.763 Q148.774 428.869 150.579 432.434 Q152.408 435.976 156.019 435.976 Q159.653 435.976 161.459 432.434 Q163.288 428.869 163.288 421.763 Q163.288 414.633 161.459 411.091 Q159.653 407.527 156.019 407.527 M156.019 403.823 Q161.829 403.823 164.885 408.429 Q167.964 413.013 167.964 421.763 Q167.964 430.489 164.885 435.096 Q161.829 439.679 156.019 439.679 Q150.209 439.679 147.13 435.096 Q144.075 430.489 144.075 421.763 Q144.075 413.013 147.13 408.429 Q150.209 403.823 156.019 403.823 Z\" fill=\"#000000\" fill-rule=\"nonzero\" fill-opacity=\"1\" /><path clip-path=\"url(#clip960)\" d=\"M120.88 178.692 L137.2 178.692 L137.2 182.627 L115.256 182.627 L115.256 178.692 Q117.918 175.937 122.501 171.308 Q127.107 166.655 128.288 165.312 Q130.533 162.789 131.413 161.053 Q132.316 159.294 132.316 157.604 Q132.316 154.849 130.371 153.113 Q128.45 151.377 125.348 151.377 Q123.149 151.377 120.695 152.141 Q118.265 152.905 115.487 154.456 L115.487 149.734 Q118.311 148.599 120.765 148.021 Q123.218 147.442 125.255 147.442 Q130.626 147.442 133.82 150.127 Q137.015 152.812 137.015 157.303 Q137.015 159.433 136.204 161.354 Q135.417 163.252 133.311 165.845 Q132.732 166.516 129.63 169.733 Q126.529 172.928 120.88 178.692 Z\" fill=\"#000000\" fill-rule=\"nonzero\" fill-opacity=\"1\" /><path clip-path=\"url(#clip960)\" d=\"M147.061 148.067 L165.417 148.067 L165.417 152.002 L151.343 152.002 L151.343 160.474 Q152.362 160.127 153.38 159.965 Q154.399 159.78 155.417 159.78 Q161.204 159.78 164.584 162.951 Q167.964 166.122 167.964 171.539 Q167.964 177.118 164.491 180.22 Q161.019 183.298 154.7 183.298 Q152.524 183.298 150.255 182.928 Q148.01 182.557 145.603 181.817 L145.603 177.118 Q147.686 178.252 149.908 178.808 Q152.13 179.363 154.607 179.363 Q158.612 179.363 160.95 177.257 Q163.288 175.15 163.288 171.539 Q163.288 167.928 160.95 165.821 Q158.612 163.715 154.607 163.715 Q152.732 163.715 150.857 164.132 Q149.005 164.548 147.061 165.428 L147.061 148.067 Z\" fill=\"#000000\" fill-rule=\"nonzero\" fill-opacity=\"1\" /><path clip-path=\"url(#clip960)\" d=\"M16.4842 973.588 L16.4842 946.279 L21.895 946.279 L21.895 967.159 L35.8996 967.159 L35.8996 948.316 L41.3104 948.316 L41.3104 967.159 L64.0042 967.159 L64.0042 973.588 L16.4842 973.588 Z\" fill=\"#000000\" fill-rule=\"nonzero\" fill-opacity=\"1\" /><path clip-path=\"url(#clip960)\" d=\"M14.479 936.349 L14.479 930.492 L64.0042 930.492 L64.0042 936.349 L14.479 936.349 Z\" fill=\"#000000\" fill-rule=\"nonzero\" fill-opacity=\"1\" /><path clip-path=\"url(#clip960)\" d=\"M28.3562 918.238 L28.3562 912.382 L64.0042 912.382 L64.0042 918.238 L28.3562 918.238 M14.479 918.238 L14.479 912.382 L21.895 912.382 L21.895 918.238 L14.479 918.238 Z\" fill=\"#000000\" fill-rule=\"nonzero\" fill-opacity=\"1\" /><path clip-path=\"url(#clip960)\" d=\"M58.657 894.462 L77.5631 894.462 L77.5631 900.351 L28.3562 900.351 L28.3562 894.462 L33.7671 894.462 Q30.5842 892.616 29.0564 889.816 Q27.4968 886.983 27.4968 883.068 Q27.4968 876.575 32.6531 872.533 Q37.8093 868.459 46.212 868.459 Q54.6147 868.459 59.771 872.533 Q64.9272 876.575 64.9272 883.068 Q64.9272 886.983 63.3994 889.816 Q61.8398 892.616 58.657 894.462 M46.212 874.538 Q39.7508 874.538 36.0905 877.211 Q32.3984 879.853 32.3984 884.5 Q32.3984 889.147 36.0905 891.821 Q39.7508 894.462 46.212 894.462 Q52.6732 894.462 56.3653 891.821 Q60.0256 889.147 60.0256 884.5 Q60.0256 879.853 56.3653 877.211 Q52.6732 874.538 46.212 874.538 Z\" fill=\"#000000\" fill-rule=\"nonzero\" fill-opacity=\"1\" /><path clip-path=\"url(#clip960)\" d=\"M22.818 821.893 L46.4666 830.614 L46.4666 813.141 L22.818 821.893 M16.4842 825.522 L16.4842 818.233 L64.0042 800.123 L64.0042 806.807 L51.8138 811.135 L51.8138 832.556 L64.0042 836.885 L64.0042 843.664 L16.4842 825.522 Z\" fill=\"#000000\" fill-rule=\"nonzero\" fill-opacity=\"1\" /><path clip-path=\"url(#clip960)\" d=\"M42.4881 763.806 L64.0042 763.806 L64.0042 769.663 L42.679 769.663 Q37.6183 769.663 35.1038 771.636 Q32.5894 773.61 32.5894 777.556 Q32.5894 782.299 35.6131 785.036 Q38.6368 787.773 43.8567 787.773 L64.0042 787.773 L64.0042 793.662 L28.3562 793.662 L28.3562 787.773 L33.8944 787.773 Q30.6797 785.673 29.0883 782.84 Q27.4968 779.975 27.4968 776.251 Q27.4968 770.108 31.3163 766.957 Q35.1038 763.806 42.4881 763.806 Z\" fill=\"#000000\" fill-rule=\"nonzero\" fill-opacity=\"1\" /><path clip-path=\"url(#clip960)\" d=\"M45.7664 728.668 Q39.4007 728.668 35.8996 731.309 Q32.3984 733.919 32.3984 738.662 Q32.3984 743.372 35.8996 746.014 Q39.4007 748.624 45.7664 748.624 Q52.1003 748.624 55.6014 746.014 Q59.1026 743.372 59.1026 738.662 Q59.1026 733.919 55.6014 731.309 Q52.1003 728.668 45.7664 728.668 M59.58 722.811 Q68.683 722.811 73.1071 726.853 Q77.5631 730.896 77.5631 739.235 Q77.5631 742.322 77.0857 745.059 Q76.6401 747.797 75.6852 750.375 L69.9879 750.375 Q71.3884 747.797 72.0568 745.282 Q72.7252 742.768 72.7252 740.158 Q72.7252 734.397 69.7015 731.532 Q66.7096 728.668 60.6303 728.668 L57.7339 728.668 Q60.885 730.482 62.4446 733.315 Q64.0042 736.147 64.0042 740.094 Q64.0042 746.651 59.0071 750.661 Q54.01 754.672 45.7664 754.672 Q37.491 754.672 32.4939 750.661 Q27.4968 746.651 27.4968 740.094 Q27.4968 736.147 29.0564 733.315 Q30.616 730.482 33.7671 728.668 L28.3562 728.668 L28.3562 722.811 L59.58 722.811 Z\" fill=\"#000000\" fill-rule=\"nonzero\" fill-opacity=\"1\" /><path clip-path=\"url(#clip960)\" d=\"M14.479 710.748 L14.479 704.892 L64.0042 704.892 L64.0042 710.748 L14.479 710.748 Z\" fill=\"#000000\" fill-rule=\"nonzero\" fill-opacity=\"1\" /><path clip-path=\"url(#clip960)\" d=\"M44.7161 662.146 L47.5806 662.146 L47.5806 689.073 Q53.6281 688.691 56.8109 685.445 Q59.9619 682.166 59.9619 676.342 Q59.9619 672.968 59.1344 669.817 Q58.3069 666.634 56.6518 663.515 L62.1899 663.515 Q63.5267 666.666 64.227 669.976 Q64.9272 673.286 64.9272 676.692 Q64.9272 685.222 59.9619 690.219 Q54.9967 695.184 46.5303 695.184 Q37.7774 695.184 32.6531 690.473 Q27.4968 685.731 27.4968 677.71 Q27.4968 670.517 32.1438 666.347 Q36.7589 662.146 44.7161 662.146 M42.9973 668.002 Q38.1912 668.066 35.3266 670.708 Q32.4621 673.318 32.4621 677.647 Q32.4621 682.548 35.2312 685.508 Q38.0002 688.436 43.0292 688.882 L42.9973 668.002 Z\" fill=\"#000000\" fill-rule=\"nonzero\" fill-opacity=\"1\" /><path clip-path=\"url(#clip960)\" d=\"M14.5426 617.745 Q21.8632 622.01 29.0246 624.079 Q36.186 626.148 43.5384 626.148 Q50.8908 626.148 58.1159 624.079 Q65.3091 621.978 72.5979 617.745 L72.5979 622.838 Q65.1182 627.612 57.8931 629.999 Q50.668 632.355 43.5384 632.355 Q36.4406 632.355 29.2474 629.999 Q22.0542 627.644 14.5426 622.838 L14.5426 617.745 Z\" fill=\"#000000\" fill-rule=\"nonzero\" fill-opacity=\"1\" /><path clip-path=\"url(#clip960)\" d=\"M19.7307 596.229 Q19.7307 598.775 21.5131 600.526 Q23.2636 602.277 25.8099 602.277 Q28.3244 602.277 30.0749 600.526 Q31.7937 598.775 31.7937 596.229 Q31.7937 593.683 30.0749 591.932 Q28.3244 590.182 25.8099 590.182 Q23.2955 590.182 21.5131 591.964 Q19.7307 593.715 19.7307 596.229 M15.6248 596.229 Q15.6248 594.192 16.4205 592.314 Q17.1844 590.436 18.6485 589.068 Q20.0808 587.604 21.895 586.872 Q23.7092 586.139 25.8099 586.139 Q30.0113 586.139 32.9395 589.1 Q35.8359 592.028 35.8359 596.293 Q35.8359 600.59 32.9713 603.454 Q30.1068 606.319 25.8099 606.319 Q21.5449 606.319 18.5848 603.391 Q15.6248 600.462 15.6248 596.229 Z\" fill=\"#000000\" fill-rule=\"nonzero\" fill-opacity=\"1\" /><path clip-path=\"url(#clip960)\" d=\"M14.5426 574.713 L14.5426 569.62 Q22.0542 564.846 29.2474 562.491 Q36.4406 560.104 43.5384 560.104 Q50.668 560.104 57.8931 562.491 Q65.1182 564.846 72.5979 569.62 L72.5979 574.713 Q65.3091 570.48 58.1159 568.411 Q50.8908 566.31 43.5384 566.31 Q36.186 566.31 29.0246 568.411 Q21.8632 570.48 14.5426 574.713 Z\" fill=\"#000000\" fill-rule=\"nonzero\" fill-opacity=\"1\" /><polyline clip-path=\"url(#clip962)\" style=\"stroke:#009af9; stroke-linecap:round; stroke-linejoin:round; stroke-width:8; stroke-opacity:1; fill:none\" points=\"264.778,1445.72 265.792,1353.74 267.818,1342.47 269.844,1308.68 271.87,1281.37 273.896,1273.35 275.922,1262.12 277.948,1255.7 279.975,1244.49 282.001,1234.88 284.027,1223.68 286.053,1212.5 288.079,1202.91 290.105,1191.74 292.131,1182.18 294.158,1171.03 296.184,1159.89 298.21,1150.36 300.236,1139.25 302.262,1129.73 304.288,1120.23 306.315,1109.16 308.341,1099.68 310.367,1090.21 312.393,1079.18 314.419,1069.73 316.445,1060.3 318.471,1050.89 320.498,1041.48 322.524,1032.09 324.55,1021.15 326.576,1011.79 328.602,1004 330.628,994.663 332.654,985.344 334.681,976.039 336.707,966.749 338.733,959.02 340.759,949.76 342.785,942.057 344.811,932.828 346.838,925.15 348.864,915.953 350.89,908.302 352.916,900.663 354.942,893.038 356.968,885.426 358.994,877.826 361.021,870.241 363.047,862.668 365.073,855.108 367.099,847.562 369.125,841.537 371.151,834.017 373.177,828.012 375.204,820.519 377.23,814.535 379.256,808.561 381.282,801.107 383.308,795.154 385.334,789.211 387.36,784.761 389.387,778.836 391.413,772.921 393.439,767.016 395.465,762.595 397.491,756.709 399.517,752.301 401.544,746.434 403.57,742.04 405.596,737.652 407.622,733.271 409.648,728.897 411.674,724.528 413.7,721.618 415.727,717.26 417.753,714.358 419.779,710.01 421.805,707.115 423.831,704.222 425.857,699.89 427.883,697.005 429.91,695.564 431.936,692.684 433.962,689.806 435.988,686.931 438.014,685.495 440.04,682.625 442.067,681.191 444.093,679.758 446.119,678.326 448.145,676.894 450.171,675.462 452.197,674.032 454.223,672.603 456.25,672.603 458.276,671.174 460.302,671.174 462.328,671.174 464.354,671.174 466.38,671.174 468.406,671.174 470.433,671.174 472.459,671.174 474.485,671.174 476.511,672.603 478.537,672.603 480.563,674.032 482.59,675.462 484.616,676.894 486.642,678.326 488.668,679.758 490.694,681.191 492.72,682.625 494.746,685.495 496.773,686.931 498.799,689.806 500.825,692.684 502.851,695.564 504.877,697.005 506.903,699.89 508.929,704.222 510.956,707.115 512.982,710.01 515.008,714.358 517.034,717.26 519.06,721.618 521.086,724.528 523.113,728.897 525.139,733.271 527.165,737.652 529.191,742.04 531.217,746.434 533.243,752.301 535.269,756.709 537.296,762.595 539.322,767.016 541.348,772.921 543.374,778.836 545.4,784.761 547.426,789.211 549.452,795.154 551.479,801.107 553.505,808.561 555.531,814.535 557.557,820.519 559.583,828.012 561.609,834.017 563.636,841.537 565.662,847.562 567.688,855.108 569.714,862.668 571.74,870.241 573.766,877.826 575.792,885.426 577.819,893.038 579.845,900.663 581.871,908.302 583.897,915.953 585.923,925.15 587.949,932.828 589.975,942.057 592.002,949.76 594.028,959.02 596.054,966.749 598.08,976.039 600.106,985.344 602.132,994.663 604.158,1004 606.185,1011.79 608.211,1021.15 610.237,1032.09 612.263,1041.48 614.289,1050.89 616.315,1060.3 618.342,1069.73 620.368,1079.18 622.394,1090.21 624.42,1099.68 626.446,1109.16 628.472,1120.23 630.498,1129.73 632.525,1139.25 634.551,1150.36 636.577,1159.89 638.603,1171.03 640.629,1182.18 642.655,1191.74 644.681,1202.91 646.708,1212.5 648.734,1223.68 650.76,1234.88 652.786,1244.49 654.812,1255.7 656.838,1266.93 658.865,1278.16 660.891,1287.79 662.917,1299.04 664.943,1310.29 666.969,1319.94 668.995,1331.2 691.283,1318.33 693.309,1303.86 695.335,1289.4 697.361,1276.56 699.388,1262.12 701.414,1249.29 703.44,1236.48 705.466,1222.09 707.492,1209.3 709.518,1194.93 711.544,1182.18 713.571,1167.85 715.597,1155.13 717.623,1142.42 719.649,1128.15 721.675,1115.48 723.701,1102.84 725.727,1090.21 727.754,1077.6 729.78,1063.45 731.806,1050.89 733.832,1038.35 735.858,1025.84 737.884,1013.35 739.911,1000.88 741.937,990.001 743.963,977.588 745.989,965.203 748.015,952.845 750.041,942.057 752.067,929.755 754.094,917.484 756.12,906.773 758.146,896.086 760.172,883.905 762.198,873.273 764.224,862.668 766.25,852.088 768.277,841.537 770.303,831.013 772.329,820.519 774.355,810.054 776.381,801.107 778.407,790.696 780.433,780.316 782.46,771.444 784.486,762.595 786.512,752.301 788.538,743.503 790.564,734.731 792.59,725.984 794.617,717.26 796.643,710.01 798.669,701.333 800.695,692.684 802.721,685.495 804.747,676.894 806.773,669.746 808.8,662.618 810.826,655.51 812.852,648.419 814.878,641.349 816.904,634.298 818.93,628.673 820.956,621.659 822.983,616.062 825.009,609.085 827.035,603.52 829.061,597.966 831.087,592.427 833.113,586.901 835.14,582.765 837.166,577.263 839.192,573.146 841.218,567.669 843.244,563.57 845.27,559.479 847.296,555.397 849.323,551.322 851.349,548.611 853.375,544.55 855.401,541.847 857.427,537.799 859.453,535.106 861.479,532.415 863.506,529.729 865.532,528.388 867.558,525.707 869.584,523.03 871.61,521.693 873.636,520.357 875.663,517.688 877.689,516.355 879.715,516.355 881.741,515.023 883.767,513.691 885.793,513.691 887.819,512.361 889.846,512.361 891.872,512.361 893.898,512.361 895.924,512.361 897.95,513.691 899.976,513.691 902.002,515.023 904.029,516.355 906.055,516.355 908.081,517.688 910.107,520.357 912.133,521.693 914.159,523.03 916.186,525.707 918.212,528.388 920.238,529.729 922.264,532.415 924.29,535.106 926.316,537.799 928.342,541.847 930.369,544.55 932.395,548.611 934.421,551.322 936.447,555.397 938.473,559.479 940.499,563.57 942.525,567.669 944.552,573.146 946.578,577.263 948.604,582.765 950.63,586.901 952.656,592.427 954.682,597.966 956.709,603.52 958.735,609.085 960.761,616.062 962.787,621.659 964.813,628.673 966.839,634.298 968.865,641.349 970.892,648.419 972.918,655.51 974.944,662.618 976.97,669.746 978.996,676.894 981.022,685.495 983.048,692.684 985.075,701.333 987.101,710.01 989.127,717.26 991.153,725.984 993.179,734.731 995.205,743.503 997.231,752.301 999.258,762.595 1001.28,771.444 1003.31,780.316 1005.34,790.696 1007.36,801.107 1009.39,810.054 1011.41,820.519 1013.44,831.013 1015.47,841.537 1017.49,852.088 1019.52,862.668 1021.55,873.273 1023.57,883.905 1025.6,896.086 1027.62,906.773 1029.65,917.484 1031.68,929.755 1033.7,942.057 1035.73,952.845 1037.75,965.203 1039.78,977.588 1041.81,990.001 1043.83,1000.88 1045.86,1013.35 1047.89,1025.84 1049.91,1038.35 1051.94,1050.89 1053.96,1063.45 1055.99,1077.6 1058.02,1090.21 1060.04,1102.84 1062.07,1115.48 1064.09,1128.15 1066.12,1142.42 1068.15,1155.13 1070.17,1167.85 1072.2,1182.18 1074.23,1194.93 1076.25,1209.3 1078.28,1222.09 1080.3,1236.48 1082.33,1249.29 1084.36,1262.12 1086.38,1276.56 1088.41,1289.4 1090.43,1303.86 1092.46,1318.33 1094.49,1331.2 1116.77,1308.68 1118.8,1284.58 1120.83,1260.51 1122.85,1238.08 1124.88,1214.09 1126.91,1191.74 1128.93,1167.85 1130.96,1145.6 1132.98,1121.81 1135.01,1099.68 1137.04,1076.03 1139.06,1054.02 1141.09,1032.09 1143.11,1010.23 1145.14,986.896 1147.17,965.203 1149.19,943.597 1151.22,922.082 1153.25,900.663 1155.27,879.346 1157.3,858.13 1159.32,838.528 1161.35,817.526 1163.38,796.641 1165.4,777.356 1167.43,756.709 1169.45,737.652 1171.48,718.712 1173.51,699.89 1175.53,681.191 1177.56,662.618 1179.58,644.175 1181.61,625.865 1183.64,607.692 1185.66,591.044 1187.69,573.146 1189.72,556.756 1191.74,540.497 1193.77,524.368 1195.79,508.376 1197.82,493.837 1199.85,478.112 1201.87,462.531 1203.9,448.377 1205.92,434.349 1207.95,420.45 1209.98,406.682 1212,393.046 1214.03,380.767 1216.06,368.602 1218.08,355.354 1220.11,343.436 1222.13,331.634 1224.16,319.955 1226.19,309.549 1228.21,299.243 1230.24,287.911 1232.26,277.823 1234.29,267.837 1236.32,259.052 1238.34,249.269 1240.37,240.665 1242.4,232.146 1244.42,223.717 1246.45,215.375 1248.47,208.149 1250.5,199.975 1252.53,192.9 1254.55,185.893 1256.58,179.942 1258.6,173.07 1260.63,167.235 1262.66,161.453 1264.68,155.725 1266.71,150.051 1268.74,145.365 1270.76,139.792 1272.79,135.188 1274.81,130.624 1276.84,127.001 1278.87,122.507 1280.89,118.939 1282.92,115.397 1284.94,112.756 1286.97,109.259 1289,106.652 1291.02,104.06 1293.05,101.481 1295.08,98.9176 1297.1,97.2162 1299.13,95.5216 1301.15,93.8336 1303.18,92.1514 1305.21,91.3141 1307.23,89.6415 1309.26,88.8086 1311.28,87.9763 1313.31,87.9763 1315.34,87.9763 1317.36,87.9763 1319.39,87.9763 1321.42,87.9763 1323.44,87.9763 1325.47,88.8086 1327.49,89.6415 1329.52,91.3141 1331.55,92.1514 1333.57,93.8336 1335.6,95.5216 1337.62,97.2162 1339.65,98.9176 1341.68,101.481 1343.7,104.06 1345.73,106.652 1347.76,109.259 1349.78,112.756 1351.81,115.397 1353.83,118.939 1355.86,122.507 1357.89,127.001 1359.91,130.624 1361.94,135.188 1363.96,139.792 1365.99,145.365 1368.02,150.051 1370.04,155.725 1372.07,161.453 1374.1,167.235 1376.12,173.07 1378.15,179.942 1380.17,185.893 1382.2,192.9 1384.23,199.975 1386.25,208.149 1388.28,215.375 1390.3,223.717 1392.33,232.146 1394.36,240.665 1396.38,249.269 1398.41,259.052 1400.44,267.837 1402.46,277.823 1404.49,287.911 1406.51,299.243 1408.54,309.549 1410.57,319.955 1412.59,331.634 1414.62,343.436 1416.64,355.354 1418.67,368.602 1420.7,380.767 1422.72,393.046 1424.75,406.682 1426.78,420.45 1428.8,434.349 1430.83,448.377 1432.85,462.531 1434.88,478.112 1436.91,493.837 1438.93,508.376 1440.96,524.368 1442.98,540.497 1445.01,556.756 1447.04,573.146 1449.06,591.044 1451.09,607.692 1453.12,625.865 1455.14,644.175 1457.17,662.618 1459.19,681.191 1461.22,699.89 1463.25,718.712 1465.27,737.652 1467.3,756.709 1469.32,777.356 1471.35,796.641 1473.38,817.526 1475.4,838.528 1477.43,858.13 1479.46,879.346 1481.48,900.663 1483.51,922.082 1485.53,943.597 1487.56,965.203 1489.59,986.896 1491.61,1010.23 1493.64,1032.09 1495.66,1054.02 1497.69,1076.03 1499.72,1099.68 1501.74,1121.81 1503.77,1145.6 1505.8,1167.85 1507.82,1191.74 1509.85,1214.09 1511.87,1238.08 1513.9,1260.51 1515.93,1284.58 1517.95,1308.68 1519.98,1331.2 1540.24,1316.72 1542.27,1302.25 1544.29,1287.79 1546.32,1273.35 1548.34,1258.91 1550.37,1244.49 1552.4,1230.08 1554.42,1215.69 1556.45,1201.32 1558.47,1188.55 1560.5,1174.21 1562.53,1159.89 1564.55,1145.6 1566.58,1131.32 1568.61,1118.65 1570.63,1104.42 1572.66,1090.21 1574.68,1077.6 1576.71,1063.45 1578.74,1050.89 1580.76,1036.78 1582.79,1022.71 1584.81,1010.23 1586.84,997.773 1588.87,983.792 1590.89,971.392 1592.92,959.02 1594.95,946.677 1596.97,934.365 1599,922.082 1601.02,909.831 1603.05,897.611 1605.08,885.426 1607.1,873.273 1609.13,862.668 1611.15,850.579 1613.18,838.528 1615.21,828.012 1617.23,816.03 1619.26,805.577 1621.29,795.154 1623.31,784.761 1625.34,774.398 1627.36,764.068 1629.39,753.77 1631.42,743.503 1633.44,733.271 1635.47,724.528 1637.49,714.358 1639.52,705.668 1641.55,697.005 1643.57,686.931 1645.6,678.326 1647.63,671.174 1649.65,662.618 1651.68,654.09 1653.7,645.589 1655.73,637.116 1657.76,630.078 1659.78,623.06 1661.81,614.665 1663.83,609.085 1665.86,600.741 1667.89,595.195 1669.91,588.281 1671.94,581.388 1673.97,575.89 1675.99,569.037 1678.02,563.57 1680.04,558.117 1682.07,552.68 1684.1,547.256 1686.12,541.847 1688.15,537.799 1690.17,532.415 1692.2,528.388 1694.23,524.368 1696.25,519.023 1698.28,516.355 1700.31,512.361 1702.33,508.376 1704.36,504.4 1706.38,501.753 1708.41,499.11 1710.44,495.154 1712.46,492.522 1714.49,489.892 1716.51,488.579 1718.54,485.957 1720.57,484.647 1722.59,482.03 1724.62,480.722 1726.65,479.417 1728.67,478.112 1730.7,476.807 1732.72,476.807 1734.75,475.504 1736.78,475.504 1738.8,475.504 1740.83,475.504 1742.85,475.504 1744.88,475.504 1746.91,475.504 1748.93,476.807 1750.96,476.807 1752.99,478.112 1755.01,479.417 1757.04,480.722 1759.06,482.03 1761.09,484.647 1763.12,485.957 1765.14,488.579 1767.17,489.892 1769.19,492.522 1771.22,495.154 1773.25,499.11 1775.27,501.753 1777.3,504.4 1779.33,508.376 1781.35,512.361 1783.38,516.355 1785.4,519.023 1787.43,524.368 1789.46,528.388 1791.48,532.415 1793.51,537.799 1795.53,541.847 1797.56,547.256 1799.59,552.68 1801.61,558.117 1803.64,563.57 1805.67,569.037 1807.69,575.89 1809.72,581.388 1811.74,588.281 1813.77,595.195 1815.8,600.741 1817.82,609.085 1819.85,614.665 1821.87,623.06 1823.9,630.078 1825.93,637.116 1827.95,645.589 1829.98,654.09 1832.01,662.618 1834.03,671.174 1836.06,678.326 1838.08,686.931 1840.11,697.005 1842.14,705.668 1844.16,714.358 1846.19,724.528 1848.21,733.271 1850.24,743.503 1852.27,753.77 1854.29,764.068 1856.32,774.398 1858.35,784.761 1860.37,795.154 1862.4,805.577 1864.42,816.03 1866.45,828.012 1868.48,838.528 1870.5,850.579 1872.53,862.668 1874.55,873.273 1876.58,885.426 1878.61,897.611 1880.63,909.831 1882.66,922.082 1884.68,934.365 1886.71,946.677 1888.74,959.02 1890.76,971.392 1892.79,983.792 1894.82,997.773 1896.84,1010.23 1898.87,1022.71 1900.89,1036.78 1902.92,1050.89 1904.95,1063.45 1906.97,1077.6 1909,1090.21 1911.02,1104.42 1913.05,1118.65 1915.08,1131.32 1917.1,1145.6 1919.13,1159.89 1921.16,1174.21 1923.18,1188.55 1925.21,1201.32 1927.23,1215.69 1929.26,1230.08 1931.29,1244.49 1933.31,1258.91 1935.34,1273.35 1937.36,1287.79 1939.39,1302.25 1941.42,1316.72 1943.44,1331.2 1967.76,1323.16 1969.78,1315.12 1971.81,1307.08 1973.84,1299.04 1975.86,1291.01 1977.89,1282.98 1979.91,1276.56 1981.94,1268.53 1983.97,1260.51 1985.99,1252.5 1988.02,1244.49 1990.04,1236.48 1992.07,1228.48 1994.1,1220.49 1996.12,1214.09 1998.15,1206.11 2000.18,1198.12 2002.2,1190.15 2004.23,1183.77 2006.25,1175.81 2008.28,1167.85 2010.31,1161.48 2012.33,1153.54 2014.36,1145.6 2016.38,1139.25 2018.41,1131.32 2020.44,1124.98 2022.46,1117.07 2024.49,1110.74 2026.52,1102.84 2028.54,1096.52 2030.57,1090.21 2032.59,1082.33 2034.62,1076.03 2036.65,1069.73 2038.67,1063.45 2040.7,1057.16 2042.72,1049.32 2044.75,1043.05 2046.78,1036.78 2048.8,1030.52 2050.83,1025.84 2052.86,1018.03 2054.88,1013.35 2056.91,1007.11 2058.93,1000.88 2060.96,996.218 2062.99,990.001 2065.01,983.792 2067.04,979.139 2069.06,972.94 2071.09,968.296 2073.12,963.656 2075.14,957.475 2077.17,952.845 2079.2,948.218 2081.22,943.597 2083.25,938.979 2085.27,934.365 2087.3,929.755 2089.33,925.15 2091.35,920.549 2093.38,915.953 2095.4,912.891 2097.43,908.302 2099.46,903.716 2101.48,900.663 2103.51,897.611 2105.54,893.038 2107.56,889.992 2109.59,886.947 2111.61,883.905 2113.64,880.865 2115.67,877.826 2117.69,874.791 2119.72,871.757 2121.74,868.725 2123.77,865.695 2125.8,864.181 2127.82,861.155 2129.85,859.642 2131.88,856.619 2133.9,855.108 2135.93,853.598 2137.95,852.088 2139.98,849.071 2142.01,847.562 2144.03,846.056 2146.06,844.549 2148.08,844.549 2150.11,843.043 2152.14,841.537 2154.16,841.537 2156.19,840.032 2158.22,840.032 2160.24,838.528 2162.27,838.528 2164.29,838.528 2166.32,838.528 2168.35,838.528 2170.37,838.528 2172.4,838.528 2174.42,838.528 2176.45,838.528 2178.48,840.032 2180.5,840.032 2182.53,841.537 2184.56,841.537 2186.58,843.043 2188.61,844.549 2190.63,844.549 2192.66,846.056 2194.69,847.562 2196.71,849.071 2198.74,852.088 2200.76,853.598 2202.79,855.108 2204.82,856.619 2206.84,859.642 2208.87,861.155 2210.9,864.181 2212.92,865.695 2214.95,868.725 2216.97,871.757 2219,874.791 2221.03,877.826 2223.05,880.865 2225.08,883.905 2227.1,886.947 2229.13,889.992 2231.16,893.038 2233.18,897.611 2235.21,900.663 2237.23,903.716 2239.26,908.302 2241.29,912.891 2243.31,915.953 2245.34,920.549 2247.37,925.15 2249.39,929.755 2251.42,934.365 2253.44,938.979 2255.47,943.597 2257.5,948.218 2259.52,952.845 2261.55,957.475 2263.57,963.656 2265.6,968.296 2267.63,972.94 2269.65,979.139 2271.68,983.792 2273.71,990.001 2275.73,996.218 2277.76,1000.88 2279.78,1007.11 2281.81,1013.35 2283.84,1018.03 2285.86,1025.84 2287.89,1030.52 2289.91,1036.78 2291.94,1445.72 \"/>\n",
       "<path clip-path=\"url(#clip960)\" d=\"M2013.82 198.898 L2281.13 198.898 L2281.13 95.2176 L2013.82 95.2176  Z\" fill=\"#ffffff\" fill-rule=\"evenodd\" fill-opacity=\"1\"/>\n",
       "<polyline clip-path=\"url(#clip960)\" style=\"stroke:#000000; stroke-linecap:round; stroke-linejoin:round; stroke-width:4; stroke-opacity:1; fill:none\" points=\"2013.82,198.898 2281.13,198.898 2281.13,95.2176 2013.82,95.2176 2013.82,198.898 \"/>\n",
       "<polyline clip-path=\"url(#clip960)\" style=\"stroke:#009af9; stroke-linecap:round; stroke-linejoin:round; stroke-width:8; stroke-opacity:1; fill:none\" points=\"2037.7,147.058 2180.95,147.058 \"/>\n",
       "<path clip-path=\"url(#clip960)\" d=\"M2218.67 166.745 Q2216.86 171.375 2215.15 172.787 Q2213.43 174.199 2210.56 174.199 L2207.16 174.199 L2207.16 170.634 L2209.66 170.634 Q2211.42 170.634 2212.39 169.8 Q2213.37 168.967 2214.55 165.865 L2215.31 163.921 L2204.82 138.412 L2209.34 138.412 L2217.44 158.689 L2225.54 138.412 L2230.06 138.412 L2218.67 166.745 Z\" fill=\"#000000\" fill-rule=\"nonzero\" fill-opacity=\"1\" /><path clip-path=\"url(#clip960)\" d=\"M2237.35 160.402 L2244.99 160.402 L2244.99 134.037 L2236.68 135.703 L2236.68 131.444 L2244.94 129.778 L2249.62 129.778 L2249.62 160.402 L2257.25 160.402 L2257.25 164.338 L2237.35 164.338 L2237.35 160.402 Z\" fill=\"#000000\" fill-rule=\"nonzero\" fill-opacity=\"1\" /></svg>\n"
      ],
      "text/html": [
       "<?xml version=\"1.0\" encoding=\"utf-8\"?>\n",
       "<svg xmlns=\"http://www.w3.org/2000/svg\" xmlns:xlink=\"http://www.w3.org/1999/xlink\" width=\"600\" height=\"400\" viewBox=\"0 0 2400 1600\">\n",
       "<defs>\n",
       "  <clipPath id=\"clip010\">\n",
       "    <rect x=\"0\" y=\"0\" width=\"2400\" height=\"1600\"/>\n",
       "  </clipPath>\n",
       "</defs>\n",
       "<path clip-path=\"url(#clip010)\" d=\"M0 1600 L2400 1600 L2400 0 L0 0  Z\" fill=\"#ffffff\" fill-rule=\"evenodd\" fill-opacity=\"1\"/>\n",
       "<defs>\n",
       "  <clipPath id=\"clip011\">\n",
       "    <rect x=\"480\" y=\"0\" width=\"1681\" height=\"1600\"/>\n",
       "  </clipPath>\n",
       "</defs>\n",
       "<path clip-path=\"url(#clip010)\" d=\"M203.964 1486.45 L2352.76 1486.45 L2352.76 47.2441 L203.964 47.2441  Z\" fill=\"#ffffff\" fill-rule=\"evenodd\" fill-opacity=\"1\"/>\n",
       "<defs>\n",
       "  <clipPath id=\"clip012\">\n",
       "    <rect x=\"203\" y=\"47\" width=\"2150\" height=\"1440\"/>\n",
       "  </clipPath>\n",
       "</defs>\n",
       "<polyline clip-path=\"url(#clip012)\" style=\"stroke:#000000; stroke-linecap:round; stroke-linejoin:round; stroke-width:2; stroke-opacity:0.1; fill:none\" points=\"262.752,1486.45 262.752,47.2441 \"/>\n",
       "<polyline clip-path=\"url(#clip012)\" style=\"stroke:#000000; stroke-linecap:round; stroke-linejoin:round; stroke-width:2; stroke-opacity:0.1; fill:none\" points=\"769.29,1486.45 769.29,47.2441 \"/>\n",
       "<polyline clip-path=\"url(#clip012)\" style=\"stroke:#000000; stroke-linecap:round; stroke-linejoin:round; stroke-width:2; stroke-opacity:0.1; fill:none\" points=\"1275.83,1486.45 1275.83,47.2441 \"/>\n",
       "<polyline clip-path=\"url(#clip012)\" style=\"stroke:#000000; stroke-linecap:round; stroke-linejoin:round; stroke-width:2; stroke-opacity:0.1; fill:none\" points=\"1782.36,1486.45 1782.36,47.2441 \"/>\n",
       "<polyline clip-path=\"url(#clip012)\" style=\"stroke:#000000; stroke-linecap:round; stroke-linejoin:round; stroke-width:2; stroke-opacity:0.1; fill:none\" points=\"2288.9,1486.45 2288.9,47.2441 \"/>\n",
       "<polyline clip-path=\"url(#clip012)\" style=\"stroke:#000000; stroke-linecap:round; stroke-linejoin:round; stroke-width:2; stroke-opacity:0.1; fill:none\" points=\"203.964,1447.25 2352.76,1447.25 \"/>\n",
       "<polyline clip-path=\"url(#clip012)\" style=\"stroke:#000000; stroke-linecap:round; stroke-linejoin:round; stroke-width:2; stroke-opacity:0.1; fill:none\" points=\"203.964,1190.87 2352.76,1190.87 \"/>\n",
       "<polyline clip-path=\"url(#clip012)\" style=\"stroke:#000000; stroke-linecap:round; stroke-linejoin:round; stroke-width:2; stroke-opacity:0.1; fill:none\" points=\"203.964,934.49 2352.76,934.49 \"/>\n",
       "<polyline clip-path=\"url(#clip012)\" style=\"stroke:#000000; stroke-linecap:round; stroke-linejoin:round; stroke-width:2; stroke-opacity:0.1; fill:none\" points=\"203.964,678.109 2352.76,678.109 \"/>\n",
       "<polyline clip-path=\"url(#clip012)\" style=\"stroke:#000000; stroke-linecap:round; stroke-linejoin:round; stroke-width:2; stroke-opacity:0.1; fill:none\" points=\"203.964,421.728 2352.76,421.728 \"/>\n",
       "<polyline clip-path=\"url(#clip012)\" style=\"stroke:#000000; stroke-linecap:round; stroke-linejoin:round; stroke-width:2; stroke-opacity:0.1; fill:none\" points=\"203.964,165.347 2352.76,165.347 \"/>\n",
       "<polyline clip-path=\"url(#clip010)\" style=\"stroke:#000000; stroke-linecap:round; stroke-linejoin:round; stroke-width:4; stroke-opacity:1; fill:none\" points=\"203.964,1486.45 2352.76,1486.45 \"/>\n",
       "<polyline clip-path=\"url(#clip010)\" style=\"stroke:#000000; stroke-linecap:round; stroke-linejoin:round; stroke-width:4; stroke-opacity:1; fill:none\" points=\"262.752,1486.45 262.752,1467.55 \"/>\n",
       "<polyline clip-path=\"url(#clip010)\" style=\"stroke:#000000; stroke-linecap:round; stroke-linejoin:round; stroke-width:4; stroke-opacity:1; fill:none\" points=\"769.29,1486.45 769.29,1467.55 \"/>\n",
       "<polyline clip-path=\"url(#clip010)\" style=\"stroke:#000000; stroke-linecap:round; stroke-linejoin:round; stroke-width:4; stroke-opacity:1; fill:none\" points=\"1275.83,1486.45 1275.83,1467.55 \"/>\n",
       "<polyline clip-path=\"url(#clip010)\" style=\"stroke:#000000; stroke-linecap:round; stroke-linejoin:round; stroke-width:4; stroke-opacity:1; fill:none\" points=\"1782.36,1486.45 1782.36,1467.55 \"/>\n",
       "<polyline clip-path=\"url(#clip010)\" style=\"stroke:#000000; stroke-linecap:round; stroke-linejoin:round; stroke-width:4; stroke-opacity:1; fill:none\" points=\"2288.9,1486.45 2288.9,1467.55 \"/>\n",
       "<path clip-path=\"url(#clip010)\" d=\"M262.752 1517.37 Q259.141 1517.37 257.313 1520.93 Q255.507 1524.47 255.507 1531.6 Q255.507 1538.71 257.313 1542.27 Q259.141 1545.82 262.752 1545.82 Q266.387 1545.82 268.192 1542.27 Q270.021 1538.71 270.021 1531.6 Q270.021 1524.47 268.192 1520.93 Q266.387 1517.37 262.752 1517.37 M262.752 1513.66 Q268.562 1513.66 271.618 1518.27 Q274.697 1522.85 274.697 1531.6 Q274.697 1540.33 271.618 1544.94 Q268.562 1549.52 262.752 1549.52 Q256.942 1549.52 253.863 1544.94 Q250.808 1540.33 250.808 1531.6 Q250.808 1522.85 253.863 1518.27 Q256.942 1513.66 262.752 1513.66 Z\" fill=\"#000000\" fill-rule=\"nonzero\" fill-opacity=\"1\" /><path clip-path=\"url(#clip010)\" d=\"M728.908 1514.29 L747.264 1514.29 L747.264 1518.22 L733.19 1518.22 L733.19 1526.7 Q734.209 1526.35 735.227 1526.19 Q736.246 1526 737.264 1526 Q743.051 1526 746.431 1529.17 Q749.811 1532.34 749.811 1537.76 Q749.811 1543.34 746.338 1546.44 Q742.866 1549.52 736.547 1549.52 Q734.371 1549.52 732.102 1549.15 Q729.857 1548.78 727.45 1548.04 L727.45 1543.34 Q729.533 1544.47 731.755 1545.03 Q733.977 1545.58 736.454 1545.58 Q740.459 1545.58 742.797 1543.48 Q745.135 1541.37 745.135 1537.76 Q745.135 1534.15 742.797 1532.04 Q740.459 1529.94 736.454 1529.94 Q734.579 1529.94 732.704 1530.35 Q730.852 1530.77 728.908 1531.65 L728.908 1514.29 Z\" fill=\"#000000\" fill-rule=\"nonzero\" fill-opacity=\"1\" /><path clip-path=\"url(#clip010)\" d=\"M769.023 1517.37 Q765.412 1517.37 763.584 1520.93 Q761.778 1524.47 761.778 1531.6 Q761.778 1538.71 763.584 1542.27 Q765.412 1545.82 769.023 1545.82 Q772.658 1545.82 774.463 1542.27 Q776.292 1538.71 776.292 1531.6 Q776.292 1524.47 774.463 1520.93 Q772.658 1517.37 769.023 1517.37 M769.023 1513.66 Q774.834 1513.66 777.889 1518.27 Q780.968 1522.85 780.968 1531.6 Q780.968 1540.33 777.889 1544.94 Q774.834 1549.52 769.023 1549.52 Q763.213 1549.52 760.135 1544.94 Q757.079 1540.33 757.079 1531.6 Q757.079 1522.85 760.135 1518.27 Q763.213 1513.66 769.023 1513.66 Z\" fill=\"#000000\" fill-rule=\"nonzero\" fill-opacity=\"1\" /><path clip-path=\"url(#clip010)\" d=\"M799.185 1517.37 Q795.574 1517.37 793.746 1520.93 Q791.94 1524.47 791.94 1531.6 Q791.94 1538.71 793.746 1542.27 Q795.574 1545.82 799.185 1545.82 Q802.82 1545.82 804.625 1542.27 Q806.454 1538.71 806.454 1531.6 Q806.454 1524.47 804.625 1520.93 Q802.82 1517.37 799.185 1517.37 M799.185 1513.66 Q804.996 1513.66 808.051 1518.27 Q811.13 1522.85 811.13 1531.6 Q811.13 1540.33 808.051 1544.94 Q804.996 1549.52 799.185 1549.52 Q793.375 1549.52 790.297 1544.94 Q787.241 1540.33 787.241 1531.6 Q787.241 1522.85 790.297 1518.27 Q793.375 1513.66 799.185 1513.66 Z\" fill=\"#000000\" fill-rule=\"nonzero\" fill-opacity=\"1\" /><path clip-path=\"url(#clip010)\" d=\"M1220.35 1544.91 L1227.99 1544.91 L1227.99 1518.55 L1219.68 1520.21 L1219.68 1515.95 L1227.95 1514.29 L1232.62 1514.29 L1232.62 1544.91 L1240.26 1544.91 L1240.26 1548.85 L1220.35 1548.85 L1220.35 1544.91 Z\" fill=\"#000000\" fill-rule=\"nonzero\" fill-opacity=\"1\" /><path clip-path=\"url(#clip010)\" d=\"M1259.7 1517.37 Q1256.09 1517.37 1254.26 1520.93 Q1252.46 1524.47 1252.46 1531.6 Q1252.46 1538.71 1254.26 1542.27 Q1256.09 1545.82 1259.7 1545.82 Q1263.34 1545.82 1265.14 1542.27 Q1266.97 1538.71 1266.97 1531.6 Q1266.97 1524.47 1265.14 1520.93 Q1263.34 1517.37 1259.7 1517.37 M1259.7 1513.66 Q1265.51 1513.66 1268.57 1518.27 Q1271.65 1522.85 1271.65 1531.6 Q1271.65 1540.33 1268.57 1544.94 Q1265.51 1549.52 1259.7 1549.52 Q1253.89 1549.52 1250.82 1544.94 Q1247.76 1540.33 1247.76 1531.6 Q1247.76 1522.85 1250.82 1518.27 Q1253.89 1513.66 1259.7 1513.66 Z\" fill=\"#000000\" fill-rule=\"nonzero\" fill-opacity=\"1\" /><path clip-path=\"url(#clip010)\" d=\"M1289.87 1517.37 Q1286.26 1517.37 1284.43 1520.93 Q1282.62 1524.47 1282.62 1531.6 Q1282.62 1538.71 1284.43 1542.27 Q1286.26 1545.82 1289.87 1545.82 Q1293.5 1545.82 1295.31 1542.27 Q1297.13 1538.71 1297.13 1531.6 Q1297.13 1524.47 1295.31 1520.93 Q1293.5 1517.37 1289.87 1517.37 M1289.87 1513.66 Q1295.68 1513.66 1298.73 1518.27 Q1301.81 1522.85 1301.81 1531.6 Q1301.81 1540.33 1298.73 1544.94 Q1295.68 1549.52 1289.87 1549.52 Q1284.06 1549.52 1280.98 1544.94 Q1277.92 1540.33 1277.92 1531.6 Q1277.92 1522.85 1280.98 1518.27 Q1284.06 1513.66 1289.87 1513.66 Z\" fill=\"#000000\" fill-rule=\"nonzero\" fill-opacity=\"1\" /><path clip-path=\"url(#clip010)\" d=\"M1320.03 1517.37 Q1316.42 1517.37 1314.59 1520.93 Q1312.78 1524.47 1312.78 1531.6 Q1312.78 1538.71 1314.59 1542.27 Q1316.42 1545.82 1320.03 1545.82 Q1323.66 1545.82 1325.47 1542.27 Q1327.3 1538.71 1327.3 1531.6 Q1327.3 1524.47 1325.47 1520.93 Q1323.66 1517.37 1320.03 1517.37 M1320.03 1513.66 Q1325.84 1513.66 1328.89 1518.27 Q1331.97 1522.85 1331.97 1531.6 Q1331.97 1540.33 1328.89 1544.94 Q1325.84 1549.52 1320.03 1549.52 Q1314.22 1549.52 1311.14 1544.94 Q1308.08 1540.33 1308.08 1531.6 Q1308.08 1522.85 1311.14 1518.27 Q1314.22 1513.66 1320.03 1513.66 Z\" fill=\"#000000\" fill-rule=\"nonzero\" fill-opacity=\"1\" /><path clip-path=\"url(#clip010)\" d=\"M1726.89 1544.91 L1734.53 1544.91 L1734.53 1518.55 L1726.22 1520.21 L1726.22 1515.95 L1734.48 1514.29 L1739.16 1514.29 L1739.16 1544.91 L1746.8 1544.91 L1746.8 1548.85 L1726.89 1548.85 L1726.89 1544.91 Z\" fill=\"#000000\" fill-rule=\"nonzero\" fill-opacity=\"1\" /><path clip-path=\"url(#clip010)\" d=\"M1756.29 1514.29 L1774.64 1514.29 L1774.64 1518.22 L1760.57 1518.22 L1760.57 1526.7 Q1761.59 1526.35 1762.61 1526.19 Q1763.63 1526 1764.64 1526 Q1770.43 1526 1773.81 1529.17 Q1777.19 1532.34 1777.19 1537.76 Q1777.19 1543.34 1773.72 1546.44 Q1770.25 1549.52 1763.93 1549.52 Q1761.75 1549.52 1759.48 1549.15 Q1757.24 1548.78 1754.83 1548.04 L1754.83 1543.34 Q1756.91 1544.47 1759.14 1545.03 Q1761.36 1545.58 1763.83 1545.58 Q1767.84 1545.58 1770.18 1543.48 Q1772.51 1541.37 1772.51 1537.76 Q1772.51 1534.15 1770.18 1532.04 Q1767.84 1529.94 1763.83 1529.94 Q1761.96 1529.94 1760.08 1530.35 Q1758.23 1530.77 1756.29 1531.65 L1756.29 1514.29 Z\" fill=\"#000000\" fill-rule=\"nonzero\" fill-opacity=\"1\" /><path clip-path=\"url(#clip010)\" d=\"M1796.4 1517.37 Q1792.79 1517.37 1790.96 1520.93 Q1789.16 1524.47 1789.16 1531.6 Q1789.16 1538.71 1790.96 1542.27 Q1792.79 1545.82 1796.4 1545.82 Q1800.04 1545.82 1801.84 1542.27 Q1803.67 1538.71 1803.67 1531.6 Q1803.67 1524.47 1801.84 1520.93 Q1800.04 1517.37 1796.4 1517.37 M1796.4 1513.66 Q1802.21 1513.66 1805.27 1518.27 Q1808.35 1522.85 1808.35 1531.6 Q1808.35 1540.33 1805.27 1544.94 Q1802.21 1549.52 1796.4 1549.52 Q1790.59 1549.52 1787.51 1544.94 Q1784.46 1540.33 1784.46 1531.6 Q1784.46 1522.85 1787.51 1518.27 Q1790.59 1513.66 1796.4 1513.66 Z\" fill=\"#000000\" fill-rule=\"nonzero\" fill-opacity=\"1\" /><path clip-path=\"url(#clip010)\" d=\"M1826.57 1517.37 Q1822.95 1517.37 1821.13 1520.93 Q1819.32 1524.47 1819.32 1531.6 Q1819.32 1538.71 1821.13 1542.27 Q1822.95 1545.82 1826.57 1545.82 Q1830.2 1545.82 1832.01 1542.27 Q1833.83 1538.71 1833.83 1531.6 Q1833.83 1524.47 1832.01 1520.93 Q1830.2 1517.37 1826.57 1517.37 M1826.57 1513.66 Q1832.38 1513.66 1835.43 1518.27 Q1838.51 1522.85 1838.51 1531.6 Q1838.51 1540.33 1835.43 1544.94 Q1832.38 1549.52 1826.57 1549.52 Q1820.76 1549.52 1817.68 1544.94 Q1814.62 1540.33 1814.62 1531.6 Q1814.62 1522.85 1817.68 1518.27 Q1820.76 1513.66 1826.57 1513.66 Z\" fill=\"#000000\" fill-rule=\"nonzero\" fill-opacity=\"1\" /><path clip-path=\"url(#clip010)\" d=\"M2237.51 1544.91 L2253.83 1544.91 L2253.83 1548.85 L2231.89 1548.85 L2231.89 1544.91 Q2234.55 1542.16 2239.13 1537.53 Q2243.74 1532.88 2244.92 1531.53 Q2247.17 1529.01 2248.05 1527.27 Q2248.95 1525.51 2248.95 1523.82 Q2248.95 1521.07 2247 1519.33 Q2245.08 1517.6 2241.98 1517.6 Q2239.78 1517.6 2237.33 1518.36 Q2234.9 1519.13 2232.12 1520.68 L2232.12 1515.95 Q2234.94 1514.82 2237.4 1514.24 Q2239.85 1513.66 2241.89 1513.66 Q2247.26 1513.66 2250.45 1516.35 Q2253.65 1519.03 2253.65 1523.52 Q2253.65 1525.65 2252.84 1527.57 Q2252.05 1529.47 2249.94 1532.07 Q2249.36 1532.74 2246.26 1535.95 Q2243.16 1539.15 2237.51 1544.91 Z\" fill=\"#000000\" fill-rule=\"nonzero\" fill-opacity=\"1\" /><path clip-path=\"url(#clip010)\" d=\"M2273.65 1517.37 Q2270.04 1517.37 2268.21 1520.93 Q2266.4 1524.47 2266.4 1531.6 Q2266.4 1538.71 2268.21 1542.27 Q2270.04 1545.82 2273.65 1545.82 Q2277.28 1545.82 2279.09 1542.27 Q2280.92 1538.71 2280.92 1531.6 Q2280.92 1524.47 2279.09 1520.93 Q2277.28 1517.37 2273.65 1517.37 M2273.65 1513.66 Q2279.46 1513.66 2282.51 1518.27 Q2285.59 1522.85 2285.59 1531.6 Q2285.59 1540.33 2282.51 1544.94 Q2279.46 1549.52 2273.65 1549.52 Q2267.84 1549.52 2264.76 1544.94 Q2261.7 1540.33 2261.7 1531.6 Q2261.7 1522.85 2264.76 1518.27 Q2267.84 1513.66 2273.65 1513.66 Z\" fill=\"#000000\" fill-rule=\"nonzero\" fill-opacity=\"1\" /><path clip-path=\"url(#clip010)\" d=\"M2303.81 1517.37 Q2300.2 1517.37 2298.37 1520.93 Q2296.56 1524.47 2296.56 1531.6 Q2296.56 1538.71 2298.37 1542.27 Q2300.2 1545.82 2303.81 1545.82 Q2307.44 1545.82 2309.25 1542.27 Q2311.08 1538.71 2311.08 1531.6 Q2311.08 1524.47 2309.25 1520.93 Q2307.44 1517.37 2303.81 1517.37 M2303.81 1513.66 Q2309.62 1513.66 2312.67 1518.27 Q2315.75 1522.85 2315.75 1531.6 Q2315.75 1540.33 2312.67 1544.94 Q2309.62 1549.52 2303.81 1549.52 Q2298 1549.52 2294.92 1544.94 Q2291.86 1540.33 2291.86 1531.6 Q2291.86 1522.85 2294.92 1518.27 Q2298 1513.66 2303.81 1513.66 Z\" fill=\"#000000\" fill-rule=\"nonzero\" fill-opacity=\"1\" /><path clip-path=\"url(#clip010)\" d=\"M2333.97 1517.37 Q2330.36 1517.37 2328.53 1520.93 Q2326.73 1524.47 2326.73 1531.6 Q2326.73 1538.71 2328.53 1542.27 Q2330.36 1545.82 2333.97 1545.82 Q2337.61 1545.82 2339.41 1542.27 Q2341.24 1538.71 2341.24 1531.6 Q2341.24 1524.47 2339.41 1520.93 Q2337.61 1517.37 2333.97 1517.37 M2333.97 1513.66 Q2339.78 1513.66 2342.84 1518.27 Q2345.92 1522.85 2345.92 1531.6 Q2345.92 1540.33 2342.84 1544.94 Q2339.78 1549.52 2333.97 1549.52 Q2328.16 1549.52 2325.08 1544.94 Q2322.03 1540.33 2322.03 1531.6 Q2322.03 1522.85 2325.08 1518.27 Q2328.16 1513.66 2333.97 1513.66 Z\" fill=\"#000000\" fill-rule=\"nonzero\" fill-opacity=\"1\" /><polyline clip-path=\"url(#clip010)\" style=\"stroke:#000000; stroke-linecap:round; stroke-linejoin:round; stroke-width:4; stroke-opacity:1; fill:none\" points=\"203.964,1486.45 203.964,47.2441 \"/>\n",
       "<polyline clip-path=\"url(#clip010)\" style=\"stroke:#000000; stroke-linecap:round; stroke-linejoin:round; stroke-width:4; stroke-opacity:1; fill:none\" points=\"203.964,1447.25 222.861,1447.25 \"/>\n",
       "<polyline clip-path=\"url(#clip010)\" style=\"stroke:#000000; stroke-linecap:round; stroke-linejoin:round; stroke-width:4; stroke-opacity:1; fill:none\" points=\"203.964,1190.87 222.861,1190.87 \"/>\n",
       "<polyline clip-path=\"url(#clip010)\" style=\"stroke:#000000; stroke-linecap:round; stroke-linejoin:round; stroke-width:4; stroke-opacity:1; fill:none\" points=\"203.964,934.49 222.861,934.49 \"/>\n",
       "<polyline clip-path=\"url(#clip010)\" style=\"stroke:#000000; stroke-linecap:round; stroke-linejoin:round; stroke-width:4; stroke-opacity:1; fill:none\" points=\"203.964,678.109 222.861,678.109 \"/>\n",
       "<polyline clip-path=\"url(#clip010)\" style=\"stroke:#000000; stroke-linecap:round; stroke-linejoin:round; stroke-width:4; stroke-opacity:1; fill:none\" points=\"203.964,421.728 222.861,421.728 \"/>\n",
       "<polyline clip-path=\"url(#clip010)\" style=\"stroke:#000000; stroke-linecap:round; stroke-linejoin:round; stroke-width:4; stroke-opacity:1; fill:none\" points=\"203.964,165.347 222.861,165.347 \"/>\n",
       "<path clip-path=\"url(#clip010)\" d=\"M156.019 1433.05 Q152.408 1433.05 150.579 1436.62 Q148.774 1440.16 148.774 1447.29 Q148.774 1454.39 150.579 1457.96 Q152.408 1461.5 156.019 1461.5 Q159.653 1461.5 161.459 1457.96 Q163.288 1454.39 163.288 1447.29 Q163.288 1440.16 161.459 1436.62 Q159.653 1433.05 156.019 1433.05 M156.019 1429.35 Q161.829 1429.35 164.885 1433.95 Q167.964 1438.54 167.964 1447.29 Q167.964 1456.01 164.885 1460.62 Q161.829 1465.2 156.019 1465.2 Q150.209 1465.2 147.13 1460.62 Q144.075 1456.01 144.075 1447.29 Q144.075 1438.54 147.13 1433.95 Q150.209 1429.35 156.019 1429.35 Z\" fill=\"#000000\" fill-rule=\"nonzero\" fill-opacity=\"1\" /><path clip-path=\"url(#clip010)\" d=\"M147.061 1173.59 L165.417 1173.59 L165.417 1177.53 L151.343 1177.53 L151.343 1186 Q152.362 1185.65 153.38 1185.49 Q154.399 1185.3 155.417 1185.3 Q161.204 1185.3 164.584 1188.48 Q167.964 1191.65 167.964 1197.06 Q167.964 1202.64 164.491 1205.74 Q161.019 1208.82 154.7 1208.82 Q152.524 1208.82 150.255 1208.45 Q148.01 1208.08 145.603 1207.34 L145.603 1202.64 Q147.686 1203.78 149.908 1204.33 Q152.13 1204.89 154.607 1204.89 Q158.612 1204.89 160.95 1202.78 Q163.288 1200.67 163.288 1197.06 Q163.288 1193.45 160.95 1191.35 Q158.612 1189.24 154.607 1189.24 Q152.732 1189.24 150.857 1189.66 Q149.005 1190.07 147.061 1190.95 L147.061 1173.59 Z\" fill=\"#000000\" fill-rule=\"nonzero\" fill-opacity=\"1\" /><path clip-path=\"url(#clip010)\" d=\"M116.668 947.835 L124.306 947.835 L124.306 921.469 L115.996 923.136 L115.996 918.877 L124.26 917.21 L128.936 917.21 L128.936 947.835 L136.575 947.835 L136.575 951.77 L116.668 951.77 L116.668 947.835 Z\" fill=\"#000000\" fill-rule=\"nonzero\" fill-opacity=\"1\" /><path clip-path=\"url(#clip010)\" d=\"M156.019 920.289 Q152.408 920.289 150.579 923.853 Q148.774 927.395 148.774 934.525 Q148.774 941.631 150.579 945.196 Q152.408 948.738 156.019 948.738 Q159.653 948.738 161.459 945.196 Q163.288 941.631 163.288 934.525 Q163.288 927.395 161.459 923.853 Q159.653 920.289 156.019 920.289 M156.019 916.585 Q161.829 916.585 164.885 921.191 Q167.964 925.775 167.964 934.525 Q167.964 943.252 164.885 947.858 Q161.829 952.441 156.019 952.441 Q150.209 952.441 147.13 947.858 Q144.075 943.252 144.075 934.525 Q144.075 925.775 147.13 921.191 Q150.209 916.585 156.019 916.585 Z\" fill=\"#000000\" fill-rule=\"nonzero\" fill-opacity=\"1\" /><path clip-path=\"url(#clip010)\" d=\"M117.663 691.454 L125.302 691.454 L125.302 665.088 L116.992 666.755 L116.992 662.496 L125.255 660.829 L129.931 660.829 L129.931 691.454 L137.57 691.454 L137.57 695.389 L117.663 695.389 L117.663 691.454 Z\" fill=\"#000000\" fill-rule=\"nonzero\" fill-opacity=\"1\" /><path clip-path=\"url(#clip010)\" d=\"M147.061 660.829 L165.417 660.829 L165.417 664.764 L151.343 664.764 L151.343 673.236 Q152.362 672.889 153.38 672.727 Q154.399 672.542 155.417 672.542 Q161.204 672.542 164.584 675.713 Q167.964 678.884 167.964 684.301 Q167.964 689.88 164.491 692.982 Q161.019 696.06 154.7 696.06 Q152.524 696.06 150.255 695.69 Q148.01 695.32 145.603 694.579 L145.603 689.88 Q147.686 691.014 149.908 691.57 Q152.13 692.125 154.607 692.125 Q158.612 692.125 160.95 690.019 Q163.288 687.912 163.288 684.301 Q163.288 680.69 160.95 678.584 Q158.612 676.477 154.607 676.477 Q152.732 676.477 150.857 676.894 Q149.005 677.31 147.061 678.19 L147.061 660.829 Z\" fill=\"#000000\" fill-rule=\"nonzero\" fill-opacity=\"1\" /><path clip-path=\"url(#clip010)\" d=\"M119.885 435.073 L136.204 435.073 L136.204 439.008 L114.26 439.008 L114.26 435.073 Q116.922 432.318 121.505 427.689 Q126.112 423.036 127.292 421.693 Q129.538 419.17 130.417 417.434 Q131.32 415.675 131.32 413.985 Q131.32 411.23 129.376 409.494 Q127.455 407.758 124.353 407.758 Q122.154 407.758 119.7 408.522 Q117.269 409.286 114.492 410.837 L114.492 406.115 Q117.316 404.98 119.769 404.402 Q122.223 403.823 124.26 403.823 Q129.63 403.823 132.825 406.508 Q136.019 409.193 136.019 413.684 Q136.019 415.814 135.209 417.735 Q134.422 419.633 132.316 422.226 Q131.737 422.897 128.635 426.115 Q125.533 429.309 119.885 435.073 Z\" fill=\"#000000\" fill-rule=\"nonzero\" fill-opacity=\"1\" /><path clip-path=\"url(#clip010)\" d=\"M156.019 407.527 Q152.408 407.527 150.579 411.091 Q148.774 414.633 148.774 421.763 Q148.774 428.869 150.579 432.434 Q152.408 435.976 156.019 435.976 Q159.653 435.976 161.459 432.434 Q163.288 428.869 163.288 421.763 Q163.288 414.633 161.459 411.091 Q159.653 407.527 156.019 407.527 M156.019 403.823 Q161.829 403.823 164.885 408.429 Q167.964 413.013 167.964 421.763 Q167.964 430.489 164.885 435.096 Q161.829 439.679 156.019 439.679 Q150.209 439.679 147.13 435.096 Q144.075 430.489 144.075 421.763 Q144.075 413.013 147.13 408.429 Q150.209 403.823 156.019 403.823 Z\" fill=\"#000000\" fill-rule=\"nonzero\" fill-opacity=\"1\" /><path clip-path=\"url(#clip010)\" d=\"M120.88 178.692 L137.2 178.692 L137.2 182.627 L115.256 182.627 L115.256 178.692 Q117.918 175.937 122.501 171.308 Q127.107 166.655 128.288 165.312 Q130.533 162.789 131.413 161.053 Q132.316 159.294 132.316 157.604 Q132.316 154.849 130.371 153.113 Q128.45 151.377 125.348 151.377 Q123.149 151.377 120.695 152.141 Q118.265 152.905 115.487 154.456 L115.487 149.734 Q118.311 148.599 120.765 148.021 Q123.218 147.442 125.255 147.442 Q130.626 147.442 133.82 150.127 Q137.015 152.812 137.015 157.303 Q137.015 159.433 136.204 161.354 Q135.417 163.252 133.311 165.845 Q132.732 166.516 129.63 169.733 Q126.529 172.928 120.88 178.692 Z\" fill=\"#000000\" fill-rule=\"nonzero\" fill-opacity=\"1\" /><path clip-path=\"url(#clip010)\" d=\"M147.061 148.067 L165.417 148.067 L165.417 152.002 L151.343 152.002 L151.343 160.474 Q152.362 160.127 153.38 159.965 Q154.399 159.78 155.417 159.78 Q161.204 159.78 164.584 162.951 Q167.964 166.122 167.964 171.539 Q167.964 177.118 164.491 180.22 Q161.019 183.298 154.7 183.298 Q152.524 183.298 150.255 182.928 Q148.01 182.557 145.603 181.817 L145.603 177.118 Q147.686 178.252 149.908 178.808 Q152.13 179.363 154.607 179.363 Q158.612 179.363 160.95 177.257 Q163.288 175.15 163.288 171.539 Q163.288 167.928 160.95 165.821 Q158.612 163.715 154.607 163.715 Q152.732 163.715 150.857 164.132 Q149.005 164.548 147.061 165.428 L147.061 148.067 Z\" fill=\"#000000\" fill-rule=\"nonzero\" fill-opacity=\"1\" /><path clip-path=\"url(#clip010)\" d=\"M16.4842 973.588 L16.4842 946.279 L21.895 946.279 L21.895 967.159 L35.8996 967.159 L35.8996 948.316 L41.3104 948.316 L41.3104 967.159 L64.0042 967.159 L64.0042 973.588 L16.4842 973.588 Z\" fill=\"#000000\" fill-rule=\"nonzero\" fill-opacity=\"1\" /><path clip-path=\"url(#clip010)\" d=\"M14.479 936.349 L14.479 930.492 L64.0042 930.492 L64.0042 936.349 L14.479 936.349 Z\" fill=\"#000000\" fill-rule=\"nonzero\" fill-opacity=\"1\" /><path clip-path=\"url(#clip010)\" d=\"M28.3562 918.238 L28.3562 912.382 L64.0042 912.382 L64.0042 918.238 L28.3562 918.238 M14.479 918.238 L14.479 912.382 L21.895 912.382 L21.895 918.238 L14.479 918.238 Z\" fill=\"#000000\" fill-rule=\"nonzero\" fill-opacity=\"1\" /><path clip-path=\"url(#clip010)\" d=\"M58.657 894.462 L77.5631 894.462 L77.5631 900.351 L28.3562 900.351 L28.3562 894.462 L33.7671 894.462 Q30.5842 892.616 29.0564 889.816 Q27.4968 886.983 27.4968 883.068 Q27.4968 876.575 32.6531 872.533 Q37.8093 868.459 46.212 868.459 Q54.6147 868.459 59.771 872.533 Q64.9272 876.575 64.9272 883.068 Q64.9272 886.983 63.3994 889.816 Q61.8398 892.616 58.657 894.462 M46.212 874.538 Q39.7508 874.538 36.0905 877.211 Q32.3984 879.853 32.3984 884.5 Q32.3984 889.147 36.0905 891.821 Q39.7508 894.462 46.212 894.462 Q52.6732 894.462 56.3653 891.821 Q60.0256 889.147 60.0256 884.5 Q60.0256 879.853 56.3653 877.211 Q52.6732 874.538 46.212 874.538 Z\" fill=\"#000000\" fill-rule=\"nonzero\" fill-opacity=\"1\" /><path clip-path=\"url(#clip010)\" d=\"M22.818 821.893 L46.4666 830.614 L46.4666 813.141 L22.818 821.893 M16.4842 825.522 L16.4842 818.233 L64.0042 800.123 L64.0042 806.807 L51.8138 811.135 L51.8138 832.556 L64.0042 836.885 L64.0042 843.664 L16.4842 825.522 Z\" fill=\"#000000\" fill-rule=\"nonzero\" fill-opacity=\"1\" /><path clip-path=\"url(#clip010)\" d=\"M42.4881 763.806 L64.0042 763.806 L64.0042 769.663 L42.679 769.663 Q37.6183 769.663 35.1038 771.636 Q32.5894 773.61 32.5894 777.556 Q32.5894 782.299 35.6131 785.036 Q38.6368 787.773 43.8567 787.773 L64.0042 787.773 L64.0042 793.662 L28.3562 793.662 L28.3562 787.773 L33.8944 787.773 Q30.6797 785.673 29.0883 782.84 Q27.4968 779.975 27.4968 776.251 Q27.4968 770.108 31.3163 766.957 Q35.1038 763.806 42.4881 763.806 Z\" fill=\"#000000\" fill-rule=\"nonzero\" fill-opacity=\"1\" /><path clip-path=\"url(#clip010)\" d=\"M45.7664 728.668 Q39.4007 728.668 35.8996 731.309 Q32.3984 733.919 32.3984 738.662 Q32.3984 743.372 35.8996 746.014 Q39.4007 748.624 45.7664 748.624 Q52.1003 748.624 55.6014 746.014 Q59.1026 743.372 59.1026 738.662 Q59.1026 733.919 55.6014 731.309 Q52.1003 728.668 45.7664 728.668 M59.58 722.811 Q68.683 722.811 73.1071 726.853 Q77.5631 730.896 77.5631 739.235 Q77.5631 742.322 77.0857 745.059 Q76.6401 747.797 75.6852 750.375 L69.9879 750.375 Q71.3884 747.797 72.0568 745.282 Q72.7252 742.768 72.7252 740.158 Q72.7252 734.397 69.7015 731.532 Q66.7096 728.668 60.6303 728.668 L57.7339 728.668 Q60.885 730.482 62.4446 733.315 Q64.0042 736.147 64.0042 740.094 Q64.0042 746.651 59.0071 750.661 Q54.01 754.672 45.7664 754.672 Q37.491 754.672 32.4939 750.661 Q27.4968 746.651 27.4968 740.094 Q27.4968 736.147 29.0564 733.315 Q30.616 730.482 33.7671 728.668 L28.3562 728.668 L28.3562 722.811 L59.58 722.811 Z\" fill=\"#000000\" fill-rule=\"nonzero\" fill-opacity=\"1\" /><path clip-path=\"url(#clip010)\" d=\"M14.479 710.748 L14.479 704.892 L64.0042 704.892 L64.0042 710.748 L14.479 710.748 Z\" fill=\"#000000\" fill-rule=\"nonzero\" fill-opacity=\"1\" /><path clip-path=\"url(#clip010)\" d=\"M44.7161 662.146 L47.5806 662.146 L47.5806 689.073 Q53.6281 688.691 56.8109 685.445 Q59.9619 682.166 59.9619 676.342 Q59.9619 672.968 59.1344 669.817 Q58.3069 666.634 56.6518 663.515 L62.1899 663.515 Q63.5267 666.666 64.227 669.976 Q64.9272 673.286 64.9272 676.692 Q64.9272 685.222 59.9619 690.219 Q54.9967 695.184 46.5303 695.184 Q37.7774 695.184 32.6531 690.473 Q27.4968 685.731 27.4968 677.71 Q27.4968 670.517 32.1438 666.347 Q36.7589 662.146 44.7161 662.146 M42.9973 668.002 Q38.1912 668.066 35.3266 670.708 Q32.4621 673.318 32.4621 677.647 Q32.4621 682.548 35.2312 685.508 Q38.0002 688.436 43.0292 688.882 L42.9973 668.002 Z\" fill=\"#000000\" fill-rule=\"nonzero\" fill-opacity=\"1\" /><path clip-path=\"url(#clip010)\" d=\"M14.5426 617.745 Q21.8632 622.01 29.0246 624.079 Q36.186 626.148 43.5384 626.148 Q50.8908 626.148 58.1159 624.079 Q65.3091 621.978 72.5979 617.745 L72.5979 622.838 Q65.1182 627.612 57.8931 629.999 Q50.668 632.355 43.5384 632.355 Q36.4406 632.355 29.2474 629.999 Q22.0542 627.644 14.5426 622.838 L14.5426 617.745 Z\" fill=\"#000000\" fill-rule=\"nonzero\" fill-opacity=\"1\" /><path clip-path=\"url(#clip010)\" d=\"M19.7307 596.229 Q19.7307 598.775 21.5131 600.526 Q23.2636 602.277 25.8099 602.277 Q28.3244 602.277 30.0749 600.526 Q31.7937 598.775 31.7937 596.229 Q31.7937 593.683 30.0749 591.932 Q28.3244 590.182 25.8099 590.182 Q23.2955 590.182 21.5131 591.964 Q19.7307 593.715 19.7307 596.229 M15.6248 596.229 Q15.6248 594.192 16.4205 592.314 Q17.1844 590.436 18.6485 589.068 Q20.0808 587.604 21.895 586.872 Q23.7092 586.139 25.8099 586.139 Q30.0113 586.139 32.9395 589.1 Q35.8359 592.028 35.8359 596.293 Q35.8359 600.59 32.9713 603.454 Q30.1068 606.319 25.8099 606.319 Q21.5449 606.319 18.5848 603.391 Q15.6248 600.462 15.6248 596.229 Z\" fill=\"#000000\" fill-rule=\"nonzero\" fill-opacity=\"1\" /><path clip-path=\"url(#clip010)\" d=\"M14.5426 574.713 L14.5426 569.62 Q22.0542 564.846 29.2474 562.491 Q36.4406 560.104 43.5384 560.104 Q50.668 560.104 57.8931 562.491 Q65.1182 564.846 72.5979 569.62 L72.5979 574.713 Q65.3091 570.48 58.1159 568.411 Q50.8908 566.31 43.5384 566.31 Q36.186 566.31 29.0246 568.411 Q21.8632 570.48 14.5426 574.713 Z\" fill=\"#000000\" fill-rule=\"nonzero\" fill-opacity=\"1\" /><polyline clip-path=\"url(#clip012)\" style=\"stroke:#009af9; stroke-linecap:round; stroke-linejoin:round; stroke-width:8; stroke-opacity:1; fill:none\" points=\"264.778,1445.72 265.792,1353.74 267.818,1342.47 269.844,1308.68 271.87,1281.37 273.896,1273.35 275.922,1262.12 277.948,1255.7 279.975,1244.49 282.001,1234.88 284.027,1223.68 286.053,1212.5 288.079,1202.91 290.105,1191.74 292.131,1182.18 294.158,1171.03 296.184,1159.89 298.21,1150.36 300.236,1139.25 302.262,1129.73 304.288,1120.23 306.315,1109.16 308.341,1099.68 310.367,1090.21 312.393,1079.18 314.419,1069.73 316.445,1060.3 318.471,1050.89 320.498,1041.48 322.524,1032.09 324.55,1021.15 326.576,1011.79 328.602,1004 330.628,994.663 332.654,985.344 334.681,976.039 336.707,966.749 338.733,959.02 340.759,949.76 342.785,942.057 344.811,932.828 346.838,925.15 348.864,915.953 350.89,908.302 352.916,900.663 354.942,893.038 356.968,885.426 358.994,877.826 361.021,870.241 363.047,862.668 365.073,855.108 367.099,847.562 369.125,841.537 371.151,834.017 373.177,828.012 375.204,820.519 377.23,814.535 379.256,808.561 381.282,801.107 383.308,795.154 385.334,789.211 387.36,784.761 389.387,778.836 391.413,772.921 393.439,767.016 395.465,762.595 397.491,756.709 399.517,752.301 401.544,746.434 403.57,742.04 405.596,737.652 407.622,733.271 409.648,728.897 411.674,724.528 413.7,721.618 415.727,717.26 417.753,714.358 419.779,710.01 421.805,707.115 423.831,704.222 425.857,699.89 427.883,697.005 429.91,695.564 431.936,692.684 433.962,689.806 435.988,686.931 438.014,685.495 440.04,682.625 442.067,681.191 444.093,679.758 446.119,678.326 448.145,676.894 450.171,675.462 452.197,674.032 454.223,672.603 456.25,672.603 458.276,671.174 460.302,671.174 462.328,671.174 464.354,671.174 466.38,671.174 468.406,671.174 470.433,671.174 472.459,671.174 474.485,671.174 476.511,672.603 478.537,672.603 480.563,674.032 482.59,675.462 484.616,676.894 486.642,678.326 488.668,679.758 490.694,681.191 492.72,682.625 494.746,685.495 496.773,686.931 498.799,689.806 500.825,692.684 502.851,695.564 504.877,697.005 506.903,699.89 508.929,704.222 510.956,707.115 512.982,710.01 515.008,714.358 517.034,717.26 519.06,721.618 521.086,724.528 523.113,728.897 525.139,733.271 527.165,737.652 529.191,742.04 531.217,746.434 533.243,752.301 535.269,756.709 537.296,762.595 539.322,767.016 541.348,772.921 543.374,778.836 545.4,784.761 547.426,789.211 549.452,795.154 551.479,801.107 553.505,808.561 555.531,814.535 557.557,820.519 559.583,828.012 561.609,834.017 563.636,841.537 565.662,847.562 567.688,855.108 569.714,862.668 571.74,870.241 573.766,877.826 575.792,885.426 577.819,893.038 579.845,900.663 581.871,908.302 583.897,915.953 585.923,925.15 587.949,932.828 589.975,942.057 592.002,949.76 594.028,959.02 596.054,966.749 598.08,976.039 600.106,985.344 602.132,994.663 604.158,1004 606.185,1011.79 608.211,1021.15 610.237,1032.09 612.263,1041.48 614.289,1050.89 616.315,1060.3 618.342,1069.73 620.368,1079.18 622.394,1090.21 624.42,1099.68 626.446,1109.16 628.472,1120.23 630.498,1129.73 632.525,1139.25 634.551,1150.36 636.577,1159.89 638.603,1171.03 640.629,1182.18 642.655,1191.74 644.681,1202.91 646.708,1212.5 648.734,1223.68 650.76,1234.88 652.786,1244.49 654.812,1255.7 656.838,1266.93 658.865,1278.16 660.891,1287.79 662.917,1299.04 664.943,1310.29 666.969,1319.94 668.995,1331.2 691.283,1318.33 693.309,1303.86 695.335,1289.4 697.361,1276.56 699.388,1262.12 701.414,1249.29 703.44,1236.48 705.466,1222.09 707.492,1209.3 709.518,1194.93 711.544,1182.18 713.571,1167.85 715.597,1155.13 717.623,1142.42 719.649,1128.15 721.675,1115.48 723.701,1102.84 725.727,1090.21 727.754,1077.6 729.78,1063.45 731.806,1050.89 733.832,1038.35 735.858,1025.84 737.884,1013.35 739.911,1000.88 741.937,990.001 743.963,977.588 745.989,965.203 748.015,952.845 750.041,942.057 752.067,929.755 754.094,917.484 756.12,906.773 758.146,896.086 760.172,883.905 762.198,873.273 764.224,862.668 766.25,852.088 768.277,841.537 770.303,831.013 772.329,820.519 774.355,810.054 776.381,801.107 778.407,790.696 780.433,780.316 782.46,771.444 784.486,762.595 786.512,752.301 788.538,743.503 790.564,734.731 792.59,725.984 794.617,717.26 796.643,710.01 798.669,701.333 800.695,692.684 802.721,685.495 804.747,676.894 806.773,669.746 808.8,662.618 810.826,655.51 812.852,648.419 814.878,641.349 816.904,634.298 818.93,628.673 820.956,621.659 822.983,616.062 825.009,609.085 827.035,603.52 829.061,597.966 831.087,592.427 833.113,586.901 835.14,582.765 837.166,577.263 839.192,573.146 841.218,567.669 843.244,563.57 845.27,559.479 847.296,555.397 849.323,551.322 851.349,548.611 853.375,544.55 855.401,541.847 857.427,537.799 859.453,535.106 861.479,532.415 863.506,529.729 865.532,528.388 867.558,525.707 869.584,523.03 871.61,521.693 873.636,520.357 875.663,517.688 877.689,516.355 879.715,516.355 881.741,515.023 883.767,513.691 885.793,513.691 887.819,512.361 889.846,512.361 891.872,512.361 893.898,512.361 895.924,512.361 897.95,513.691 899.976,513.691 902.002,515.023 904.029,516.355 906.055,516.355 908.081,517.688 910.107,520.357 912.133,521.693 914.159,523.03 916.186,525.707 918.212,528.388 920.238,529.729 922.264,532.415 924.29,535.106 926.316,537.799 928.342,541.847 930.369,544.55 932.395,548.611 934.421,551.322 936.447,555.397 938.473,559.479 940.499,563.57 942.525,567.669 944.552,573.146 946.578,577.263 948.604,582.765 950.63,586.901 952.656,592.427 954.682,597.966 956.709,603.52 958.735,609.085 960.761,616.062 962.787,621.659 964.813,628.673 966.839,634.298 968.865,641.349 970.892,648.419 972.918,655.51 974.944,662.618 976.97,669.746 978.996,676.894 981.022,685.495 983.048,692.684 985.075,701.333 987.101,710.01 989.127,717.26 991.153,725.984 993.179,734.731 995.205,743.503 997.231,752.301 999.258,762.595 1001.28,771.444 1003.31,780.316 1005.34,790.696 1007.36,801.107 1009.39,810.054 1011.41,820.519 1013.44,831.013 1015.47,841.537 1017.49,852.088 1019.52,862.668 1021.55,873.273 1023.57,883.905 1025.6,896.086 1027.62,906.773 1029.65,917.484 1031.68,929.755 1033.7,942.057 1035.73,952.845 1037.75,965.203 1039.78,977.588 1041.81,990.001 1043.83,1000.88 1045.86,1013.35 1047.89,1025.84 1049.91,1038.35 1051.94,1050.89 1053.96,1063.45 1055.99,1077.6 1058.02,1090.21 1060.04,1102.84 1062.07,1115.48 1064.09,1128.15 1066.12,1142.42 1068.15,1155.13 1070.17,1167.85 1072.2,1182.18 1074.23,1194.93 1076.25,1209.3 1078.28,1222.09 1080.3,1236.48 1082.33,1249.29 1084.36,1262.12 1086.38,1276.56 1088.41,1289.4 1090.43,1303.86 1092.46,1318.33 1094.49,1331.2 1116.77,1308.68 1118.8,1284.58 1120.83,1260.51 1122.85,1238.08 1124.88,1214.09 1126.91,1191.74 1128.93,1167.85 1130.96,1145.6 1132.98,1121.81 1135.01,1099.68 1137.04,1076.03 1139.06,1054.02 1141.09,1032.09 1143.11,1010.23 1145.14,986.896 1147.17,965.203 1149.19,943.597 1151.22,922.082 1153.25,900.663 1155.27,879.346 1157.3,858.13 1159.32,838.528 1161.35,817.526 1163.38,796.641 1165.4,777.356 1167.43,756.709 1169.45,737.652 1171.48,718.712 1173.51,699.89 1175.53,681.191 1177.56,662.618 1179.58,644.175 1181.61,625.865 1183.64,607.692 1185.66,591.044 1187.69,573.146 1189.72,556.756 1191.74,540.497 1193.77,524.368 1195.79,508.376 1197.82,493.837 1199.85,478.112 1201.87,462.531 1203.9,448.377 1205.92,434.349 1207.95,420.45 1209.98,406.682 1212,393.046 1214.03,380.767 1216.06,368.602 1218.08,355.354 1220.11,343.436 1222.13,331.634 1224.16,319.955 1226.19,309.549 1228.21,299.243 1230.24,287.911 1232.26,277.823 1234.29,267.837 1236.32,259.052 1238.34,249.269 1240.37,240.665 1242.4,232.146 1244.42,223.717 1246.45,215.375 1248.47,208.149 1250.5,199.975 1252.53,192.9 1254.55,185.893 1256.58,179.942 1258.6,173.07 1260.63,167.235 1262.66,161.453 1264.68,155.725 1266.71,150.051 1268.74,145.365 1270.76,139.792 1272.79,135.188 1274.81,130.624 1276.84,127.001 1278.87,122.507 1280.89,118.939 1282.92,115.397 1284.94,112.756 1286.97,109.259 1289,106.652 1291.02,104.06 1293.05,101.481 1295.08,98.9176 1297.1,97.2162 1299.13,95.5216 1301.15,93.8336 1303.18,92.1514 1305.21,91.3141 1307.23,89.6415 1309.26,88.8086 1311.28,87.9763 1313.31,87.9763 1315.34,87.9763 1317.36,87.9763 1319.39,87.9763 1321.42,87.9763 1323.44,87.9763 1325.47,88.8086 1327.49,89.6415 1329.52,91.3141 1331.55,92.1514 1333.57,93.8336 1335.6,95.5216 1337.62,97.2162 1339.65,98.9176 1341.68,101.481 1343.7,104.06 1345.73,106.652 1347.76,109.259 1349.78,112.756 1351.81,115.397 1353.83,118.939 1355.86,122.507 1357.89,127.001 1359.91,130.624 1361.94,135.188 1363.96,139.792 1365.99,145.365 1368.02,150.051 1370.04,155.725 1372.07,161.453 1374.1,167.235 1376.12,173.07 1378.15,179.942 1380.17,185.893 1382.2,192.9 1384.23,199.975 1386.25,208.149 1388.28,215.375 1390.3,223.717 1392.33,232.146 1394.36,240.665 1396.38,249.269 1398.41,259.052 1400.44,267.837 1402.46,277.823 1404.49,287.911 1406.51,299.243 1408.54,309.549 1410.57,319.955 1412.59,331.634 1414.62,343.436 1416.64,355.354 1418.67,368.602 1420.7,380.767 1422.72,393.046 1424.75,406.682 1426.78,420.45 1428.8,434.349 1430.83,448.377 1432.85,462.531 1434.88,478.112 1436.91,493.837 1438.93,508.376 1440.96,524.368 1442.98,540.497 1445.01,556.756 1447.04,573.146 1449.06,591.044 1451.09,607.692 1453.12,625.865 1455.14,644.175 1457.17,662.618 1459.19,681.191 1461.22,699.89 1463.25,718.712 1465.27,737.652 1467.3,756.709 1469.32,777.356 1471.35,796.641 1473.38,817.526 1475.4,838.528 1477.43,858.13 1479.46,879.346 1481.48,900.663 1483.51,922.082 1485.53,943.597 1487.56,965.203 1489.59,986.896 1491.61,1010.23 1493.64,1032.09 1495.66,1054.02 1497.69,1076.03 1499.72,1099.68 1501.74,1121.81 1503.77,1145.6 1505.8,1167.85 1507.82,1191.74 1509.85,1214.09 1511.87,1238.08 1513.9,1260.51 1515.93,1284.58 1517.95,1308.68 1519.98,1331.2 1540.24,1316.72 1542.27,1302.25 1544.29,1287.79 1546.32,1273.35 1548.34,1258.91 1550.37,1244.49 1552.4,1230.08 1554.42,1215.69 1556.45,1201.32 1558.47,1188.55 1560.5,1174.21 1562.53,1159.89 1564.55,1145.6 1566.58,1131.32 1568.61,1118.65 1570.63,1104.42 1572.66,1090.21 1574.68,1077.6 1576.71,1063.45 1578.74,1050.89 1580.76,1036.78 1582.79,1022.71 1584.81,1010.23 1586.84,997.773 1588.87,983.792 1590.89,971.392 1592.92,959.02 1594.95,946.677 1596.97,934.365 1599,922.082 1601.02,909.831 1603.05,897.611 1605.08,885.426 1607.1,873.273 1609.13,862.668 1611.15,850.579 1613.18,838.528 1615.21,828.012 1617.23,816.03 1619.26,805.577 1621.29,795.154 1623.31,784.761 1625.34,774.398 1627.36,764.068 1629.39,753.77 1631.42,743.503 1633.44,733.271 1635.47,724.528 1637.49,714.358 1639.52,705.668 1641.55,697.005 1643.57,686.931 1645.6,678.326 1647.63,671.174 1649.65,662.618 1651.68,654.09 1653.7,645.589 1655.73,637.116 1657.76,630.078 1659.78,623.06 1661.81,614.665 1663.83,609.085 1665.86,600.741 1667.89,595.195 1669.91,588.281 1671.94,581.388 1673.97,575.89 1675.99,569.037 1678.02,563.57 1680.04,558.117 1682.07,552.68 1684.1,547.256 1686.12,541.847 1688.15,537.799 1690.17,532.415 1692.2,528.388 1694.23,524.368 1696.25,519.023 1698.28,516.355 1700.31,512.361 1702.33,508.376 1704.36,504.4 1706.38,501.753 1708.41,499.11 1710.44,495.154 1712.46,492.522 1714.49,489.892 1716.51,488.579 1718.54,485.957 1720.57,484.647 1722.59,482.03 1724.62,480.722 1726.65,479.417 1728.67,478.112 1730.7,476.807 1732.72,476.807 1734.75,475.504 1736.78,475.504 1738.8,475.504 1740.83,475.504 1742.85,475.504 1744.88,475.504 1746.91,475.504 1748.93,476.807 1750.96,476.807 1752.99,478.112 1755.01,479.417 1757.04,480.722 1759.06,482.03 1761.09,484.647 1763.12,485.957 1765.14,488.579 1767.17,489.892 1769.19,492.522 1771.22,495.154 1773.25,499.11 1775.27,501.753 1777.3,504.4 1779.33,508.376 1781.35,512.361 1783.38,516.355 1785.4,519.023 1787.43,524.368 1789.46,528.388 1791.48,532.415 1793.51,537.799 1795.53,541.847 1797.56,547.256 1799.59,552.68 1801.61,558.117 1803.64,563.57 1805.67,569.037 1807.69,575.89 1809.72,581.388 1811.74,588.281 1813.77,595.195 1815.8,600.741 1817.82,609.085 1819.85,614.665 1821.87,623.06 1823.9,630.078 1825.93,637.116 1827.95,645.589 1829.98,654.09 1832.01,662.618 1834.03,671.174 1836.06,678.326 1838.08,686.931 1840.11,697.005 1842.14,705.668 1844.16,714.358 1846.19,724.528 1848.21,733.271 1850.24,743.503 1852.27,753.77 1854.29,764.068 1856.32,774.398 1858.35,784.761 1860.37,795.154 1862.4,805.577 1864.42,816.03 1866.45,828.012 1868.48,838.528 1870.5,850.579 1872.53,862.668 1874.55,873.273 1876.58,885.426 1878.61,897.611 1880.63,909.831 1882.66,922.082 1884.68,934.365 1886.71,946.677 1888.74,959.02 1890.76,971.392 1892.79,983.792 1894.82,997.773 1896.84,1010.23 1898.87,1022.71 1900.89,1036.78 1902.92,1050.89 1904.95,1063.45 1906.97,1077.6 1909,1090.21 1911.02,1104.42 1913.05,1118.65 1915.08,1131.32 1917.1,1145.6 1919.13,1159.89 1921.16,1174.21 1923.18,1188.55 1925.21,1201.32 1927.23,1215.69 1929.26,1230.08 1931.29,1244.49 1933.31,1258.91 1935.34,1273.35 1937.36,1287.79 1939.39,1302.25 1941.42,1316.72 1943.44,1331.2 1967.76,1323.16 1969.78,1315.12 1971.81,1307.08 1973.84,1299.04 1975.86,1291.01 1977.89,1282.98 1979.91,1276.56 1981.94,1268.53 1983.97,1260.51 1985.99,1252.5 1988.02,1244.49 1990.04,1236.48 1992.07,1228.48 1994.1,1220.49 1996.12,1214.09 1998.15,1206.11 2000.18,1198.12 2002.2,1190.15 2004.23,1183.77 2006.25,1175.81 2008.28,1167.85 2010.31,1161.48 2012.33,1153.54 2014.36,1145.6 2016.38,1139.25 2018.41,1131.32 2020.44,1124.98 2022.46,1117.07 2024.49,1110.74 2026.52,1102.84 2028.54,1096.52 2030.57,1090.21 2032.59,1082.33 2034.62,1076.03 2036.65,1069.73 2038.67,1063.45 2040.7,1057.16 2042.72,1049.32 2044.75,1043.05 2046.78,1036.78 2048.8,1030.52 2050.83,1025.84 2052.86,1018.03 2054.88,1013.35 2056.91,1007.11 2058.93,1000.88 2060.96,996.218 2062.99,990.001 2065.01,983.792 2067.04,979.139 2069.06,972.94 2071.09,968.296 2073.12,963.656 2075.14,957.475 2077.17,952.845 2079.2,948.218 2081.22,943.597 2083.25,938.979 2085.27,934.365 2087.3,929.755 2089.33,925.15 2091.35,920.549 2093.38,915.953 2095.4,912.891 2097.43,908.302 2099.46,903.716 2101.48,900.663 2103.51,897.611 2105.54,893.038 2107.56,889.992 2109.59,886.947 2111.61,883.905 2113.64,880.865 2115.67,877.826 2117.69,874.791 2119.72,871.757 2121.74,868.725 2123.77,865.695 2125.8,864.181 2127.82,861.155 2129.85,859.642 2131.88,856.619 2133.9,855.108 2135.93,853.598 2137.95,852.088 2139.98,849.071 2142.01,847.562 2144.03,846.056 2146.06,844.549 2148.08,844.549 2150.11,843.043 2152.14,841.537 2154.16,841.537 2156.19,840.032 2158.22,840.032 2160.24,838.528 2162.27,838.528 2164.29,838.528 2166.32,838.528 2168.35,838.528 2170.37,838.528 2172.4,838.528 2174.42,838.528 2176.45,838.528 2178.48,840.032 2180.5,840.032 2182.53,841.537 2184.56,841.537 2186.58,843.043 2188.61,844.549 2190.63,844.549 2192.66,846.056 2194.69,847.562 2196.71,849.071 2198.74,852.088 2200.76,853.598 2202.79,855.108 2204.82,856.619 2206.84,859.642 2208.87,861.155 2210.9,864.181 2212.92,865.695 2214.95,868.725 2216.97,871.757 2219,874.791 2221.03,877.826 2223.05,880.865 2225.08,883.905 2227.1,886.947 2229.13,889.992 2231.16,893.038 2233.18,897.611 2235.21,900.663 2237.23,903.716 2239.26,908.302 2241.29,912.891 2243.31,915.953 2245.34,920.549 2247.37,925.15 2249.39,929.755 2251.42,934.365 2253.44,938.979 2255.47,943.597 2257.5,948.218 2259.52,952.845 2261.55,957.475 2263.57,963.656 2265.6,968.296 2267.63,972.94 2269.65,979.139 2271.68,983.792 2273.71,990.001 2275.73,996.218 2277.76,1000.88 2279.78,1007.11 2281.81,1013.35 2283.84,1018.03 2285.86,1025.84 2287.89,1030.52 2289.91,1036.78 2291.94,1445.72 \"/>\n",
       "<path clip-path=\"url(#clip010)\" d=\"M2013.82 198.898 L2281.13 198.898 L2281.13 95.2176 L2013.82 95.2176  Z\" fill=\"#ffffff\" fill-rule=\"evenodd\" fill-opacity=\"1\"/>\n",
       "<polyline clip-path=\"url(#clip010)\" style=\"stroke:#000000; stroke-linecap:round; stroke-linejoin:round; stroke-width:4; stroke-opacity:1; fill:none\" points=\"2013.82,198.898 2281.13,198.898 2281.13,95.2176 2013.82,95.2176 2013.82,198.898 \"/>\n",
       "<polyline clip-path=\"url(#clip010)\" style=\"stroke:#009af9; stroke-linecap:round; stroke-linejoin:round; stroke-width:8; stroke-opacity:1; fill:none\" points=\"2037.7,147.058 2180.95,147.058 \"/>\n",
       "<path clip-path=\"url(#clip010)\" d=\"M2218.67 166.745 Q2216.86 171.375 2215.15 172.787 Q2213.43 174.199 2210.56 174.199 L2207.16 174.199 L2207.16 170.634 L2209.66 170.634 Q2211.42 170.634 2212.39 169.8 Q2213.37 168.967 2214.55 165.865 L2215.31 163.921 L2204.82 138.412 L2209.34 138.412 L2217.44 158.689 L2225.54 138.412 L2230.06 138.412 L2218.67 166.745 Z\" fill=\"#000000\" fill-rule=\"nonzero\" fill-opacity=\"1\" /><path clip-path=\"url(#clip010)\" d=\"M2237.35 160.402 L2244.99 160.402 L2244.99 134.037 L2236.68 135.703 L2236.68 131.444 L2244.94 129.778 L2249.62 129.778 L2249.62 160.402 L2257.25 160.402 L2257.25 164.338 L2237.35 164.338 L2237.35 160.402 Z\" fill=\"#000000\" fill-rule=\"nonzero\" fill-opacity=\"1\" /></svg>\n"
      ]
     },
     "metadata": {},
     "output_type": "display_data"
    }
   ],
   "source": [
    "plot(rf_indices, fa_degrees,\n",
    "    #xlabel=\"Event Index\",\n",
    "    ylabel=\"Flip Angle (°)\",\n",
    "    #title=\"Flip Angles from Nonzero RF Events\",\n",
    "    lw=2)"
   ]
  },
  {
   "cell_type": "code",
   "execution_count": null,
   "id": "f6075a9e",
   "metadata": {},
   "outputs": [],
   "source": []
  }
 ],
 "metadata": {
  "kernelspec": {
   "display_name": "Julia 1.11.3",
   "language": "julia",
   "name": "julia-1.11"
  },
  "language_info": {
   "file_extension": ".jl",
   "mimetype": "application/julia",
   "name": "julia",
   "version": "1.11.3"
  }
 },
 "nbformat": 4,
 "nbformat_minor": 5
}
