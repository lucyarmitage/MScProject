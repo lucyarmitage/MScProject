{
 "cells": [
  {
   "cell_type": "code",
   "execution_count": null,
   "id": "5aa9c4e3",
   "metadata": {},
   "outputs": [],
   "source": [
    "using KomaMRI, Plots, Unitful, MAT\n",
    "\n",
    "seq = read_seq(\"Sequences/mpf_001_PhantomStudy_short.seq\")"
   ]
  },
  {
   "cell_type": "code",
   "execution_count": null,
   "id": "48f93aad",
   "metadata": {},
   "outputs": [],
   "source": [
    "plot_seq(seq; range=[0,40], height=400)"
   ]
  },
  {
   "cell_type": "code",
   "execution_count": null,
   "id": "1765eddb",
   "metadata": {},
   "outputs": [],
   "source": [
    "function simulate_slice_profile_x(\n",
    "    seq::Sequence; x=range(-2.e-2, 2.e-2, 200), sim_params=Dict{String,Any}(\"Δt_rf\" => 1e-6)\n",
    ")\n",
    "    sim_params[\"return_type\"] = \"state\"\n",
    "    sys = Scanner()\n",
    "    obj = Phantom{Float64}(; x=Array(x), z=zeros(size(x)))\n",
    "    mag = simulate(obj, seq, sys; sim_params)\n",
    "    return mag\n",
    "end"
   ]
  },
  {
   "cell_type": "code",
   "execution_count": null,
   "id": "a39923c8",
   "metadata": {},
   "outputs": [],
   "source": [
    "begin\n",
    "    fa_degrees = Float64[]\n",
    "    rf_indices = Int[]\n",
    "\n",
    "    x = -0.01:0.0001:0.01\n",
    "    Δx = x[2] - x[1]\n",
    "    slice_thickness = 5e-3\n",
    "\n",
    "    start_index = 3\n",
    "    step_size = 2\n",
    "    num_pulses = 1000\n",
    "\n",
    "    for k in 0:num_pulses-1\n",
    "        i = start_index + k * step_size  \n",
    "\n",
    "        rf_event = seq[i]\n",
    "        M = simulate_slice_profile_x(rf_event; x=x)\n",
    "        Mxy = M.xy\n",
    "\n",
    "        integral_Mxy = sum(Mxy) * Δx\n",
    "        magnitude_integral = abs(integral_Mxy)\n",
    "\n",
    "        α_rad = asin(clamp(magnitude_integral / slice_thickness, -1.0, 1.0))\n",
    "        α_deg = α_rad * 180 / π\n",
    "\n",
    "        push!(fa_degrees, α_deg)\n",
    "        push!(rf_indices, i)\n",
    "    end\n",
    "end"
   ]
  },
  {
   "cell_type": "code",
   "execution_count": null,
   "id": "84cb9ff8",
   "metadata": {},
   "outputs": [],
   "source": [
    "matfile = matopen(\"FApattern.mat\")\n",
    "FA = read(matfile, \"FA\")\n",
    "close(matfile)\n",
    "\n",
    "FA = vec(FA)\n",
    "\n",
    "plot(fa_degrees,\n",
    "    label = \"Simulated\",\n",
    "    xlabel = \"Pulse Number\",\n",
    "    ylabel = \"Flip Angle (degrees)\",\n",
    "    linewidth = 2,\n",
    "    grid = true,\n",
    "    legend = :topright\n",
    ")\n",
    "\n",
    "plot!(FA,\n",
    "    label = \"Prescribed\",\n",
    "    linewidth = 2,\n",
    "    linestyle = :dash\n",
    ")"
   ]
  }
 ],
 "metadata": {
  "kernelspec": {
   "display_name": "Julia 1.11.3",
   "language": "julia",
   "name": "julia-1.11"
  },
  "language_info": {
   "file_extension": ".jl",
   "mimetype": "application/julia",
   "name": "julia",
   "version": "1.11.3"
  }
 },
 "nbformat": 4,
 "nbformat_minor": 5
}
